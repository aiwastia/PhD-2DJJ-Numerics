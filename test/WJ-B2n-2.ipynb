{
 "cells": [
  {
   "cell_type": "code",
   "execution_count": 2,
   "metadata": {},
   "outputs": [],
   "source": [
    "import numpy as np\n",
    "import sympy, scipy, cmath\n",
    "from sympy import *\n",
    "#from sympy import symbols\n",
    "#from sympy.solvers.solveset import nonlinsolve\n",
    "from scipy import sparse as sp\n",
    "#from scipy import linalg as ln\n",
    "from scipy import optimize as opt\n",
    "from scipy.sparse import  coo_matrix as cmm\n",
    "from matplotlib import pyplot as pp"
   ]
  },
  {
   "cell_type": "markdown",
   "metadata": {},
   "source": [
    "PLOTS OF THE GAP THROUGH THE WHOLE SPECTRUM vs MAGNETIC FIELD. Bmin AND Bmax ARE THE VALUES WHERE THE GAP CLOSES IN K=0."
   ]
  },
  {
   "cell_type": "code",
   "execution_count": null,
   "metadata": {},
   "outputs": [],
   "source": []
  },
  {
   "cell_type": "code",
   "execution_count": 62,
   "metadata": {},
   "outputs": [],
   "source": [
    "#Parameters\n",
    "#default values: mu=1.8 m=.5 t=3 alR=.7 B=3.07 delta=.5 phi=Pi\n",
    "\n",
    "kx=0.\n",
    "\n",
    "mu=30.\n",
    "muSC=300.\n",
    "m=.5\n",
    "t=1.\n",
    "alR=0.\n",
    "B=3.07\n",
    "delta=.5\n",
    "phi=np.pi*0\n",
    "\n",
    "def mut(kx):\n",
    "    return mu-2*t-kx**2/(2*m)-alR**2*m/2\n",
    "def kF(mu):\n",
    "    return cmath.sqrt(2*m*mu)\n",
    "def a(t):\n",
    "    return 1/cmath.sqrt(2*m*t)\n",
    "\n",
    "def delL(phi):\n",
    "    return delta*cmath.exp(1j*phi/2)\n",
    "def delR(phi):\n",
    "    return delta*cmath.exp(-1j*phi/2)\n",
    "def nu0(m):\n",
    "    return m/(2*np.pi)\n",
    "def xiE(En):\n",
    "    return kF(mu)/(m*cmath.sqrt(delta**2-En**2))\n",
    "\n",
    "tL=1.\n",
    "tR=tL\n",
    "\n",
    "NJ=14\n",
    "gamma=np.pi*nu0(m)*tL**2\n",
    "\n",
    "theta=np.arctan(alR/2/a(t)/t)\n",
    "\n",
    "#matrix tools\n",
    "eye2=np.eye(2)\n",
    "eye4=np.eye(4)\n",
    "s1=[[0,1],[1,0]]\n",
    "s2=[[0,-1j],[1j,0]]\n",
    "s3=[[1,0],[0,-1]]\n",
    "tP=np.kron([[0,1],[0,0]],eye2)\n",
    "tM=np.kron([[0,0],[1,0]],eye2)\n",
    "t3=np.kron(s3,eye2)"
   ]
  },
  {
   "cell_type": "code",
   "execution_count": 63,
   "metadata": {},
   "outputs": [
    {
     "data": {
      "text/plain": [
       "0.25"
      ]
     },
     "execution_count": 63,
     "metadata": {},
     "output_type": "execute_result"
    }
   ],
   "source": [
    "gamma"
   ]
  },
  {
   "cell_type": "code",
   "execution_count": 49,
   "metadata": {},
   "outputs": [],
   "source": [
    "#Junction\n",
    "def HJ0(kx,B):\n",
    "    return -mut(kx)*t3+alR*kx*np.kron(s3,s2)+B*np.kron(eye2,s1)\n",
    "def Hy(alR):\n",
    "    return -t*t3+1j*alR/2/a(t)*np.kron(s3,s1)\n",
    "\n",
    "\n",
    "def HJ(kx,B):\n",
    "    start=cmm(HJ0(kx,B))\n",
    "    HJs=start\n",
    "    for n in range(0,NJ-1):\n",
    "        OT=cmm(np.zeros([len(HJs.toarray())-4,4]))\n",
    "        BT=sp.vstack([OT,cmm(Hy(alR))])\n",
    "        CT=sp.hstack([OT.transpose(),cmm(Hy(alR).conj().T),start])\n",
    "        HJs=sp.hstack([HJs,BT])\n",
    "        HJs=sp.vstack([HJs,CT])\n",
    "    return HJs\n",
    "\n",
    "def gJm1(En,kx,B):\n",
    "    return En*np.eye(4*NJ)-HJ(kx,B).toarray()\n",
    "\n",
    "#Superconductors\n",
    "# xiE-> infty to avoid more symbolic:\n",
    "#def fL(kx):\n",
    "#    return 1/(kF*a)*(np.log(1-np.exp(1j*a*(kF+kx)))+np.log(1-np.exp(1j*a*(kF-kx))))-1j\n",
    "\n",
    "def fL(En,kx):\n",
    "    return 1/(kF(mu)*a(t))*(cmath.log(1-cmath.exp(-a(t)/xiE(En)+1j*a(t)*(kF(mu)+kx)))+\\\n",
    "                         cmath.log(1-cmath.exp(-a(t)/xiE(En)+1j*a(t)*(kF(mu)-kx))))-1j\n",
    "\n",
    "def gSC1m1(En,kx,phi):\n",
    "    return -1/(np.pi*nu0(m)*abs(fL(En,kx))**2)*((En*eye4 - delL(phi)*tP - np.conj(delL(phi))*tM)*\\\n",
    "                                                 fL(En,kx).imag/cmath.sqrt(delta**2 - En**2) - fL(En,kx).real*t3)\n",
    "\n",
    "def gSC2m1(En,kx,phi):\n",
    "    return -1/(np.pi*nu0(m)*abs(fL(En,kx))**2)*((En*eye4 - delR(phi)*tP - np.conj(delR(phi))*tM)*\\\n",
    "                                                 fL(En,kx).imag/cmath.sqrt(delta**2 - En**2) - fL(En,kx).real*t3)\n",
    "\n",
    "#SC/J coupling\n",
    "rowindex=np.array([1,2,3,4,4*NJ+1,4*NJ+2,4*NJ+3,4*NJ+4])-1\n",
    "colindex=np.array([5,6,7,8,4*(NJ+1)+1,4*(NJ+1)+2,4*(NJ+1)+3,4*(NJ+1)+4])-1\n",
    "hoppings=[tL,tL,-tL,-tL,tR,tR,-tR,-tR]\n",
    "mHt1=cmm((hoppings,(rowindex,colindex)),shape=(4*(NJ+2),4*(NJ+2)))\n",
    "mHt=mHt1+mHt1.transpose()\n",
    "\n",
    "#total inverse GF\n",
    "def Gtotm1(En,kx,phi,B):\n",
    "    return scipy.linalg.block_diag(gSC1m1(En,kx,phi),gJm1(En,kx,B),gSC2m1(En,kx,phi))+mHt.toarray()"
   ]
  },
  {
   "cell_type": "code",
   "execution_count": null,
   "metadata": {},
   "outputs": [],
   "source": []
  },
  {
   "cell_type": "markdown",
   "metadata": {},
   "source": [
    "ko=np.linspace(0,6,1000)\n",
    "kop=[fdetB(opq) for opq in ko]"
   ]
  },
  {
   "cell_type": "markdown",
   "metadata": {},
   "source": [
    "pp.plot(ko,kop)\n",
    "pp.axis([0.7,0.8,-10**-23,10**-23])"
   ]
  },
  {
   "cell_type": "markdown",
   "metadata": {},
   "source": [
    "kop"
   ]
  },
  {
   "cell_type": "code",
   "execution_count": null,
   "metadata": {},
   "outputs": [],
   "source": []
  },
  {
   "cell_type": "code",
   "execution_count": 66,
   "metadata": {
    "scrolled": true
   },
   "outputs": [
    {
     "name": "stdout",
     "output_type": "stream",
     "text": [
      "0\n",
      "[26.043982]\n",
      "1\n",
      "[26.043982]\n",
      "2\n",
      "[26.043982]\n",
      "3\n",
      "[26.043982]\n",
      "4\n",
      "[26.043982]\n",
      "5\n",
      "[26.043982]\n",
      "6\n",
      "[26.043982]\n",
      "7\n",
      "[26.043982]\n",
      "8\n",
      "[26.043982]\n",
      "9\n",
      "[26.043982]\n",
      "10\n",
      "[26.043982]\n",
      "11\n",
      "[26.173971]\n",
      "12\n",
      "[26.173971]\n",
      "13\n",
      "[26.384189]\n",
      "14\n",
      "[26.384189]\n",
      "15\n",
      "[26.665301]\n",
      "16\n",
      "[26.665301]\n",
      "17\n",
      "[26.665301]\n",
      "18\n",
      "[27.38784]\n",
      "19\n",
      "[27.004853]\n",
      "20\n",
      "[27.004853]\n",
      "21\n",
      "[27.004853]\n",
      "22\n",
      "[27.38784]\n",
      "23\n",
      "[27.38784]\n",
      "24\n",
      "[27.38784]\n",
      "25\n",
      "[27.38784]\n",
      "26\n",
      "[27.797391]\n",
      "27\n",
      "[27.797391]\n",
      "28\n",
      "[27.797391]\n",
      "29\n",
      "[27.797391]\n",
      "30\n",
      "[28.21553]\n",
      "31\n",
      "[28.21553]\n",
      "32\n",
      "[28.21553]\n",
      "33\n",
      "[28.21553]\n",
      "34\n",
      "[28.623977]\n",
      "35\n",
      "[28.623977]\n",
      "36\n",
      "[28.623977]\n",
      "37\n",
      "[28.623977]\n",
      "38\n",
      "[29.004946]\n",
      "39\n",
      "[29.004946]\n",
      "40\n",
      "[29.004946]\n",
      "41\n",
      "[27.797391]\n",
      "42\n",
      "[29.341915]\n",
      "43\n",
      "[29.341915]\n",
      "44\n",
      "[29.004946]\n",
      "45\n",
      "[29.620326]\n",
      "46\n",
      "[29.620326]\n",
      "47\n",
      "[29.828191]\n",
      "48\n",
      "[29.828191]\n",
      "49\n",
      "[29.956583]\n"
     ]
    }
   ],
   "source": [
    "En=0\n",
    "\n",
    "def fdetB(B):\n",
    "    return np.linalg.det(Gtotm1(En,kx,phi,B))/norm\n",
    "\n",
    "Bmin=25.\n",
    "Bmax=30.\n",
    "Barray=[]\n",
    "x0roots=np.linspace(Bmin,Bmax,np.int((Bmax-Bmin)/.1))\n",
    "#norm=max(max(mu,t,alR,delta,tL**2)**((2*t+mu)*(NJ+2)),Bmax**(4*(NJ+2)))\n",
    "#norm=(t**((4.*t+mu)*(NJ+2)))\n",
    "norm=10.**100\n",
    "for i in range(len(x0roots)):\n",
    "    print(i)\n",
    "    x0=x0roots[i]\n",
    "    solekx=opt.fsolve(fdetB,np.asarray(x0))\n",
    "    if abs(fdetB(solekx))>norm/10**5 or solekx<=0:# or solekx>2*np.pi+0.1 :\n",
    "        solekx=[]\n",
    "    solekx=np.ndarray.tolist(np.around(solekx,6))\n",
    "    print(solekx)\n",
    "    Barray.extend(solekx)\n",
    "Barray=sorted(list(set(Barray)))"
   ]
  },
  {
   "cell_type": "markdown",
   "metadata": {},
   "source": [
    "Barray=sorted(list(set(Barray)))"
   ]
  },
  {
   "cell_type": "code",
   "execution_count": 1040,
   "metadata": {},
   "outputs": [],
   "source": [
    "Barray2=[0.288435, 0.795383, 1.1116, 1.625278, 2.076925, 3.481266, 4.927178, 6.330717, 7.610491, 8.692273, 9.513272, 10.025783]\n",
    "#Barray=[0.1186,0.5411,0.7734,1.1055,1.5109,1.7271,2.2275,2.9952,3.7386,4.4260,5.0298,5.5262,5.8955,6.1231]\n",
    "#Barray2.extend([10.0472])"
   ]
  },
  {
   "cell_type": "code",
   "execution_count": 67,
   "metadata": {},
   "outputs": [
    {
     "name": "stdout",
     "output_type": "stream",
     "text": [
      "14\n",
      "[26.043982, 26.173971, 26.384189, 26.665301, 27.004853, 27.38784, 27.797391, 28.21553, 28.623977, 29.004946, 29.341915, 29.620326, 29.828191, 29.956583]\n"
     ]
    }
   ],
   "source": [
    "print(len(Barray))\n",
    "print(Barray)"
   ]
  },
  {
   "cell_type": "code",
   "execution_count": 70,
   "metadata": {},
   "outputs": [
    {
     "data": {
      "text/plain": [
       "140.5285636854088"
      ]
     },
     "execution_count": 70,
     "metadata": {},
     "output_type": "execute_result"
    }
   ],
   "source": [
    "t*np.pi**2/(4*NJ**2)*(1+4*15)**2"
   ]
  },
  {
   "cell_type": "code",
   "execution_count": 862,
   "metadata": {},
   "outputs": [],
   "source": [
    "Barray2.append(11.51331)\n",
    "#Barray=[0.0937206766, 1.3330034582, 1.9159320284, 4.1839446374, 6.4621342756, 8.4120038978, 9.7319709969]"
   ]
  },
  {
   "cell_type": "code",
   "execution_count": 25,
   "metadata": {},
   "outputs": [],
   "source": [
    "Barray=Barray2"
   ]
  },
  {
   "cell_type": "code",
   "execution_count": 57,
   "metadata": {},
   "outputs": [],
   "source": [
    "Barray[5:6]=[]"
   ]
  },
  {
   "cell_type": "code",
   "execution_count": 24,
   "metadata": {},
   "outputs": [],
   "source": [
    "Barray2.insert(1,0.42)"
   ]
  },
  {
   "cell_type": "code",
   "execution_count": 419,
   "metadata": {},
   "outputs": [
    {
     "name": "stdout",
     "output_type": "stream",
     "text": [
      "(0.9649052079556503+0j)\n"
     ]
    }
   ],
   "source": [
    "theta=np.arctan(alR/2/a(t)/t)\n",
    "print(theta)"
   ]
  },
  {
   "cell_type": "code",
   "execution_count": 68,
   "metadata": {},
   "outputs": [
    {
     "name": "stdout",
     "output_type": "stream",
     "text": [
      "ALL transitions shown\n"
     ]
    },
    {
     "data": {
      "text/plain": [
       "<matplotlib.legend.Legend at 0x7f1c1472be10>"
      ]
     },
     "execution_count": 68,
     "metadata": {},
     "output_type": "execute_result"
    },
    {
     "data": {
      "image/png": "[encoded data removed]",
      "text/plain": [
       "<Figure size 1440x720 with 1 Axes>"
      ]
     },
     "metadata": {},
     "output_type": "display_data"
    }
   ],
   "source": [
    "pp.figure(figsize=(20,10))\n",
    "\n",
    "pp.plot(Barray,range(1,len(Barray)+1),'.',label='numerical')\n",
    "if len(Barray)==NJ:\n",
    "    print(\"ALL transitions shown\")\n",
    "else:\n",
    "    print(\"{} MISSING transitions\".format(NJ-len(Barray)))\n",
    "\n",
    "oppp=range(1,len(Barray)+1)\n",
    "\n",
    "oppD=[abs(mut(kx)+np.sqrt((2*t)**2+(alR/a(t))**2)*np.cos(n*np.pi/(NJ+1)))\n",
    "    for n in oppp]\n",
    "oppD=sorted(oppD)\n",
    "\n",
    "#oppDD=[np.sqrt((mut(kx)+np.sqrt((2*t)**2+(alR/a(t))**2)*np.cos(n*np.pi/(NJ+1)))**2-(alR*kx)**2)\n",
    "#    for n in oppp]\n",
    "#oppDD=sorted(oppDD)\n",
    "\n",
    "opp2=[((np.sqrt((mut(kx)+2*t*np.cos(n*np.pi/(NJ+1)-theta))**2.-(alR*kx)**2.)+\\\n",
    "      alR/a(t)*np.sin(n*np.pi/(NJ+1)-theta))**1+\\\n",
    "      2.*(1+np.cos(phi))*(2*gamma/a(t)/(NJ+1)*np.sin((n-1)*np.pi/(NJ+1)-theta)**2)**1)\\\n",
    "    for n in oppp]\n",
    "opp2=sorted(opp2)\n",
    "\n",
    "pp.plot(oppD,oppp,'-',label='exact wo/ SOC & ia')\n",
    "#pp.plot(oppDD,oppp,'--',label='guess w/ SOC')\n",
    "pp.plot(opp2,oppp,'*',label='guess w/ SOC & ia')\n",
    "\n",
    "#################################################################TRIAL AND ERROR FOR FITTING\n",
    "#opp3=[0.3*np.sqrt(1+np.cos(1.5*(n-3)*np.pi/(NJ+1))**2)-0.17 \\\n",
    "#      for n in oppp]\n",
    "#pp.plot(opp3,oppp,'-')\n",
    "\n",
    "#difoppD=[Barray[i]-oppD[i] for i in range(len(Barray))]\n",
    "#pp.plot(difoppD, oppp,'*')\n",
    "#difopp2=[Barray[i]-opp2[i] for i in range(len(Barray))]\n",
    "#pp.plot(difopp2, oppp,'.')\n",
    "###########################################################################\n",
    "\n",
    "pp.xlabel('$B_n=-(\\mu-2t)-2t \\cos(n \\pi/(N_J+1))$',fontsize=15)\n",
    "pp.ylabel('n',fontsize=20)\n",
    "#pp.axis([0,3,0,7])\n",
    "pp.legend(fontsize=20)"
   ]
  },
  {
   "cell_type": "code",
   "execution_count": 985,
   "metadata": {},
   "outputs": [
    {
     "data": {
      "text/plain": [
       "(3.1307927585639566+0j)"
      ]
     },
     "execution_count": 985,
     "metadata": {},
     "output_type": "execute_result"
    }
   ],
   "source": [
    "2*np.arctan(2*(2*np.pi*nu0(m)*tL**2/a(t)/(NJ+1))**2)"
   ]
  },
  {
   "cell_type": "code",
   "execution_count": 38,
   "metadata": {},
   "outputs": [
    {
     "data": {
      "text/plain": [
       "76.47684532731869"
      ]
     },
     "execution_count": 38,
     "metadata": {},
     "output_type": "execute_result"
    }
   ],
   "source": [
    "t*np.pi**2/(4*NJ**2)*(1+4*11)**2"
   ]
  },
  {
   "cell_type": "code",
   "execution_count": 1027,
   "metadata": {},
   "outputs": [
    {
     "data": {
      "text/plain": [
       "[0.3962666587138681,\n",
       " 1.1999999999999993,\n",
       " 1.4381557247154504,\n",
       " 3.158110933998418,\n",
       " 5.2418890660015816,\n",
       " 7.199999999999999]"
      ]
     },
     "execution_count": 1027,
     "metadata": {},
     "output_type": "execute_result"
    }
   ],
   "source": [
    "oppD"
   ]
  },
  {
   "cell_type": "code",
   "execution_count": 1029,
   "metadata": {},
   "outputs": [
    {
     "data": {
      "text/plain": [
       "(1.4381557247154504+0j)"
      ]
     },
     "execution_count": 1029,
     "metadata": {},
     "output_type": "execute_result"
    }
   ],
   "source": [
    "n=1\n",
    "((np.sqrt((mut(kx)+2*t*np.cos(n*np.pi/(NJ+1)-theta))**2.-(alR*kx)**2.)+\\\n",
    "      alR/a(t)*np.sin(n*np.pi/(NJ+1)-theta))**1+\\\n",
    "      np.arctan(2*(1+np.cos(phi))*(2*gamma/a(t)/(NJ+1))**2)*(np.sin((n-1)*np.pi/(NJ+1)-theta))**1)"
   ]
  },
  {
   "cell_type": "markdown",
   "metadata": {},
   "source": [
    "alR/a(t)*np.sin(np.sign(n*np.pi/(NJ+1)-theta)*np.sqrt((n*np.pi/(NJ+1)-theta)*(n*np.pi/(NJ+1)-theta+0*alR*kx/210.))))**2+\\"
   ]
  },
  {
   "cell_type": "code",
   "execution_count": 605,
   "metadata": {},
   "outputs": [
    {
     "name": "stdout",
     "output_type": "stream",
     "text": [
      "ALL transitions shown\n"
     ]
    },
    {
     "data": {
      "text/plain": [
       "Text(0,0.5,'n')"
      ]
     },
     "execution_count": 605,
     "metadata": {},
     "output_type": "execute_result"
    },
    {
     "data": {
      "image/png": "[encoded data removed]",
      "text/plain": [
       "<Figure size 1440x720 with 1 Axes>"
      ]
     },
     "metadata": {},
     "output_type": "display_data"
    }
   ],
   "source": [
    "pp.figure(figsize=(20,10))\n",
    "\n",
    "pp.plot(Barray,range(1,len(Barray)+1),'.')\n",
    "if len(Barray)==NJ:\n",
    "    print(\"ALL transitions shown\")\n",
    "else:\n",
    "    print(\"{} MISSING transitions\".format(NJ-len(Barray)))\n",
    "\n",
    "oppp=range(1,NJ+2)\n",
    "oppD=[abs(-np.sqrt((2*t)**2+(alR/a(t))**2)*np.cos(n*np.pi/(NJ+1)+0*theta)-mut(kx))\n",
    "    for n in oppp]\n",
    "oppD=sorted(oppD)\n",
    "\n",
    "opp2=[np.sqrt((np.sqrt((mut(kx)+2*t*np.cos(n*np.pi/(NJ+1)-theta))**2-(alR*kx)**2)+\\\n",
    "      alR/a(t)*np.sin(n*np.pi/(NJ+1)-theta))**2+\\\n",
    "      2*(1+np.cos(phi))*(2*gamma/a(t)/(NJ+1)*np.sin(n*np.pi/(NJ+1)-theta)**2)**2)\\\n",
    "    for n in oppp]\n",
    "opp2=sorted(opp2)\n",
    "\n",
    "#opp3=[np.sqrt(((np.pi*n/a(t)/(NJ+1))**2/2/m-mut(kx))**2+\\\n",
    "#              2*(1+np.cos(phi))*(2*gamma/a(t)/(NJ+1)*(n*np.pi/(NJ+1))**2)**2)\\\n",
    "#     for n in oppp]\n",
    "\n",
    "pp.plot(oppD,oppp,'--')\n",
    "pp.plot(opp2,oppp,'*')\n",
    "#pp.plot(opp3,oppp)\n",
    "\n",
    "pp.xlabel('$B_n=-(\\mu-2t)-2t \\cos(n \\pi/(N_J+1))$',fontsize=15)\n",
    "pp.ylabel('n',fontsize=20)\n",
    "#pp.axis([-1,12,0,15])"
   ]
  },
  {
   "cell_type": "code",
   "execution_count": 744,
   "metadata": {},
   "outputs": [
    {
     "data": {
      "text/plain": [
       "(19.465172646470847-0j)"
      ]
     },
     "execution_count": 744,
     "metadata": {},
     "output_type": "execute_result"
    }
   ],
   "source": [
    "oppDD[-1]"
   ]
  },
  {
   "cell_type": "code",
   "execution_count": null,
   "metadata": {},
   "outputs": [],
   "source": []
  },
  {
   "cell_type": "code",
   "execution_count": 296,
   "metadata": {},
   "outputs": [
    {
     "data": {
      "text/plain": [
       "(0.352949191202438+0j)"
      ]
     },
     "execution_count": 296,
     "metadata": {},
     "output_type": "execute_result"
    }
   ],
   "source": [
    " np.sqrt((1+np.cos(phi))*2)*(2*gamma/a(t)/(NJ+1)*np.sin(n*np.pi/(NJ+1)-theta)**2)"
   ]
  },
  {
   "cell_type": "code",
   "execution_count": 125,
   "metadata": {},
   "outputs": [
    {
     "data": {
      "text/plain": [
       "[<matplotlib.lines.Line2D at 0x7f6838081050>,\n",
       " <matplotlib.lines.Line2D at 0x7f6838081110>]"
      ]
     },
     "execution_count": 125,
     "metadata": {},
     "output_type": "execute_result"
    },
    {
     "data": {
      "image/png": "[encoded data removed]",
      "text/plain": [
       "<Figure size 432x288 with 1 Axes>"
      ]
     },
     "metadata": {},
     "output_type": "display_data"
    }
   ],
   "source": [
    "n=1\n",
    "oppp=np.ndarray.tolist(np.linspace(0,2*np.pi,201))\n",
    "opp=[np.sqrt((-2*t*np.cos(n*np.pi/(NJ+1))-(mu-2*t))**2+(1+np.cos(phi))*2*(2*gamma/a(t)/(NJ+1)*np.sin(n*np.pi/(NJ+1))**2)**2)\\\n",
    "    for mu in oppp]\n",
    "opp2=[2*t*np.arccos(1-prev**2/(8*t**2)) for prev in opp]\n",
    "pp.plot(opp,oppp,opp2,oppp)"
   ]
  },
  {
   "cell_type": "code",
   "execution_count": 76,
   "metadata": {},
   "outputs": [
    {
     "data": {
      "text/plain": [
       "(0.06682647871860584+0j)"
      ]
     },
     "execution_count": 76,
     "metadata": {},
     "output_type": "execute_result"
    }
   ],
   "source": [
    "2*gamma/a(t)/(NJ+1)*np.sin(n*np.pi/(NJ+1))**2"
   ]
  },
  {
   "cell_type": "code",
   "execution_count": 90,
   "metadata": {},
   "outputs": [
    {
     "data": {
      "text/plain": [
       "(0.11565942657526589+0j)"
      ]
     },
     "execution_count": 90,
     "metadata": {},
     "output_type": "execute_result"
    }
   ],
   "source": [
    "np.pi**2/(2*m*a(t)**2*(NJ+1)**2)"
   ]
  },
  {
   "cell_type": "code",
   "execution_count": 791,
   "metadata": {},
   "outputs": [
    {
     "name": "stderr",
     "output_type": "stream",
     "text": [
      "/usr/local/lib/python2.7/site-packages/ipykernel_launcher.py:2: RuntimeWarning: invalid value encountered in sqrt\n",
      "  \n"
     ]
    },
    {
     "data": {
      "text/plain": [
       "[<matplotlib.lines.Line2D at 0x7f27f76c4610>]"
      ]
     },
     "execution_count": 791,
     "metadata": {},
     "output_type": "execute_result"
    },
    {
     "data": {
      "image/png": "[encoded data removed]",
      "text/plain": [
       "<Figure size 432x288 with 1 Axes>"
      ]
     },
     "metadata": {},
     "output_type": "display_data"
    }
   ],
   "source": [
    "pp.plot(np.linspace(-.5,3.2,1000),[np.cos(b) for b in np.linspace(-.5,3.2,1000)])\n",
    "pp.plot(np.linspace(-.5,3.2,1000),[np.cos(np.sqrt(b*(b+0.1))) for b in np.linspace(-.5,3.2,1000)])\n",
    "pp.plot(np.zeros(3))\n",
    "#pp.axis([-.1,.1,0,0.001])"
   ]
  },
  {
   "cell_type": "code",
   "execution_count": null,
   "metadata": {},
   "outputs": [],
   "source": []
  },
  {
   "cell_type": "markdown",
   "metadata": {},
   "source": [
    "mu=1.8\n",
    "t=3\n",
    "bhj=[i/1000. for i in range(20000)]\n",
    "btg=[np.arctan(0.5*np.sqrt(B/mu)*np.tan(NJ*np.sqrt(B/t))) for B in bhj]\n",
    "pp.plot(bhj,btg)\n",
    "pp.axis([0,20,-1.6,1.6])"
   ]
  },
  {
   "cell_type": "code",
   "execution_count": 30,
   "metadata": {},
   "outputs": [],
   "source": [
    "Barray=sorted(list(set(Barray)))"
   ]
  },
  {
   "cell_type": "code",
   "execution_count": 30,
   "metadata": {},
   "outputs": [
    {
     "data": {
      "text/plain": [
       "1.3749999999999998"
      ]
     },
     "execution_count": 30,
     "metadata": {},
     "output_type": "execute_result"
    }
   ],
   "source": [
    "(np.pi+phi)/2/np.pi"
   ]
  },
  {
   "cell_type": "code",
   "execution_count": 53,
   "metadata": {},
   "outputs": [
    {
     "data": {
      "text/plain": [
       "1.5957964775166635"
      ]
     },
     "execution_count": 53,
     "metadata": {},
     "output_type": "execute_result"
    }
   ],
   "source": [
    "np.pi/2*(g-1)+mu"
   ]
  },
  {
   "cell_type": "code",
   "execution_count": 66,
   "metadata": {},
   "outputs": [
    {
     "data": {
      "text/plain": [
       "1.021472392638037"
      ]
     },
     "execution_count": 66,
     "metadata": {},
     "output_type": "execute_result"
    }
   ],
   "source": [
    "4.5*0.185/0.815"
   ]
  },
  {
   "cell_type": "code",
   "execution_count": null,
   "metadata": {},
   "outputs": [],
   "source": []
  },
  {
   "cell_type": "code",
   "execution_count": null,
   "metadata": {},
   "outputs": [],
   "source": []
  },
  {
   "cell_type": "code",
   "execution_count": null,
   "metadata": {},
   "outputs": [],
   "source": []
  },
  {
   "cell_type": "markdown",
   "metadata": {},
   "source": [
    "Compute the gap at the center of the topological phase"
   ]
  },
  {
   "cell_type": "code",
   "execution_count": 46,
   "metadata": {
    "scrolled": true
   },
   "outputs": [
    {
     "name": "stdout",
     "output_type": "stream",
     "text": [
      "[2.1]\n",
      "B=2.1\n",
      "found\n",
      "gap=0.0733333333333\n"
     ]
    }
   ],
   "source": [
    "Blist=[2.1]#[0.5+i/20. for i in range(21)]#(np.asarray(Barray[0:-2])+np.asarray(Barray[1:-1]))/2\n",
    "NM=len(Blist)\n",
    "print(Blist)\n",
    "\n",
    "Etest=0\n",
    "LE=101  #E decimation\n",
    "listEn=np.ndarray.tolist(np.linspace(0,delta/3.,LE))\n",
    "\n",
    "kmin=-np.pi\n",
    "kmax=0.1\n",
    "x0roots=np.linspace(kmin,kmax,np.int((kmax-kmin)/.3))\n",
    "\n",
    "gaparray=np.zeros(NM)\n",
    "for tp in range(NM):\n",
    "    #print(\"Topological phase nr.\",tp+1)\n",
    "    B=Blist[tp]\n",
    "    print('B={}'.format(B))\n",
    "    for En in listEn:\n",
    "        def fdetkx(kxx):\n",
    "            return np.linalg.det(Gtotm1(En,kxx,phi,B))/(mu**(8*(NJ+2)))\n",
    "        for go in range(len(x0roots)):\n",
    "            solveEKX=opt.fsolve(fdetkx,[x0roots[go]])\n",
    "            if abs(fdetkx(solveEKX))<10**-6:# and abs(solveEKX)<=kF:\n",
    "                print(\"found\")\n",
    "                Etest=1\n",
    "                break\n",
    "        if Etest==1:\n",
    "            break\n",
    "    print('gap={}'.format(En))\n",
    "    gaparray[tp]=En\n",
    "    Etest=0\n",
    "            "
   ]
  },
  {
   "cell_type": "code",
   "execution_count": null,
   "metadata": {},
   "outputs": [],
   "source": []
  },
  {
   "cell_type": "code",
   "execution_count": null,
   "metadata": {},
   "outputs": [],
   "source": []
  },
  {
   "cell_type": "code",
   "execution_count": null,
   "metadata": {},
   "outputs": [],
   "source": []
  },
  {
   "cell_type": "code",
   "execution_count": null,
   "metadata": {},
   "outputs": [],
   "source": []
  },
  {
   "cell_type": "code",
   "execution_count": null,
   "metadata": {},
   "outputs": [],
   "source": []
  },
  {
   "cell_type": "code",
   "execution_count": null,
   "metadata": {},
   "outputs": [],
   "source": []
  },
  {
   "cell_type": "markdown",
   "metadata": {},
   "source": [
    "gapA3=gaparray\n",
    "Blist3=Blist"
   ]
  },
  {
   "cell_type": "code",
   "execution_count": 44,
   "metadata": {},
   "outputs": [
    {
     "data": {
      "text/plain": [
       "[<matplotlib.lines.Line2D at 0x7f9b5e64e810>]"
      ]
     },
     "execution_count": 44,
     "metadata": {},
     "output_type": "execute_result"
    },
    {
     "data": {
      "image/png": "[encoded data removed]",
      "text/plain": [
       "<Figure size 432x288 with 1 Axes>"
      ]
     },
     "metadata": {},
     "output_type": "display_data"
    }
   ],
   "source": [
    "pp.plot(Blist3,gapA3)"
   ]
  },
  {
   "cell_type": "markdown",
   "metadata": {},
   "source": [
    "gapA2=gaparray\n",
    "Blist2=Blist"
   ]
  },
  {
   "cell_type": "code",
   "execution_count": 23,
   "metadata": {},
   "outputs": [
    {
     "data": {
      "text/plain": [
       "[<matplotlib.lines.Line2D at 0x7f9b60b7cd10>]"
      ]
     },
     "execution_count": 23,
     "metadata": {},
     "output_type": "execute_result"
    },
    {
     "data": {
      "image/png": "[encoded data removed]",
      "text/plain": [
       "<Figure size 432x288 with 1 Axes>"
      ]
     },
     "metadata": {},
     "output_type": "display_data"
    }
   ],
   "source": [
    "pp.plot(Blist2,gapA2)"
   ]
  },
  {
   "cell_type": "markdown",
   "metadata": {},
   "source": [
    "gapA1=gaparray\n",
    "Blist1=Blist"
   ]
  },
  {
   "cell_type": "code",
   "execution_count": 15,
   "metadata": {},
   "outputs": [
    {
     "data": {
      "text/plain": [
       "[<matplotlib.lines.Line2D at 0x7f9b5e962110>]"
      ]
     },
     "execution_count": 15,
     "metadata": {},
     "output_type": "execute_result"
    },
    {
     "data": {
      "image/png": "[encoded data removed]",
      "text/plain": [
       "<Figure size 432x288 with 1 Axes>"
      ]
     },
     "metadata": {},
     "output_type": "display_data"
    }
   ],
   "source": [
    "pp.plot(Blist1,gapA1)"
   ]
  },
  {
   "cell_type": "code",
   "execution_count": null,
   "metadata": {
    "scrolled": true
   },
   "outputs": [],
   "source": [
    "En=0\n",
    "kxarray=np.linspace(-2.157,-2.155,1000)\n",
    "detarray=np.asarray([fdetkx(kxarray[i]) for i in range(len(kxarray))])"
   ]
  },
  {
   "cell_type": "code",
   "execution_count": null,
   "metadata": {},
   "outputs": [],
   "source": [
    "pp.plot(kxarray,detarray,'*')\n",
    "pp.axis([-2.156,-2.1557,-10**2,10*10**2])"
   ]
  },
  {
   "cell_type": "code",
   "execution_count": null,
   "metadata": {},
   "outputs": [],
   "source": [
    "for p in range(len(EJdisp)):\n",
    "    pp.plot(kxarray,EJdisp[p],'.')"
   ]
  },
  {
   "cell_type": "markdown",
   "metadata": {},
   "source": [
    "print(\"{} :\".format(solveEKX))\n",
    "            if abs(fdetkx(solveEKX))<10**-6:\n",
    "                if abs(solveEKX)<=kF:\n",
    "                    print(\"true zero\")\n",
    "                    Emin=En\n",
    "                else:\n",
    "                    print(\"larger than kF\")\n",
    "            else:\n",
    "                print('false zero')"
   ]
  },
  {
   "cell_type": "code",
   "execution_count": null,
   "metadata": {},
   "outputs": [],
   "source": []
  },
  {
   "cell_type": "code",
   "execution_count": 567,
   "metadata": {},
   "outputs": [
    {
     "data": {
      "text/plain": [
       "Text(0.5,1,'Gap size at constant $\\\\phi$')"
      ]
     },
     "execution_count": 567,
     "metadata": {},
     "output_type": "execute_result"
    },
    {
     "data": {
      "image/png": "[encoded data removed]",
      "text/plain": [
       "<Figure size 432x288 with 1 Axes>"
      ]
     },
     "metadata": {},
     "output_type": "display_data"
    }
   ],
   "source": [
    "pp.plot(Blist,pytr,'.')\n",
    "pp.xlabel('$E_Z$',fontsize=20)\n",
    "pp.ylabel('gap/$\\Delta$',fontsize=20)\n",
    "pp.title('Gap size at constant $\\phi$',fontsize=18)"
   ]
  }
 ],
 "metadata": {
  "kernelspec": {
   "display_name": "Python 3",
   "language": "python",
   "name": "python3"
  },
  "language_info": {
   "codemirror_mode": {
    "name": "ipython",
    "version": 2
   },
   "file_extension": ".py",
   "mimetype": "text/x-python",
   "name": "python",
   "nbconvert_exporter": "python",
   "pygments_lexer": "ipython2",
   "version": "2.7.13"
  }
 },
 "nbformat": 4,
 "nbformat_minor": 2
}
