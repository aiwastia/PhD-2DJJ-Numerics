{
 "cells": [
  {
   "cell_type": "code",
   "execution_count": 1280,
   "metadata": {},
   "outputs": [],
   "source": [
    "import numpy as np\n",
    "import sympy, scipy, cmath\n",
    "from sympy import *\n",
    "#from sympy import symbols\n",
    "#from sympy.solvers.solveset import nonlinsolve\n",
    "from scipy import sparse as sp\n",
    "#from scipy import linalg as ln\n",
    "from scipy import optimize as opt\n",
    "from scipy.sparse import  coo_matrix as cmm\n",
    "from matplotlib import pyplot as pp\n",
    "import pylab"
   ]
  },
  {
   "cell_type": "code",
   "execution_count": 1460,
   "metadata": {},
   "outputs": [],
   "source": [
    "#Parameters\n",
    "#default values: mu=1.8 m=.5 t=3 alR=.7 B=3.07 delta=.5 phi=Pi\n",
    "\n",
    "kx=0.\n",
    "\n",
    "mu=3.\n",
    "muSC=50.\n",
    "m=.5\n",
    "#mSC=0.05\n",
    "t=1.1\n",
    "alR=0.\n",
    "#B=3.07\n",
    "#delta=.5\n",
    "phi=np.pi\n",
    "\n",
    "def mut(kx):\n",
    "    return mu-2*t-kx**2/(2*m)#-alR**2*m/2\n",
    "def kF(mu):\n",
    "    return cmath.sqrt(2*m*mu)\n",
    "def a(t):\n",
    "    return 1/cmath.sqrt(2*m*t)\n",
    "\n",
    "def delL(delta):\n",
    "    return delta*cmath.exp(1j*phi/2)\n",
    "def delR(delta):\n",
    "    return delta*cmath.exp(-1j*phi/2)\n",
    "def nu0(m):\n",
    "    return m/(2*np.pi)\n",
    "def xiE(En):\n",
    "    return kF(muSC)/(m*cmath.sqrt(delta**2-En**2))\n",
    "\n",
    "tL=.1\n",
    "tR=0.1\n",
    "\n",
    "NJ=1\n",
    "\n",
    "gamma=np.pi*nu0(m)*tL**2\n",
    "#matrix tools\n",
    "eye2=np.eye(2)\n",
    "eye4=np.eye(4)\n",
    "s1=[[0,1],[1,0]]\n",
    "s2=[[0,-1j],[1j,0]]\n",
    "s3=[[1,0],[0,-1]]\n",
    "tP=np.kron([[0,1],[0,0]],eye2)\n",
    "tM=np.kron([[0,0],[1,0]],eye2)\n",
    "t3=np.kron(s3,eye2)"
   ]
  },
  {
   "cell_type": "code",
   "execution_count": 1462,
   "metadata": {},
   "outputs": [],
   "source": [
    "#Junction\n",
    "def HJ0(kx,B):\n",
    "    return -mut(kx)*t3+alR*kx*np.kron(s3,s2)+B*np.kron(eye2,s1)\n",
    "def Hy(alR):\n",
    "    return -t*t3+1j*alR/2/a(t)*np.kron(s3,s1)\n",
    "\n",
    "\n",
    "def HJ(kx,B):\n",
    "    start=cmm(HJ0(kx,B))\n",
    "    HJs=start\n",
    "    for n in range(0,NJ-1):\n",
    "        OT=cmm(np.zeros([len(HJs.toarray())-4,4]))\n",
    "        BT=sp.vstack([OT,cmm(Hy(alR))])\n",
    "        CT=sp.hstack([OT.transpose(),cmm(Hy(alR).conj().T),start])\n",
    "        HJs=sp.hstack([HJs,BT])\n",
    "        HJs=sp.vstack([HJs,CT])\n",
    "    return HJs\n",
    "\n",
    "def gJm1(En,kx,B):\n",
    "    return En*np.eye(4*NJ)-HJ(kx,B).toarray()\n",
    "\n",
    "#Superconductors\n",
    "# xiE-> infty to avoid more symbolic:\n",
    "#def fL(kx):\n",
    "#    return 1/(kF*a)*(np.log(1-np.exp(1j*a*(kF+kx)))+np.log(1-np.exp(1j*a*(kF-kx))))-1j\n",
    "\n",
    "def fL(En,kx):\n",
    "    return 1/(kF(muSC)*a(t))*(cmath.log(1-cmath.exp(-a(t)/xiE(En)+1j*a(t)*(kF(muSC)+kx)))+\\\n",
    "                         cmath.log(1-cmath.exp(-a(t)/xiE(En)+1j*a(t)*(kF(muSC)-kx))))-1j\n",
    "\n",
    "def gSC1m1(En,kx,delta):\n",
    "    return -1/(np.pi*nu0(m)*abs(fL(En,kx))**2)*((En*eye4 - delL(delta)*tP - np.conj(delL(delta))*tM)*\\\n",
    "                                                 fL(En,kx).imag/cmath.sqrt(delta**2 - En**2) - fL(En,kx).real*t3)\n",
    "\n",
    "def gSC2m1(En,kx,delta):\n",
    "    return -1/(np.pi*nu0(m)*abs(fL(En,kx))**2)*((En*eye4 - delR(delta)*tP - np.conj(delR(delta))*tM)*\\\n",
    "                                                 fL(En,kx).imag/cmath.sqrt(delta**2 - En**2) - fL(En,kx).real*t3)\n",
    "\n",
    "#SC/J coupling\n",
    "rowindex=np.array([1,2,3,4,4*NJ+1,4*NJ+2,4*NJ+3,4*NJ+4])-1\n",
    "colindex=np.array([5,6,7,8,4*(NJ+1)+1,4*(NJ+1)+2,4*(NJ+1)+3,4*(NJ+1)+4])-1\n",
    "\n",
    "def hoppings(tL,tR):\n",
    "    return [tL,tL,-tL,-tL,tR,tR,-tR,-tR]\n",
    "def mHt1(tL,tR):\n",
    "    return cmm((hoppings(tL,tR),(rowindex,colindex)),shape=(4*(NJ+2),4*(NJ+2)))\n",
    "def mHt(tL,tR):\n",
    "    return mHt1(tL,tR)+mHt1(tL,tR).transpose()\n",
    "\n",
    "#total inverse GF\n",
    "def Gtotm1(En,kx,delta,B,tL,tR):\n",
    "    return scipy.linalg.block_diag(gSC1m1(En,kx,delta),gJm1(En,kx,B),gSC2m1(En,kx,delta))+mHt(tL,tR).toarray()"
   ]
  },
  {
   "cell_type": "markdown",
   "metadata": {},
   "source": [
    "to optimize by avoiding the computation of gSC1m1 when calling fdetB"
   ]
  },
  {
   "cell_type": "code",
   "execution_count": 1463,
   "metadata": {},
   "outputs": [],
   "source": [
    "M=30\n",
    "Delarray=np.linspace(0.0001,10,M+1)"
   ]
  },
  {
   "cell_type": "code",
   "execution_count": 1464,
   "metadata": {
    "scrolled": true
   },
   "outputs": [
    {
     "name": "stdout",
     "output_type": "stream",
     "text": [
      "0\n",
      "[0.801169]\n",
      "1\n",
      "[0.801184]\n",
      "2\n",
      "[0.801195]\n",
      "3\n",
      "[0.801203]\n",
      "4\n",
      "[0.801207]\n",
      "5\n",
      "[0.801208]\n",
      "6\n",
      "[0.801206]\n",
      "7\n",
      "[0.801201]\n",
      "8\n",
      "[0.801194]\n",
      "9\n",
      "[0.801184]\n",
      "10\n",
      "[0.801173]\n",
      "11\n",
      "[0.801159]\n",
      "12\n",
      "[0.801144]\n",
      "13\n",
      "[0.801128]\n",
      "14\n",
      "[0.80111]\n",
      "15\n",
      "[0.801091]\n",
      "16\n",
      "[0.801072]\n",
      "17\n",
      "[0.801052]\n",
      "18\n",
      "[0.801032]\n",
      "19\n",
      "[0.801011]\n",
      "20\n",
      "[0.80099]\n",
      "21\n",
      "[0.800969]\n",
      "22\n",
      "[0.800949]\n",
      "23\n",
      "[0.800928]\n",
      "24\n",
      "[0.800907]\n",
      "25\n",
      "[0.800886]\n",
      "26\n",
      "[0.800866]\n",
      "27\n",
      "[0.800846]\n",
      "28\n",
      "[0.800826]\n",
      "29\n",
      "[0.800806]\n",
      "30\n",
      "[0.800787]\n"
     ]
    }
   ],
   "source": [
    "PDtr=np.zeros((M+1,NJ))#2*NJ))\n",
    "\n",
    "En=0\n",
    "\n",
    "for qq in range(M+1):\n",
    "    delta=Delarray[qq]\n",
    "    print(qq)\n",
    "    ekxB=[]\n",
    "    def fdetB(B):\n",
    "        return np.linalg.det(Gtotm1(En,kx,delta,B,tL,tR))/(mu**(4.*(NJ+2)))\n",
    "    x0roots=np.ndarray.tolist(np.linspace(0,100,5))\n",
    "    for i in range(len(x0roots)):\n",
    "        x0=x0roots[i]\n",
    "        solekx=opt.fsolve(fdetB,np.asarray(x0))\n",
    "        if abs(fdetB(solekx))>10**-6 or solekx<0:\n",
    "            solekx=[]\n",
    "        solekx=np.ndarray.tolist(np.around(solekx,6))\n",
    "        ekxB.extend(solekx)\n",
    "    ekxB=np.sort(list(set(ekxB)))\n",
    "    print(ekxB)\n",
    "    if len(ekxB)<NJ: ###here 2*\n",
    "        zerocompletion=[0]*(NJ-len(ekxB)) ###here\n",
    "        ekxB.extend(zerocompletion)\n",
    "    elif len(ekxB)>NJ:  ###here\n",
    "        print(\"Too many roots.\")\n",
    "        break\n",
    "    PDtr[qq]=np.asarray(ekxB)"
   ]
  },
  {
   "cell_type": "code",
   "execution_count": 1473,
   "metadata": {},
   "outputs": [],
   "source": [
    "dlist=Delarray\n",
    "\n",
    "def RefL(dt):\n",
    "    delta=dt\n",
    "    return fL(0,0).real\n",
    "def ImfL(dt):\n",
    "    delta=dt\n",
    "    return fL(0,0).imag\n",
    "def absfL(dt):\n",
    "    delta=dt\n",
    "    return np.abs(fL(0,0))\n",
    "gamma=np.pi*nu0(m)*tL**2\n",
    "Barray=[np.sqrt(mut(0)**2+gamma*(-2*RefL(delta)*mut(0)+gamma*absfL(delta)**2)) for delta in dlist]\n",
    "Barray2=[np.sqrt(mut(0)**2+2*gamma*(-2*RefL(delta)*mut(0)+gamma*absfL(delta)**2)+2*gamma**2*ImfL(delta)**2*np.cos(phi))\\\n",
    "         for delta in dlist]"
   ]
  },
  {
   "cell_type": "code",
   "execution_count": 1474,
   "metadata": {},
   "outputs": [
    {
     "data": {
      "text/plain": [
       "[<matplotlib.lines.Line2D at 0x7f55417aee90>]"
      ]
     },
     "execution_count": 1474,
     "metadata": {},
     "output_type": "execute_result"
    },
    {
     "data": {
      "image/png": "[encoded data removed]",
      "text/plain": [
       "<Figure size 1440x720 with 1 Axes>"
      ]
     },
     "metadata": {},
     "output_type": "display_data"
    }
   ],
   "source": [
    "pp.figure(figsize=(20,10))\n",
    "for p in range(len(PDtr)):\n",
    "    pp.plot(PDtr[p],[Delarray[p]]*(NJ),'.')\n",
    "\n",
    "pp.plot(Barray2,dlist)"
   ]
  },
  {
   "cell_type": "code",
   "execution_count": null,
   "metadata": {},
   "outputs": [],
   "source": []
  },
  {
   "cell_type": "code",
   "execution_count": 1479,
   "metadata": {},
   "outputs": [
    {
     "data": {
      "text/plain": [
       "[<matplotlib.lines.Line2D at 0x7f55414a5cd0>]"
      ]
     },
     "execution_count": 1479,
     "metadata": {},
     "output_type": "execute_result"
    },
    {
     "data": {
      "image/png": "[encoded data removed]",
      "text/plain": [
       "<Figure size 432x288 with 1 Axes>"
      ]
     },
     "metadata": {},
     "output_type": "display_data"
    }
   ],
   "source": [
    "phiphi=np.linspace(0,2*np.pi,100)\n",
    "Barray=[np.sqrt(mut(0)**2+t**2+gamma**2+t*np.sqrt(4*mut(0)**2+2*gamma**2*(1-np.cos(ph)))) for ph in phiphi]\n",
    "Barray2=[np.sqrt(mut(0)**2+t**2+gamma**2-t*np.sqrt(4*mut(0)**2+2*gamma**2*(1-np.cos(ph)))) for ph in phiphi]\n",
    "pp.plot(Barray,phiphi,'.')\n",
    "#pp.plot(Barray2,phiphi,'.')"
   ]
  },
  {
   "cell_type": "code",
   "execution_count": null,
   "metadata": {},
   "outputs": [],
   "source": []
  },
  {
   "cell_type": "code",
   "execution_count": null,
   "metadata": {},
   "outputs": [],
   "source": []
  },
  {
   "cell_type": "code",
   "execution_count": null,
   "metadata": {},
   "outputs": [],
   "source": []
  },
  {
   "cell_type": "code",
   "execution_count": 1320,
   "metadata": {},
   "outputs": [
    {
     "data": {
      "text/plain": [
       "3.6331804249169903"
      ]
     },
     "execution_count": 1320,
     "metadata": {},
     "output_type": "execute_result"
    }
   ],
   "source": [
    "2*np.sqrt(t*muSC)"
   ]
  },
  {
   "cell_type": "code",
   "execution_count": 1171,
   "metadata": {},
   "outputs": [
    {
     "data": {
      "text/plain": [
       "133.55564818629264"
      ]
     },
     "execution_count": 1171,
     "metadata": {},
     "output_type": "execute_result"
    }
   ],
   "source": [
    "Barray[0]"
   ]
  },
  {
   "cell_type": "code",
   "execution_count": 1336,
   "metadata": {},
   "outputs": [],
   "source": [
    "dgrid=np.linspace(0,10,201)+0.0001\n",
    "mugrid=np.linspace(0,20,401)+0.1\n",
    "\n",
    "def fLoo(delta,muSC):\n",
    "    xE=kF(muSC)/m/delta\n",
    "    return 2/(kF(muSC)*a(t))*(cmath.log(1-cmath.exp(-a(t)/xE+1j*a(t)*kF(muSC))))-1j\n",
    "\n",
    "ReLoo=[[np.around(fLoo(dt,du).real,2) for du in mugrid] for dt in dgrid]\n",
    "ImLoo=[[np.around(fLoo(dt,du).imag,2) for du in mugrid] for dt in dgrid]\n",
    "AbsLoo=[[-ReLoo[i][j]**2-ImLoo[i][j]**2 for j in range(len(mugrid))] for i in range(len(dgrid))]"
   ]
  },
  {
   "cell_type": "code",
   "execution_count": 1337,
   "metadata": {},
   "outputs": [
    {
     "data": {
      "text/plain": [
       "<matplotlib.colorbar.Colorbar at 0x7f55488e9950>"
      ]
     },
     "execution_count": 1337,
     "metadata": {},
     "output_type": "execute_result"
    },
    {
     "data": {
      "image/png": "[encoded data removed]",
      "text/plain": [
       "<Figure size 1080x720 with 2 Axes>"
      ]
     },
     "metadata": {},
     "output_type": "display_data"
    },
    {
     "data": {
      "image/png": "[encoded data removed]",
      "text/plain": [
       "<Figure size 1080x720 with 2 Axes>"
      ]
     },
     "metadata": {},
     "output_type": "display_data"
    },
    {
     "data": {
      "image/png": "[encoded data removed]",
      "text/plain": [
       "<Figure size 1080x720 with 2 Axes>"
      ]
     },
     "metadata": {},
     "output_type": "display_data"
    }
   ],
   "source": [
    "pp.figure(figsize=(15,10))\n",
    "pp.imshow(ReLoo,cmap='hot')\n",
    "pp.title('real part with cut divergence in small Delta')\n",
    "pp.colorbar()\n",
    "\n",
    "pp.figure(figsize=(15,10))\n",
    "pp.imshow(ImLoo,cmap='hot')\n",
    "pp.title('imaginary part')\n",
    "pp.colorbar()\n",
    "\n",
    "pp.figure(figsize=(15,10))\n",
    "pp.imshow(AbsLoo,cmap='hot')\n",
    "pp.title('minus the square of absolute value')\n",
    "pp.colorbar()"
   ]
  },
  {
   "cell_type": "code",
   "execution_count": 1331,
   "metadata": {},
   "outputs": [
    {
     "data": {
      "text/plain": [
       "array([0.06, 0.06, 0.05, 0.05, 0.04, 0.04, 0.03, 0.03, 0.03, 0.02, 0.02,\n",
       "       0.02, 0.02, 0.02, 0.01, 0.01, 0.01, 0.01, 0.01, 0.01, 0.01, 0.01,\n",
       "       0.01, 0.01, 0.  , 0.  , 0.  , 0.  , 0.  , 0.  , 0.  , 0.  , 0.  ,\n",
       "       0.  , 0.  , 0.  , 0.  , 0.  , 0.  , 0.  , 0.  , 0.  , 0.  , 0.  ,\n",
       "       0.  , 0.  , 0.  , 0.  , 0.  , 0.  , 0.  , 0.  , 0.  , 0.  , 0.  ,\n",
       "       0.  , 0.  , 0.  , 0.  , 0.  , 0.  , 0.  , 0.  , 0.  , 0.  , 0.  ,\n",
       "       0.  , 0.  , 0.  , 0.  , 0.  , 0.  , 0.  , 0.  , 0.  , 0.  , 0.  ,\n",
       "       0.  , 0.  , 0.  , 0.  , 0.  , 0.  , 0.  , 0.  , 0.  , 0.  , 0.  ,\n",
       "       0.  , 0.  , 0.  , 0.  , 0.  , 0.  , 0.  , 0.  , 0.  , 0.  , 0.  ,\n",
       "       0.  , 0.  , 0.  , 0.  , 0.  , 0.  , 0.  , 0.  , 0.  , 0.  , 0.  ,\n",
       "       0.  , 0.  , 0.  , 0.  , 0.  , 0.  , 0.  , 0.  , 0.  , 0.  , 0.  ,\n",
       "       0.  , 0.  , 0.  , 0.  , 0.  , 0.  , 0.  , 0.  , 0.  , 0.  , 0.  ,\n",
       "       0.  , 0.  , 0.  , 0.  , 0.  , 0.  , 0.  , 0.  , 0.  , 0.  , 0.  ,\n",
       "       0.  , 0.  , 0.  , 0.  , 0.  , 0.  , 0.  , 0.  , 0.  , 0.  , 0.  ,\n",
       "       0.  , 0.  , 0.  , 0.  , 0.  , 0.  , 0.  , 0.  , 0.  , 0.  , 0.  ,\n",
       "       0.  , 0.  , 0.  , 0.  , 0.  , 0.  , 0.  , 0.  , 0.  , 0.  , 0.  ,\n",
       "       0.  , 0.  , 0.  , 0.  , 0.  , 0.  , 0.  , 0.  , 0.  , 0.  , 0.  ,\n",
       "       0.  , 0.  , 0.  , 0.  , 0.  , 0.  , 0.  , 0.  , 0.  , 0.  , 0.  ,\n",
       "       0.  , 0.  , 0.  ])"
      ]
     },
     "execution_count": 1331,
     "metadata": {},
     "output_type": "execute_result"
    }
   ],
   "source": [
    "np.asarray(ReLoo)[:,10]"
   ]
  },
  {
   "cell_type": "code",
   "execution_count": null,
   "metadata": {},
   "outputs": [],
   "source": []
  },
  {
   "cell_type": "code",
   "execution_count": null,
   "metadata": {},
   "outputs": [],
   "source": []
  },
  {
   "cell_type": "code",
   "execution_count": null,
   "metadata": {},
   "outputs": [],
   "source": []
  },
  {
   "cell_type": "code",
   "execution_count": null,
   "metadata": {},
   "outputs": [],
   "source": []
  },
  {
   "cell_type": "code",
   "execution_count": 955,
   "metadata": {},
   "outputs": [
    {
     "data": {
      "text/plain": [
       "0.0025000000000000005"
      ]
     },
     "execution_count": 955,
     "metadata": {},
     "output_type": "execute_result"
    }
   ],
   "source": [
    "gamma"
   ]
  },
  {
   "cell_type": "code",
   "execution_count": 239,
   "metadata": {},
   "outputs": [
    {
     "data": {
      "text/plain": [
       "[<matplotlib.lines.Line2D at 0x7f7a47fd2150>]"
      ]
     },
     "execution_count": 239,
     "metadata": {},
     "output_type": "execute_result"
    },
    {
     "data": {
      "image/png": "[encoded data removed]",
      "text/plain": [
       "<Figure size 1440x720 with 1 Axes>"
      ]
     },
     "metadata": {},
     "output_type": "display_data"
    }
   ],
   "source": [
    "pp.figure(figsize=(20,10))\n",
    "for p in range(len(PDtr)):\n",
    "    pp.plot(PDtr[p],[Delarray[p]]*(NJ),'.')\n",
    "pp.axis([540,560,0,2])\n",
    "Blist=np.linspace(544.6417,557.0705,1000)\n",
    "b=900.\n",
    "n=1/np.sqrt((557.0705-544.6417+np.sqrt(b))**2-b)\n",
    "pp.plot(Blist,[n*np.sqrt((xc+np.sqrt(b)-544.6417)**2-b) for xc in Blist])"
   ]
  },
  {
   "cell_type": "code",
   "execution_count": 214,
   "metadata": {},
   "outputs": [
    {
     "data": {
      "text/plain": [
       "117.0164589406551"
      ]
     },
     "execution_count": 214,
     "metadata": {},
     "output_type": "execute_result"
    }
   ],
   "source": [
    "np.sqrt(557.0705**2-544.6418**2)"
   ]
  },
  {
   "cell_type": "code",
   "execution_count": null,
   "metadata": {},
   "outputs": [],
   "source": []
  },
  {
   "cell_type": "code",
   "execution_count": 944,
   "metadata": {
    "scrolled": true
   },
   "outputs": [
    {
     "name": "stdout",
     "output_type": "stream",
     "text": [
      "0\n",
      "[167.3847]\n",
      "1\n",
      "[996.9186]\n",
      "2\n",
      "[701.9002]\n",
      "3\n",
      "[565.4783]\n",
      "4\n",
      "[485.2878]\n",
      "5\n",
      "[431.7459]\n",
      "6\n",
      "[393.0673]\n",
      "7\n",
      "[363.5877]\n",
      "8\n",
      "[340.2285]\n",
      "9\n",
      "[321.1647]\n",
      "10\n",
      "[305.2417]\n",
      "11\n",
      "[291.6913]\n",
      "12\n",
      "[279.9814]\n",
      "13\n",
      "[269.7309]\n",
      "14\n",
      "[260.6593]\n",
      "15\n",
      "[252.5552]\n",
      "16\n",
      "[245.2563]\n",
      "17\n",
      "[238.6353]\n",
      "18\n",
      "[232.5914]\n",
      "19\n",
      "[227.0432]\n",
      "20\n",
      "[221.9245]\n",
      "21\n",
      "[217.1806]\n",
      "22\n",
      "[212.7662]\n",
      "23\n",
      "[208.6432]\n",
      "24\n",
      "[204.7794]\n",
      "25\n",
      "[201.1472]\n",
      "26\n",
      "[197.7231]\n",
      "27\n",
      "[194.4867]\n",
      "28\n",
      "[191.4205]\n",
      "29\n",
      "[188.5089]\n",
      "30\n",
      "[185.7384]\n",
      "31\n",
      "[183.0971]\n",
      "32\n",
      "[180.5745]\n",
      "33\n",
      "[178.1612]\n",
      "34\n",
      "[175.8487]\n",
      "35\n",
      "[173.6297]\n",
      "36\n",
      "[171.4974]\n",
      "37\n",
      "[169.4456]\n",
      "38\n",
      "[167.4691]\n",
      "39\n",
      "[165.5627]\n",
      "40\n",
      "[163.7219]\n",
      "41\n",
      "[161.9428]\n",
      "42\n",
      "[160.2214]\n",
      "43\n",
      "[158.5544]\n",
      "44\n",
      "[156.9387]\n",
      "45\n",
      "[155.3712]\n",
      "46\n",
      "[153.8495]\n",
      "47\n",
      "[152.3709]\n",
      "48\n",
      "[150.9333]\n",
      "49\n",
      "[149.5344]\n",
      "50\n",
      "[148.1725]\n",
      "51\n",
      "[146.8455]\n",
      "52\n",
      "[145.552]\n",
      "53\n",
      "[144.2902]\n",
      "54\n",
      "[143.0588]\n",
      "55\n",
      "[141.8562]\n",
      "56\n",
      "[140.6814]\n",
      "57\n",
      "[139.533]\n",
      "58\n",
      "[138.41]\n",
      "59\n",
      "[137.3112]\n",
      "60\n",
      "[136.2357]\n",
      "61\n",
      "[135.1825]\n",
      "62\n",
      "[134.1508]\n",
      "63\n",
      "[133.1398]\n",
      "64\n",
      "[132.1485]\n",
      "65\n",
      "[131.1764]\n",
      "66\n",
      "[130.2227]\n",
      "67\n",
      "[129.2867]\n",
      "68\n",
      "[128.3678]\n",
      "69\n",
      "[127.4655]\n",
      "70\n",
      "[126.579]\n",
      "71\n",
      "[125.708]\n",
      "72\n",
      "[124.8519]\n",
      "73\n",
      "[124.0102]\n",
      "74\n",
      "[123.1824]\n",
      "75\n",
      "[122.3682]\n",
      "76\n",
      "[121.5671]\n",
      "77\n",
      "[120.7786]\n",
      "78\n",
      "[120.0025]\n",
      "79\n",
      "[119.2383]\n",
      "80\n",
      "[118.4857]\n",
      "81\n",
      "[117.7444]\n",
      "82\n",
      "[117.014]\n",
      "83\n",
      "[116.2943]\n",
      "84\n",
      "[115.5849]\n",
      "85\n",
      "[114.8856]\n",
      "86\n",
      "[114.1962]\n",
      "87\n",
      "[113.5162]\n",
      "88\n",
      "[112.8456]\n",
      "89\n",
      "[112.1841]\n",
      "90\n",
      "[111.5315]\n",
      "91\n",
      "[110.8874]\n",
      "92\n",
      "[110.2518]\n",
      "93\n",
      "[109.6244]\n",
      "94\n",
      "[109.0051]\n",
      "95\n",
      "[108.3935]\n",
      "96\n",
      "[107.7897]\n",
      "97\n",
      "[107.1934]\n",
      "98\n",
      "[106.6044]\n",
      "99\n",
      "[106.0225]\n",
      "100\n",
      "[105.4477]\n",
      "101\n",
      "[104.8798]\n",
      "102\n",
      "[104.3186]\n",
      "103\n",
      "[103.764]\n",
      "104\n",
      "[103.2158]\n",
      "105\n",
      "[102.674]\n",
      "106\n",
      "[102.1384]\n",
      "107\n",
      "[101.6089]\n",
      "108\n",
      "[101.0853]\n",
      "109\n",
      "[100.5677]\n",
      "110\n",
      "[100.0557]\n",
      "111\n",
      "[99.5495]\n",
      "112\n",
      "[99.0488]\n",
      "113\n",
      "[98.5536]\n",
      "114\n",
      "[98.0637]\n",
      "115\n",
      "[97.5791]\n",
      "116\n",
      "[97.0997]\n",
      "117\n",
      "[96.6254]\n",
      "118\n",
      "[96.1561]\n",
      "119\n",
      "[95.6918]\n",
      "120\n",
      "[95.2323]\n",
      "121\n",
      "[94.7776]\n",
      "122\n",
      "[94.3277]\n",
      "123\n",
      "[93.8824]\n",
      "124\n",
      "[93.4417]\n",
      "125\n",
      "[93.0055]\n",
      "126\n",
      "[92.5738]\n",
      "127\n",
      "[92.1465]\n",
      "128\n",
      "[91.7235]\n",
      "129\n",
      "[91.3048]\n",
      "130\n",
      "[90.8904]\n",
      "131\n",
      "[90.4801]\n",
      "132\n",
      "[90.0739]\n",
      "133\n",
      "[89.6719]\n",
      "134\n",
      "[89.2738]\n",
      "135\n",
      "[88.8797]\n",
      "136\n",
      "[88.4896]\n",
      "137\n",
      "[88.1033]\n",
      "138\n",
      "[87.7209]\n",
      "139\n",
      "[87.3423]\n",
      "140\n",
      "[86.9675]\n",
      "141\n",
      "[86.5964]\n",
      "142\n",
      "[86.2291]\n",
      "143\n",
      "[85.8653]\n",
      "144\n",
      "[85.5052]\n",
      "145\n",
      "[85.1487]\n",
      "146\n",
      "[84.7957]\n",
      "147\n",
      "[84.4463]\n",
      "148\n",
      "[84.1004]\n",
      "149\n",
      "[83.7579]\n",
      "150\n",
      "[83.4189]\n",
      "151\n",
      "[83.0833]\n",
      "152\n",
      "[82.7511]\n",
      "153\n",
      "[82.4222]\n",
      "154\n",
      "[82.0967]\n",
      "155\n",
      "[81.7745]\n",
      "156\n",
      "[81.4556]\n",
      "157\n",
      "[81.14]\n",
      "158\n",
      "[80.8276]\n",
      "159\n",
      "[80.5184]\n",
      "160\n",
      "[80.2125]\n",
      "161\n",
      "[79.9098]\n",
      "162\n",
      "[79.6102]\n",
      "163\n",
      "[79.3138]\n",
      "164\n",
      "[79.0205]\n",
      "165\n",
      "[78.7304]\n",
      "166\n",
      "[78.4434]\n",
      "167\n",
      "[78.1595]\n",
      "168\n",
      "[77.8786]\n",
      "169\n",
      "[77.6009]\n",
      "170\n",
      "[77.3262]\n",
      "171\n",
      "[77.0546]\n",
      "172\n",
      "[76.786]\n",
      "173\n",
      "[76.5204]\n",
      "174\n",
      "[76.2578]\n",
      "175\n",
      "[75.9983]\n",
      "176\n",
      "[75.7418]\n",
      "177\n",
      "[75.4882]\n",
      "178\n",
      "[75.2377]\n",
      "179\n",
      "[74.9901]\n",
      "180\n",
      "[74.7455]\n",
      "181\n",
      "[74.5039]\n",
      "182\n",
      "[74.2652]\n",
      "183\n",
      "[74.0295]\n",
      "184\n",
      "[73.7968]\n",
      "185\n",
      "[73.567]\n",
      "186\n",
      "[73.3402]\n",
      "187\n",
      "[73.1163]\n",
      "188\n",
      "[72.8953]\n",
      "189\n",
      "[72.6773]\n",
      "190\n",
      "[72.4622]\n",
      "191\n",
      "[72.2501]\n",
      "192\n",
      "[72.0409]\n",
      "193\n",
      "[71.8346]\n",
      "194\n",
      "[71.6313]\n",
      "195\n",
      "[71.4309]\n",
      "196\n",
      "[71.2335]\n",
      "197\n",
      "[71.039]\n",
      "198\n",
      "[70.8474]\n",
      "199\n",
      "[70.6588]\n",
      "200\n",
      "[70.4732]\n",
      "201\n",
      "[70.2904]\n",
      "202\n",
      "[70.1107]\n",
      "203\n",
      "[69.9339]\n",
      "204\n",
      "[69.76]\n",
      "205\n",
      "[69.5892]\n",
      "206\n",
      "[69.4213]\n",
      "207\n",
      "[69.2563]\n",
      "208\n",
      "[69.0944]\n",
      "209\n",
      "[68.9354]\n",
      "210\n",
      "[68.7794]\n",
      "211\n",
      "[68.6265]\n",
      "212\n",
      "[68.4765]\n",
      "213\n",
      "[68.3295]\n",
      "214\n",
      "[68.1856]\n",
      "215\n",
      "[68.0447]\n",
      "216\n",
      "[67.9068]\n",
      "217\n",
      "[67.772]\n",
      "218\n",
      "[67.6402]\n",
      "219\n",
      "[67.5115]\n",
      "220\n",
      "[67.3858]\n",
      "221\n",
      "[67.2632]\n",
      "222\n",
      "[67.1437]\n",
      "223\n",
      "[67.0273]\n",
      "224\n",
      "[66.9141]\n",
      "225\n",
      "[66.8039]\n",
      "226\n",
      "[66.6968]\n",
      "227\n",
      "[66.5929]\n",
      "228\n",
      "[66.4922]\n",
      "229\n",
      "[66.3946]\n",
      "230\n",
      "[66.3002]\n",
      "231\n",
      "[66.2089]\n",
      "232\n",
      "[66.1209]\n",
      "233\n",
      "[66.0361]\n",
      "234\n",
      "[65.9545]\n",
      "235\n",
      "[65.8761]\n",
      "236\n",
      "[65.801]\n",
      "237\n",
      "[65.7291]\n",
      "238\n",
      "[65.6605]\n",
      "239\n",
      "[65.5952]\n",
      "240\n",
      "[65.5333]\n",
      "241\n",
      "[65.4746]\n",
      "242\n",
      "[65.4192]\n",
      "243\n",
      "[65.3673]\n",
      "244\n",
      "[65.3186]\n",
      "245\n",
      "[65.2734]\n",
      "246\n",
      "[65.2315]\n",
      "247\n",
      "[65.1931]\n",
      "248\n",
      "[65.1581]\n",
      "249\n",
      "[65.1265]\n",
      "250\n",
      "[65.0984]\n",
      "251\n",
      "[65.0738]\n",
      "252\n",
      "[65.0526]\n",
      "253\n",
      "[65.035]\n",
      "254\n",
      "[65.0209]\n",
      "255\n",
      "[65.0104]\n",
      "256\n",
      "[65.0034]\n",
      "257\n",
      "[65.0001]\n",
      "258\n",
      "[65.0003]\n",
      "259\n",
      "[65.0042]\n",
      "260\n",
      "[65.0117]\n",
      "261\n",
      "[65.0229]\n",
      "262\n",
      "[65.0377]\n",
      "263\n",
      "[65.0563]\n",
      "264\n",
      "[65.0786]\n",
      "265\n",
      "[65.1047]\n",
      "266\n",
      "[65.1346]\n",
      "267\n",
      "[65.1683]\n",
      "268\n",
      "[65.2057]\n",
      "269\n",
      "[65.2471]\n",
      "270\n",
      "[65.2923]\n",
      "271\n",
      "[65.3414]\n",
      "272\n",
      "[65.3945]\n",
      "273\n",
      "[65.4515]\n",
      "274\n",
      "[65.5125]\n",
      "275\n",
      "[65.5775]\n",
      "276\n",
      "[65.6465]\n",
      "277\n",
      "[65.7197]\n",
      "278\n",
      "[65.7969]\n",
      "279\n",
      "[65.8782]\n",
      "280\n",
      "[65.9637]\n",
      "281\n",
      "[66.0534]\n",
      "282\n",
      "[66.1473]\n",
      "283\n",
      "[66.2454]\n",
      "284\n",
      "[66.3479]\n",
      "285\n",
      "[66.4547]\n",
      "286\n",
      "[66.5658]\n",
      "287\n",
      "[66.6814]\n",
      "288\n",
      "[66.8014]\n",
      "289\n",
      "[66.9259]\n",
      "290\n",
      "[67.0549]\n",
      "291\n",
      "[67.1885]\n",
      "292\n",
      "[67.3266]\n",
      "293\n",
      "[67.4695]\n",
      "294\n",
      "[67.617]\n",
      "295\n",
      "[67.7693]\n",
      "296\n",
      "[67.9264]\n",
      "297\n",
      "[68.0883]\n",
      "298\n",
      "[68.2552]\n",
      "299\n",
      "[68.427]\n",
      "300\n",
      "[68.6038]\n",
      "301\n",
      "[68.7856]\n",
      "302\n",
      "[68.9727]\n",
      "303\n",
      "[69.1649]\n",
      "304\n",
      "[69.3623]\n",
      "305\n",
      "[69.5651]\n",
      "306\n",
      "[69.7733]\n",
      "307\n",
      "[69.987]\n",
      "308\n",
      "[70.2062]\n",
      "309\n",
      "[70.431]\n",
      "310\n",
      "[70.6615]\n",
      "311\n",
      "[70.8978]\n",
      "312\n",
      "[71.14]\n",
      "313\n",
      "[71.3882]\n",
      "314\n",
      "[71.6424]\n",
      "315\n",
      "[71.9027]\n",
      "316\n",
      "[72.1694]\n",
      "317\n",
      "[72.4423]\n",
      "318\n",
      "[72.7218]\n",
      "319\n",
      "[73.0079]\n",
      "320\n",
      "[73.3006]\n",
      "321\n",
      "[73.6002]\n",
      "322\n",
      "[73.9068]\n",
      "323\n",
      "[74.2205]\n",
      "324\n",
      "[74.5414]\n",
      "325\n",
      "[74.8698]\n",
      "326\n",
      "[75.2057]\n",
      "327\n",
      "[75.5493]\n",
      "328\n",
      "[75.9009]\n",
      "329\n",
      "[76.2605]\n",
      "330\n",
      "[76.6284]\n",
      "331\n",
      "[77.0047]\n",
      "332\n",
      "[77.3898]\n",
      "333\n",
      "[77.7837]\n",
      "334\n",
      "[78.1868]\n",
      "335\n",
      "[78.5993]\n",
      "336\n",
      "[79.0214]\n",
      "337\n",
      "[79.4535]\n",
      "338\n",
      "[79.8957]\n",
      "339\n",
      "[80.3485]\n",
      "340\n",
      "[80.812]\n",
      "341\n",
      "[81.2868]\n",
      "342\n",
      "[81.7731]\n",
      "343\n",
      "[82.2712]\n",
      "344\n",
      "[82.7817]\n",
      "345\n",
      "[83.305]\n",
      "346\n",
      "[83.8414]\n",
      "347\n",
      "[84.3916]\n",
      "348\n",
      "[84.9559]\n",
      "349\n",
      "[85.5351]\n",
      "350\n",
      "[86.1295]\n",
      "351\n",
      "[86.74]\n",
      "352\n",
      "[87.3672]\n",
      "353\n",
      "[88.0118]\n",
      "354\n",
      "[88.6745]\n",
      "355\n",
      "[89.3564]\n",
      "356\n",
      "[90.0581]\n",
      "357\n",
      "[90.7808]\n",
      "358\n",
      "[91.5256]\n",
      "359\n",
      "[92.2935]\n",
      "360\n",
      "[93.0858]\n",
      "361\n",
      "[93.9039]\n",
      "362\n",
      "[94.7494]\n",
      "363\n",
      "[95.6238]\n",
      "364\n",
      "[96.5289]\n",
      "365\n",
      "[97.4669]\n",
      "366\n",
      "[98.4397]\n",
      "367\n",
      "[99.4499]\n",
      "368\n",
      "[100.5002]\n",
      "369\n",
      "[101.5937]\n",
      "370\n",
      "[102.7336]\n",
      "371\n",
      "[103.9239]\n",
      "372\n",
      "[105.1687]\n",
      "373\n",
      "[106.4732]\n",
      "374\n",
      "[107.8427]\n",
      "375\n",
      "[109.2839]\n",
      "376\n",
      "[110.8042]\n",
      "377\n",
      "[112.4123]\n",
      "378\n",
      "[114.1184]\n",
      "379\n",
      "[115.9348]\n",
      "380\n",
      "[117.876]\n",
      "381\n",
      "[119.9598]\n",
      "382\n",
      "[122.2077]\n",
      "383\n",
      "[124.647]\n",
      "384\n",
      "[127.312]\n",
      "385\n",
      "[130.247]\n",
      "386\n",
      "[133.5107]\n",
      "387\n",
      "[137.1831]\n",
      "388\n",
      "[141.3765]\n",
      "389\n",
      "[146.2558]\n",
      "390\n",
      "[152.0753]\n",
      "391\n",
      "[159.2544]\n",
      "392\n",
      "[168.5415]\n",
      "393\n",
      "[181.3797]\n",
      "394\n",
      "[200.1189]\n",
      "395\n",
      "[218.5721]\n",
      "396\n",
      "[218.3411]\n",
      "397\n",
      "[212.4543]\n",
      "398\n",
      "[207.0895]\n",
      "399\n",
      "[202.6531]\n",
      "400\n",
      "[198.958]\n"
     ]
    }
   ],
   "source": [
    "tLarray=[0.0001+i/10. for i in range(401)]\n",
    "#tLarray.extend([i for i in range(4,200)])\n",
    "delta=.1\n",
    "En=0\n",
    "\n",
    "tLdep=np.zeros(len(tLarray))\n",
    "for fd in range(len(tLarray)):\n",
    "    print(fd)\n",
    "    mu=tLarray[fd]\n",
    "    \n",
    "    ekxB=[]\n",
    "    def fdetB(B):\n",
    "        return np.linalg.det(Gtotm1(En,kx,delta,B,tL))/(mu**(4.*(NJ+0)))\n",
    "    x0roots=np.ndarray.tolist(np.linspace(0,100,12))\n",
    "    for i in range(len(x0roots)):\n",
    "        x0=x0roots[i]\n",
    "        solekx=opt.fsolve(fdetB,np.asarray(x0))\n",
    "        if abs(fdetB(solekx))>10**-6 or solekx<0:\n",
    "            solekx=[]\n",
    "        solekx=np.ndarray.tolist(np.around(solekx,4))\n",
    "        ekxB.extend(solekx)\n",
    "    ekxB=list(set(ekxB))\n",
    "    print(ekxB)\n",
    "    if len(ekxB)<NJ: ###here 2*\n",
    "        zerocompletion=[0]*(NJ-len(ekxB)) ###here\n",
    "        ekxB.extend(zerocompletion)\n",
    "    elif len(ekxB)>NJ:  ###here\n",
    "        print(\"Too many roots.\")\n",
    "        break\n",
    "    tLdep[fd]=np.asarray(ekxB)"
   ]
  },
  {
   "cell_type": "code",
   "execution_count": 937,
   "metadata": {},
   "outputs": [
    {
     "data": {
      "text/plain": [
       "[<matplotlib.lines.Line2D at 0x7f554c422890>]"
      ]
     },
     "execution_count": 937,
     "metadata": {},
     "output_type": "execute_result"
    },
    {
     "data": {
      "image/png": "[encoded data removed]",
      "text/plain": [
       "<Figure size 432x288 with 1 Axes>"
      ]
     },
     "metadata": {},
     "output_type": "display_data"
    }
   ],
   "source": [
    "pp.plot(tLarray[1:],tLdep[1:])\n",
    "pp.plot([delta]*10,np.linspace(70,150,10))\n",
    "#pp.plot(tLarray[1:],[40000./x**2.7+100 for x in tLarray[1:]],'.')\n",
    "#pylab.ylim([99,130])"
   ]
  },
  {
   "cell_type": "code",
   "execution_count": 943,
   "metadata": {},
   "outputs": [
    {
     "data": {
      "text/plain": [
       "[<matplotlib.lines.Line2D at 0x7f554c2be110>]"
      ]
     },
     "execution_count": 943,
     "metadata": {},
     "output_type": "execute_result"
    },
    {
     "data": {
      "image/png": "[encoded data removed]",
      "text/plain": [
       "<Figure size 432x288 with 1 Axes>"
      ]
     },
     "metadata": {},
     "output_type": "display_data"
    }
   ],
   "source": [
    "pp.plot(tLarray[1:],tLdep[1:])\n",
    "#pp.plot(tLarray[1:],[40000./x**2.7+100 for x in tLarray[1:]],'.')\n",
    "#pylab.ylim([0,700])"
   ]
  },
  {
   "cell_type": "code",
   "execution_count": 591,
   "metadata": {},
   "outputs": [
    {
     "data": {
      "text/plain": [
       "[<matplotlib.lines.Line2D at 0x7f555030ca50>]"
      ]
     },
     "execution_count": 591,
     "metadata": {},
     "output_type": "execute_result"
    },
    {
     "data": {
      "image/png": "[encoded data removed]",
      "text/plain": [
       "<Figure size 432x288 with 1 Axes>"
      ]
     },
     "metadata": {},
     "output_type": "display_data"
    }
   ],
   "source": [
    "pp.plot(tLarray,[-tLdep[op]+tLarray[op]**2/4.6+tLarray[op]/6.2+8.6+(tLarray[op]-95)**2/1170.-17.2 \\\n",
    "                      for op in range(len(tLarray))])"
   ]
  },
  {
   "cell_type": "code",
   "execution_count": 368,
   "metadata": {},
   "outputs": [
    {
     "data": {
      "text/plain": [
       "-0.0011028398125172423"
      ]
     },
     "execution_count": 368,
     "metadata": {},
     "output_type": "execute_result"
    }
   ],
   "source": [
    "1/6.2-190/1170."
   ]
  },
  {
   "cell_type": "code",
   "execution_count": 343,
   "metadata": {},
   "outputs": [
    {
     "data": {
      "text/plain": [
       "(0, 10)"
      ]
     },
     "execution_count": 343,
     "metadata": {},
     "output_type": "execute_result"
    },
    {
     "data": {
      "image/png": "[encoded data removed]",
      "text/plain": [
       "<Figure size 432x288 with 1 Axes>"
      ]
     },
     "metadata": {},
     "output_type": "display_data"
    }
   ],
   "source": [
    "pp.plot(tLarray,tLdep)\n",
    "pp.plot(tLarray,[0.21823893*op**2-0.8863 for op in tLarray])\n",
    "pylab.xlim([0,10])\n",
    "pylab.ylim([0,10])"
   ]
  },
  {
   "cell_type": "code",
   "execution_count": 714,
   "metadata": {},
   "outputs": [],
   "source": [
    "yl=[0.18278836*op**2-0.9981 for op in tLarray]\n",
    "pk=[np.sqrt(lj**2+(mut(0)-0.1411)**2) for lj in yl]"
   ]
  },
  {
   "cell_type": "code",
   "execution_count": 722,
   "metadata": {},
   "outputs": [
    {
     "data": {
      "text/plain": [
       "0.9608055555555555"
      ]
     },
     "execution_count": 722,
     "metadata": {},
     "output_type": "execute_result"
    }
   ],
   "source": [
    "3.4589/mut(0)"
   ]
  },
  {
   "cell_type": "code",
   "execution_count": 715,
   "metadata": {},
   "outputs": [
    {
     "data": {
      "text/plain": [
       "(0, 10)"
      ]
     },
     "execution_count": 715,
     "metadata": {},
     "output_type": "execute_result"
    },
    {
     "data": {
      "image/png": "[encoded data removed]",
      "text/plain": [
       "<Figure size 432x288 with 1 Axes>"
      ]
     },
     "metadata": {},
     "output_type": "display_data"
    }
   ],
   "source": [
    "pp.plot(tLarray,tLdep)\n",
    "pp.plot(tLarray,pk)\n",
    "pylab.xlim([0,10])\n",
    "pylab.ylim([0,10])"
   ]
  },
  {
   "cell_type": "code",
   "execution_count": 716,
   "metadata": {},
   "outputs": [
    {
     "data": {
      "text/plain": [
       "[<matplotlib.lines.Line2D at 0x7f554fcfd5d0>]"
      ]
     },
     "execution_count": 716,
     "metadata": {},
     "output_type": "execute_result"
    },
    {
     "data": {
      "image/png": "[encoded data removed]",
      "text/plain": [
       "<Figure size 432x288 with 1 Axes>"
      ]
     },
     "metadata": {},
     "output_type": "display_data"
    }
   ],
   "source": [
    "diff=[pk[g]-tLdep[g] for g in range(len(tLarray))]\n",
    "pp.plot(tLarray,diff)\n",
    "#pylab.ylim([0.074,0.0755])"
   ]
  },
  {
   "cell_type": "code",
   "execution_count": 723,
   "metadata": {},
   "outputs": [
    {
     "data": {
      "text/plain": [
       "[<matplotlib.lines.Line2D at 0x7f554fdd3250>]"
      ]
     },
     "execution_count": 723,
     "metadata": {},
     "output_type": "execute_result"
    },
    {
     "data": {
      "image/png": "[encoded data removed]",
      "text/plain": [
       "<Figure size 432x288 with 1 Axes>"
      ]
     },
     "metadata": {},
     "output_type": "display_data"
    }
   ],
   "source": [
    "diff=[abs(pk[g]-tLdep[g])/abs(pk[g]) for g in range(len(tLarray))]\n",
    "pp.plot(tLarray,diff)\n",
    "#pylab.ylim([0.074,0.0755])"
   ]
  },
  {
   "cell_type": "code",
   "execution_count": 414,
   "metadata": {},
   "outputs": [
    {
     "data": {
      "text/plain": [
       "[0.026404936410225233,\n",
       " 0.026406605194966293,\n",
       " 0.026421047653138352,\n",
       " 0.02647665786778175,\n",
       " 0.026521044262328264,\n",
       " 0.026621453538631545,\n",
       " 0.02666535664275793,\n",
       " 0.02676118786719961,\n",
       " 0.026839223697166403,\n",
       " 0.026952581978511247,\n",
       " 0.02707831404823935,\n",
       " 0.02721855226938441,\n",
       " 0.027301662665984328,\n",
       " 0.027483336930002267,\n",
       " 0.027547540110868685,\n",
       " 0.027707210370385926,\n",
       " 0.027804586484397653,\n",
       " 0.027911019318733743,\n",
       " 0.02802610831990382,\n",
       " 0.028075997216624682,\n",
       " 0.028010669594143778,\n",
       " 0.02800011012443493,\n",
       " 0.028029245766555633,\n",
       " 0.027891655926053804,\n",
       " 0.027782140364304375,\n",
       " 0.027488352203672406,\n",
       " 0.027281828107251993,\n",
       " 0.02690886049910368,\n",
       " 0.02658173649744766,\n",
       " 0.026070895607182898,\n",
       " 0.025598520652435397,\n",
       " 0.025033972879881627,\n",
       " 0.024391324881746446,\n",
       " 0.023829057584776603,\n",
       " 0.023151799594335998,\n",
       " 0.022413827052168322,\n",
       " 0.021723930597592922,\n",
       " 0.02095120235447956,\n",
       " 0.020231297817698835,\n",
       " 0.01947277391823743,\n",
       " 0.018763179621319015,\n",
       " 0.018763179621319015,\n",
       " 0.012521346144287904,\n",
       " 0.008444522154142042,\n",
       " 0.005896895742941055,\n",
       " 0.00423644408637891,\n",
       " 0.0031774671834057244,\n",
       " 0.002362122119460963,\n",
       " 0.0018135673597186042,\n",
       " 0.0013823973054165606,\n",
       " 0.0010265853699067407,\n",
       " 0.000795935993465946,\n",
       " 0.0005558960603480045,\n",
       " 0.00033191385045228117,\n",
       " 0.00021781212359428537,\n",
       " 0.00011976714964134771,\n",
       " 2.0910677250185472e-05,\n",
       " -4.1691932551657374e-05,\n",
       " -0.00019240064104053545,\n",
       " -0.0002274817853873401,\n",
       " -0.0003224064910796187,\n",
       " -0.00033702606880581243,\n",
       " -0.00041930271291334975,\n",
       " -0.00040803918045639875,\n",
       " -0.0004349033877133479,\n",
       " -0.0004259488631817021,\n",
       " -0.0005027697365562744,\n",
       " -0.0004833874205587563,\n",
       " -0.0005829379944373159,\n",
       " -0.0005142099375348153,\n",
       " -0.0005880683564782885,\n",
       " -0.0006137923093376685,\n",
       " -0.0005993450097321329,\n",
       " -0.0006515917640967928,\n",
       " -0.0006764768949665267,\n",
       " -0.000679168246279005,\n",
       " -0.0006641758915861828,\n",
       " -0.000635450179856889,\n",
       " -0.0006964631334085425,\n",
       " -0.0006502763534967926,\n",
       " -0.0006995979311454903,\n",
       " -0.0006468303545261733,\n",
       " -0.0006941110042930632,\n",
       " -0.0006433465203485866,\n",
       " -0.0006962420783906964,\n",
       " -0.0006543264198057841,\n",
       " -0.0007189733260020148,\n",
       " -0.0006914201015888466,\n",
       " -0.0006727835357196454,\n",
       " -0.0006640737242378236,\n",
       " -0.0006662060792450575,\n",
       " -0.0006800117869261157,\n",
       " -0.0007062469429683915,\n",
       " -0.0007456005522499254,\n",
       " -0.0006987015507320393,\n",
       " -0.0007661249843522455,\n",
       " -0.0007483974588922138,\n",
       " -0.0007460019572818055,\n",
       " -0.0007593821063665018,\n",
       " -0.0006889459649528362,\n",
       " -0.0007350693932721697,\n",
       " -0.0006980990550573551,\n",
       " -0.0006783550983300302,\n",
       " -0.0006761335530427459,\n",
       " -0.0006917084801898454,\n",
       " -0.0007253338998225445,\n",
       " -0.0006772455246846221,\n",
       " -0.000747662321828102,\n",
       " -0.0007367879193225235,\n",
       " -0.0007448118808497384,\n",
       " -0.0006719108528159268,\n",
       " -0.0007182496080986311,\n",
       " -0.0006839819918695866,\n",
       " -0.0006692517790725105,\n",
       " -0.0006741934550973383,\n",
       " -0.0006989329281168466,\n",
       " -0.000743588176646881,\n",
       " -0.0007082698418798827,\n",
       " -0.000693081768531556,\n",
       " -0.0006981214994539187,\n",
       " -0.0007234807296754298,\n",
       " -0.0006692457222925441,\n",
       " -0.0006354976892453124,\n",
       " -0.0007223131435694086,\n",
       " -0.0006297642205481679,\n",
       " -0.0006579189762305759,\n",
       " -0.0007068416603033256,\n",
       " -0.0006765929692846839,\n",
       " -0.0006672302788501838,\n",
       " -0.0006788078608224168,\n",
       " -0.0006113770823503728,\n",
       " -0.0006649865892995876,\n",
       " -0.0006396824787771038,\n",
       " -0.0006355084569804603,\n",
       " -0.0006525059866362426,\n",
       " -0.0005907144250159035,\n",
       " -0.0006501711486635031,\n",
       " -0.0006309116729426023,\n",
       " -0.0006329697639557708,\n",
       " -0.0006563775373251701,\n",
       " -0.0006011655564179819,\n",
       " -0.0005673629225384502,\n",
       " -0.0006549973554683675,\n",
       " -0.0005640952717840264,\n",
       " -0.0005946818614575022,\n",
       " -0.0005467811488415464,\n",
       " -0.0006204160640663758,\n",
       " -0.000615608496900677,\n",
       " -0.0005323793557181489,\n",
       " -0.0005707486179744592,\n",
       " -0.0005307353812895599,\n",
       " -0.0006123579091763531,\n",
       " -0.0005156336733307398,\n",
       " -0.0005405793958743743,\n",
       " -0.0005872110859854729,\n",
       " -0.0005555440766329411,\n",
       " -0.0005455930604512105,\n",
       " -0.0005573721191467484,\n",
       " -0.0004908947535113839,\n",
       " -0.0005461739156089607,\n",
       " -0.0005232220300968038,\n",
       " -0.0005220510247454513,\n",
       " -0.0005426723496384511,\n",
       " -0.0004850970040024549,\n",
       " -0.0005493355538419564,\n",
       " -0.0005353981546249997,\n",
       " -0.0004432945697772084,\n",
       " -0.00047303418887167936,\n",
       " -0.000524626042079035,\n",
       " -0.0004980788216926157,\n",
       " -0.0004934008916279709,\n",
       " -0.0005106003059154318,\n",
       " -0.0004496848218877858,\n",
       " -0.00041066191170102684,\n",
       " -0.0004935387760269805,\n",
       " -0.00039832235415815376,\n",
       " -0.00042501933876337716,\n",
       " -0.00047363618341478286,\n",
       " -0.00044417911249183817,\n",
       " -0.0004366541334093199,\n",
       " -0.0004510670432864572,\n",
       " -0.0003874234389513731,\n",
       " -0.0003457287239143625,\n",
       " -0.00042598811887728516,\n",
       " -0.0004282066656742245,\n",
       " -0.0003523892373777926,\n",
       " -0.0003985405446655932,\n",
       " -0.0003666651400635601,\n",
       " -0.00035676742572832154,\n",
       " -0.0003688516626425553,\n",
       " -0.0003029219687959994,\n",
       " -0.000358982330908475,\n",
       " -0.00033703660756145837,\n",
       " -0.0003370885333424667,\n",
       " -0.0003591417234929395,\n",
       " -0.0003031996820936911,\n",
       " -0.0002692657999432413,\n",
       " -0.00025734336486493703,\n",
       " -0.0002674355609997292,\n",
       " -0.00029954547517263563,\n",
       " -0.0002536760994189535,\n",
       " -0.00022983033704804257,\n",
       " -0.00022801099930802593,\n",
       " -0.00024822081741149304,\n",
       " -0.00029046243707853137,\n",
       " -0.0002547384292483912,\n",
       " -0.00024105128522933228,\n",
       " -0.00024940342791524017,\n",
       " -0.00017979720450966852,\n",
       " -0.000232234898248862,\n",
       " -0.00020671872334787622,\n",
       " -0.00020325083187344717,\n",
       " -0.00022183331657288363,\n",
       " -0.00016246820723608835,\n",
       " -0.00012515747948782519,\n",
       " -0.00010990305054292548,\n",
       " -0.00011670678941300139,\n",
       " -0.00014557050690200413,\n",
       " -9.649596813687822e-05,\n",
       " -0.00016948488791967975,\n",
       " -0.00016453893476864323,\n",
       " -8.165973486029543e-05,\n",
       " -0.00012084886475349776,\n",
       " -8.210786381823709e-05,\n",
       " -6.543822837556945e-05,\n",
       " -7.084141452651238e-05,\n",
       " -9.831884017330594e-05,\n",
       " -4.7871888455119915e-05,\n",
       " -1.9501901078911033e-05,\n",
       " -1.3210191355028655e-05,\n",
       " -2.8998033485549968e-05,\n",
       " -6.68666725687217e-05,\n",
       " -2.6817317120730877e-05,\n",
       " -8.851151505950838e-06,\n",
       " -1.2969321687705815e-05,\n",
       " 6.0827043853350915e-05,\n",
       " 1.2536856957012787e-05]"
      ]
     },
     "execution_count": 414,
     "metadata": {},
     "output_type": "execute_result"
    }
   ],
   "source": [
    "diff"
   ]
  },
  {
   "cell_type": "code",
   "execution_count": 440,
   "metadata": {},
   "outputs": [
    {
     "data": {
      "text/plain": [
       "2.4161615185389285"
      ]
     },
     "execution_count": 440,
     "metadata": {},
     "output_type": "execute_result"
    }
   ],
   "source": [
    "2.6/1.076087"
   ]
  },
  {
   "cell_type": "code",
   "execution_count": 441,
   "metadata": {},
   "outputs": [
    {
     "data": {
      "text/plain": [
       "2.416"
      ]
     },
     "execution_count": 441,
     "metadata": {},
     "output_type": "execute_result"
    }
   ],
   "source": [
    "2.6-0.184"
   ]
  },
  {
   "cell_type": "code",
   "execution_count": 448,
   "metadata": {},
   "outputs": [
    {
     "data": {
      "text/plain": [
       "1.0581445532694476"
      ]
     },
     "execution_count": 448,
     "metadata": {},
     "output_type": "execute_result"
    }
   ],
   "source": [
    "0.25/0.227072*0.9611"
   ]
  },
  {
   "cell_type": "code",
   "execution_count": null,
   "metadata": {},
   "outputs": [],
   "source": []
  }
 ],
 "metadata": {
  "kernelspec": {
   "display_name": "Python 3",
   "language": "python",
   "name": "python3"
  },
  "language_info": {
   "codemirror_mode": {
    "name": "ipython",
    "version": 2
   },
   "file_extension": ".py",
   "mimetype": "text/x-python",
   "name": "python",
   "nbconvert_exporter": "python",
   "pygments_lexer": "ipython2",
   "version": "2.7.13"
  }
 },
 "nbformat": 4,
 "nbformat_minor": 2
}
