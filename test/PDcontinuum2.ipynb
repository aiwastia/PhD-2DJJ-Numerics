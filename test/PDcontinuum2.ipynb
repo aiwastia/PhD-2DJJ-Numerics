{
 "cells": [
  {
   "cell_type": "code",
   "execution_count": 12,
   "metadata": {},
   "outputs": [],
   "source": [
    "import numpy as np\n",
    "import sympy, scipy, cmath\n",
    "from sympy import *\n",
    "from matplotlib import pyplot as pp\n",
    "from scipy import optimize as opt\n",
    "from scipy.sparse import  coo_matrix as cmm"
   ]
  },
  {
   "cell_type": "code",
   "execution_count": 60,
   "metadata": {},
   "outputs": [],
   "source": [
    "#Parameters\n",
    "#default values: mu=1.8 m=.5 t=3 alR=.7 B=3.07 delta=.5 phi=Pi\n",
    "\n",
    "kx=0.\n",
    "\n",
    "mu=1.8\n",
    "muSC=10\n",
    "m=.5\n",
    "t=51.\n",
    "alR=0.7\n",
    "B=3.07\n",
    "delta=.5\n",
    "phi=np.pi*1.75\n",
    "\n",
    "def mut(kx):return mu-2*t-kx**2/(2*m)-alR**2*m/2\n",
    "def kF(mu):return cmath.sqrt(2*m*mu)\n",
    "def a(t):return 1/cmath.sqrt(2*m*t)\n",
    "\n",
    "def delL(phi):return delta*cmath.exp(1j*phi/2)\n",
    "def delR(phi):return delta*cmath.exp(-1j*phi/2)\n",
    "def nu0(m):return m/(2*np.pi)\n",
    "def xiE(En):return kF(mu)/(m*cmath.sqrt(delta**2-En**2))\n",
    "\n",
    "tL=1.\n",
    "tR=tL\n",
    "\n",
    "NJ=7\n",
    "\n",
    "W=(NJ+1)*a(t)\n",
    "gamma=np.pi*nu0(m)*tL**2\n",
    "\n",
    "#matrix tools\n",
    "eye2=np.eye(2)\n",
    "eye4=np.eye(4)\n",
    "s1=[[0,1],[1,0]]\n",
    "s2=[[0,-1j],[1j,0]]\n",
    "s3=[[1,0],[0,-1]]\n",
    "tP=np.kron([[0,1],[0,0]],eye2)\n",
    "tM=np.kron([[0,0],[1,0]],eye2)\n",
    "t3=np.kron(s3,eye2)"
   ]
  },
  {
   "cell_type": "code",
   "execution_count": null,
   "metadata": {},
   "outputs": [],
   "source": []
  },
  {
   "cell_type": "code",
   "execution_count": 61,
   "metadata": {},
   "outputs": [],
   "source": [
    "#Junction\n",
    "def ke(En,B):return cmath.sqrt(2*m*(En+mu-B))\n",
    "def kh(En,B):return cmath.sqrt(2*m*(-En+mu+B))\n",
    "\n",
    "def spGe(x,xp,En,B):\n",
    "    gg=np.exp(1j*ke(En,B)*abs(x-xp))-np.exp(1j*ke(En,B)*(x+xp+W))+\\\n",
    "    1j/np.sin(ke(En,B)*W)*np.exp(1j*ke(En,B)*W)*(np.cos(ke(En,B)*(x-xp))-np.cos(ke(En,B)*(x+xp+W)))\n",
    "    return -1j*m/ke(En,B)*gg\n",
    "def spGh(x,xp,En,B):\n",
    "    gg=np.exp(1j*kh(En,B)*abs(x-xp))-np.exp(1j*kh(En,B)*(x+xp+W))+\\\n",
    "    1j/np.sin(kh(En,B)*W)*np.exp(1j*kh(En,B)*W)*(np.cos(kh(En,B)*(x-xp))-np.cos(kh(En,B)*(x+xp+W)))\n",
    "    return 1j*m/kh(En,B)*gg\n",
    "\n",
    "def gJcont(En,B):\n",
    "    electronarray=[[spGe(j*a(t),i*a(t),En,B) for i in range(j,NJ+1)] for j in range(1,NJ+1)]\n",
    "    holearray=[[spGh(j*a(t),i*a(t),En,B) for i in range(j,NJ+1)] for j in range(1,NJ+1)]\n",
    "    listdiag=[0]*NJ\n",
    "    for j in range(0,NJ):\n",
    "        prediag=[[electronarray[i][j],electronarray[i][j],holearray[i][j],holearray[i][j]] for i in range(0,NJ-j)]\n",
    "        newdiag=np.ndarray.tolist(np.asarray(prediag).reshape(1,4*(NJ-j))[0])\n",
    "        listdiag[j]=newdiag\n",
    "    gJsparse0=scipy.sparse.diags(listdiag[0:1],[0])\n",
    "    gJsparseUP=scipy.sparse.diags(listdiag[1:],range(4,4*NJ,4))\n",
    "    return gJsparse0+gJsparseUP+gJsparseUP.transpose()\n",
    "\n",
    "def gJm1(En,kx,B):\n",
    "    return scipy.sparse.linalg.inv(gJcont(En,B)).toarray()\n",
    "\n",
    "#Superconductors\n",
    "# xiE-> infty to avoid more symbolic:\n",
    "#def fL(kx):\n",
    "#    return 1/(kF*a)*(np.log(1-np.exp(1j*a*(kF+kx)))+np.log(1-np.exp(1j*a*(kF-kx))))-1j\n",
    "\n",
    "def fL(En,kx):\n",
    "    return 1/(kF(mu)*a(t))*(cmath.log(1-cmath.exp(-a(t)/xiE(En)+1j*a(t)*(kF(mu)+kx)))+\\\n",
    "                         cmath.log(1-cmath.exp(-a(t)/xiE(En)+1j*a(t)*(kF(mu)-kx))))-1j\n",
    "\n",
    "def gSC1m1(En,kx,phi):\n",
    "    return -1/(np.pi*nu0(m)*abs(fL(En,kx))**2)*((En*eye4 - delL(phi)*tP - np.conj(delL(phi))*tM)*\\\n",
    "                                                 fL(En,kx).imag/cmath.sqrt(delta**2 - En**2) - fL(En,kx).real*t3)\n",
    "\n",
    "def gSC2m1(En,kx,phi):\n",
    "    return -1/(np.pi*nu0(m)*abs(fL(En,kx))**2)*((En*eye4 - delR(phi)*tP - np.conj(delR(phi))*tM)*\\\n",
    "                                                 fL(En,kx).imag/cmath.sqrt(delta**2 - En**2) - fL(En,kx).real*t3)\n",
    "\n",
    "#SC/J coupling\n",
    "rowindex=np.array([1,2,3,4,4*NJ+1,4*NJ+2,4*NJ+3,4*NJ+4])-1\n",
    "colindex=np.array([5,6,7,8,4*(NJ+1)+1,4*(NJ+1)+2,4*(NJ+1)+3,4*(NJ+1)+4])-1\n",
    "hoppings=[tL,tL,-tL,-tL,tR,tR,-tR,-tR]\n",
    "mHt1=cmm((hoppings,(rowindex,colindex)),shape=(4*(NJ+2),4*(NJ+2)))\n",
    "mHt=mHt1+mHt1.transpose()\n",
    "\n",
    "#total inverse GF\n",
    "def Gtotm1(En,kx,phi,B):\n",
    "    return scipy.linalg.block_diag(gSC1m1(En,kx,phi),gJm1(En,kx,B),gSC2m1(En,kx,phi))+mHt.toarray()"
   ]
  },
  {
   "cell_type": "code",
   "execution_count": 62,
   "metadata": {},
   "outputs": [
    {
     "name": "stdout",
     "output_type": "stream",
     "text": [
      "0\n",
      "[9.622033792]\n",
      "1\n",
      "[]\n",
      "2\n",
      "[]\n",
      "3\n",
      "[9.622033792]\n",
      "4\n",
      "[9.622033792]\n",
      "5\n",
      "[9.622033792]\n",
      "6\n",
      "[9.622033792]\n",
      "7\n",
      "[9.622033792]\n",
      "8\n",
      "[9.622033792]\n",
      "9\n",
      "[9.622033792]\n",
      "10\n",
      "[9.622033792]\n",
      "11\n",
      "[9.622033792]\n",
      "12\n",
      "[9.622033792]\n",
      "13\n",
      "[9.622033792]\n",
      "14\n",
      "[9.622033792]\n",
      "15\n",
      "[9.622033792]\n",
      "16\n",
      "[9.622033792]\n",
      "17\n",
      "[9.622033792]\n",
      "18\n",
      "[9.622033792]\n",
      "19\n",
      "[9.622033792]\n",
      "20\n",
      "[9.622033792]\n",
      "21\n",
      "[9.622033792]\n",
      "22\n",
      "[9.622033792]\n",
      "23\n",
      "[9.622033792]\n",
      "24\n",
      "[9.622033792]\n",
      "25\n",
      "[9.622033792]\n",
      "26\n",
      "[9.622033792]\n",
      "27\n",
      "[9.622033792]\n",
      "28\n",
      "[9.622033792]\n",
      "29\n",
      "[9.622033792]\n",
      "30\n"
     ]
    },
    {
     "ename": "RuntimeError",
     "evalue": "Factor is exactly singular",
     "output_type": "error",
     "traceback": [
      "\u001b[0;31m---------------------------------------------------------------------------\u001b[0m",
      "\u001b[0;31mRuntimeError\u001b[0m                              Traceback (most recent call last)",
      "\u001b[0;32m<ipython-input-62-338b110730e9>\u001b[0m in \u001b[0;36m<module>\u001b[0;34m()\u001b[0m\n\u001b[1;32m     12\u001b[0m     \u001b[0;32mprint\u001b[0m\u001b[0;34m(\u001b[0m\u001b[0mi\u001b[0m\u001b[0;34m)\u001b[0m\u001b[0;34m\u001b[0m\u001b[0m\n\u001b[1;32m     13\u001b[0m     \u001b[0mx0\u001b[0m\u001b[0;34m=\u001b[0m\u001b[0mx0roots\u001b[0m\u001b[0;34m[\u001b[0m\u001b[0mi\u001b[0m\u001b[0;34m]\u001b[0m\u001b[0;34m\u001b[0m\u001b[0m\n\u001b[0;32m---> 14\u001b[0;31m     \u001b[0msolekx\u001b[0m\u001b[0;34m=\u001b[0m\u001b[0mopt\u001b[0m\u001b[0;34m.\u001b[0m\u001b[0mfsolve\u001b[0m\u001b[0;34m(\u001b[0m\u001b[0mfdetB\u001b[0m\u001b[0;34m,\u001b[0m\u001b[0mnp\u001b[0m\u001b[0;34m.\u001b[0m\u001b[0masarray\u001b[0m\u001b[0;34m(\u001b[0m\u001b[0mx0\u001b[0m\u001b[0;34m)\u001b[0m\u001b[0;34m)\u001b[0m\u001b[0;34m\u001b[0m\u001b[0m\n\u001b[0m\u001b[1;32m     15\u001b[0m     \u001b[0;32mif\u001b[0m \u001b[0mabs\u001b[0m\u001b[0;34m(\u001b[0m\u001b[0mfdetB\u001b[0m\u001b[0;34m(\u001b[0m\u001b[0msolekx\u001b[0m\u001b[0;34m)\u001b[0m\u001b[0;34m)\u001b[0m\u001b[0;34m>\u001b[0m\u001b[0;36m10\u001b[0m\u001b[0;34m**\u001b[0m\u001b[0;34m-\u001b[0m\u001b[0;36m6\u001b[0m \u001b[0;32mor\u001b[0m \u001b[0msolekx\u001b[0m\u001b[0;34m<=\u001b[0m\u001b[0;36m0\u001b[0m\u001b[0;34m:\u001b[0m\u001b[0;31m# or solekx>2*np.pi+0.1 :\u001b[0m\u001b[0;34m\u001b[0m\u001b[0m\n\u001b[1;32m     16\u001b[0m         \u001b[0msolekx\u001b[0m\u001b[0;34m=\u001b[0m\u001b[0;34m[\u001b[0m\u001b[0;34m]\u001b[0m\u001b[0;34m\u001b[0m\u001b[0m\n",
      "\u001b[0;32m/usr/local/lib64/python2.7/site-packages/scipy/optimize/minpack.pyc\u001b[0m in \u001b[0;36mfsolve\u001b[0;34m(func, x0, args, fprime, full_output, col_deriv, xtol, maxfev, band, epsfcn, factor, diag)\u001b[0m\n\u001b[1;32m    145\u001b[0m                'diag': diag}\n\u001b[1;32m    146\u001b[0m \u001b[0;34m\u001b[0m\u001b[0m\n\u001b[0;32m--> 147\u001b[0;31m     \u001b[0mres\u001b[0m \u001b[0;34m=\u001b[0m \u001b[0m_root_hybr\u001b[0m\u001b[0;34m(\u001b[0m\u001b[0mfunc\u001b[0m\u001b[0;34m,\u001b[0m \u001b[0mx0\u001b[0m\u001b[0;34m,\u001b[0m \u001b[0margs\u001b[0m\u001b[0;34m,\u001b[0m \u001b[0mjac\u001b[0m\u001b[0;34m=\u001b[0m\u001b[0mfprime\u001b[0m\u001b[0;34m,\u001b[0m \u001b[0;34m**\u001b[0m\u001b[0moptions\u001b[0m\u001b[0;34m)\u001b[0m\u001b[0;34m\u001b[0m\u001b[0m\n\u001b[0m\u001b[1;32m    148\u001b[0m     \u001b[0;32mif\u001b[0m \u001b[0mfull_output\u001b[0m\u001b[0;34m:\u001b[0m\u001b[0;34m\u001b[0m\u001b[0m\n\u001b[1;32m    149\u001b[0m         \u001b[0mx\u001b[0m \u001b[0;34m=\u001b[0m \u001b[0mres\u001b[0m\u001b[0;34m[\u001b[0m\u001b[0;34m'x'\u001b[0m\u001b[0;34m]\u001b[0m\u001b[0;34m\u001b[0m\u001b[0m\n",
      "\u001b[0;32m/usr/local/lib64/python2.7/site-packages/scipy/optimize/minpack.pyc\u001b[0m in \u001b[0;36m_root_hybr\u001b[0;34m(func, x0, args, jac, col_deriv, xtol, maxfev, band, eps, factor, diag, **unknown_options)\u001b[0m\n\u001b[1;32m    223\u001b[0m             \u001b[0mmaxfev\u001b[0m \u001b[0;34m=\u001b[0m \u001b[0;36m200\u001b[0m \u001b[0;34m*\u001b[0m \u001b[0;34m(\u001b[0m\u001b[0mn\u001b[0m \u001b[0;34m+\u001b[0m \u001b[0;36m1\u001b[0m\u001b[0;34m)\u001b[0m\u001b[0;34m\u001b[0m\u001b[0m\n\u001b[1;32m    224\u001b[0m         retval = _minpack._hybrd(func, x0, args, 1, xtol, maxfev,\n\u001b[0;32m--> 225\u001b[0;31m                                  ml, mu, epsfcn, factor, diag)\n\u001b[0m\u001b[1;32m    226\u001b[0m     \u001b[0;32melse\u001b[0m\u001b[0;34m:\u001b[0m\u001b[0;34m\u001b[0m\u001b[0m\n\u001b[1;32m    227\u001b[0m         \u001b[0m_check_func\u001b[0m\u001b[0;34m(\u001b[0m\u001b[0;34m'fsolve'\u001b[0m\u001b[0;34m,\u001b[0m \u001b[0;34m'fprime'\u001b[0m\u001b[0;34m,\u001b[0m \u001b[0mDfun\u001b[0m\u001b[0;34m,\u001b[0m \u001b[0mx0\u001b[0m\u001b[0;34m,\u001b[0m \u001b[0margs\u001b[0m\u001b[0;34m,\u001b[0m \u001b[0mn\u001b[0m\u001b[0;34m,\u001b[0m \u001b[0;34m(\u001b[0m\u001b[0mn\u001b[0m\u001b[0;34m,\u001b[0m \u001b[0mn\u001b[0m\u001b[0;34m)\u001b[0m\u001b[0;34m)\u001b[0m\u001b[0;34m\u001b[0m\u001b[0m\n",
      "\u001b[0;32m<ipython-input-62-338b110730e9>\u001b[0m in \u001b[0;36mfdetB\u001b[0;34m(B)\u001b[0m\n\u001b[1;32m      2\u001b[0m \u001b[0;34m\u001b[0m\u001b[0m\n\u001b[1;32m      3\u001b[0m \u001b[0;32mdef\u001b[0m \u001b[0mfdetB\u001b[0m\u001b[0;34m(\u001b[0m\u001b[0mB\u001b[0m\u001b[0;34m)\u001b[0m\u001b[0;34m:\u001b[0m\u001b[0;34m\u001b[0m\u001b[0m\n\u001b[0;32m----> 4\u001b[0;31m     \u001b[0;32mreturn\u001b[0m \u001b[0mnp\u001b[0m\u001b[0;34m.\u001b[0m\u001b[0mlinalg\u001b[0m\u001b[0;34m.\u001b[0m\u001b[0mdet\u001b[0m\u001b[0;34m(\u001b[0m\u001b[0mGtotm1\u001b[0m\u001b[0;34m(\u001b[0m\u001b[0mEn\u001b[0m\u001b[0;34m,\u001b[0m\u001b[0mkx\u001b[0m\u001b[0;34m,\u001b[0m\u001b[0mphi\u001b[0m\u001b[0;34m,\u001b[0m\u001b[0mB\u001b[0m\u001b[0;34m)\u001b[0m\u001b[0;34m)\u001b[0m\u001b[0;34m/\u001b[0m\u001b[0;34m(\u001b[0m\u001b[0mmu\u001b[0m\u001b[0;34m**\u001b[0m\u001b[0;34m(\u001b[0m\u001b[0;34m(\u001b[0m\u001b[0;36m2\u001b[0m\u001b[0;34m*\u001b[0m\u001b[0mt\u001b[0m\u001b[0;34m+\u001b[0m\u001b[0mmu\u001b[0m\u001b[0;34m)\u001b[0m\u001b[0;34m*\u001b[0m\u001b[0;34m(\u001b[0m\u001b[0mNJ\u001b[0m\u001b[0;34m+\u001b[0m\u001b[0;36m2\u001b[0m\u001b[0;34m)\u001b[0m\u001b[0;34m)\u001b[0m\u001b[0;34m)\u001b[0m \u001b[0;31m#norm\u001b[0m\u001b[0;34m\u001b[0m\u001b[0m\n\u001b[0m\u001b[1;32m      5\u001b[0m \u001b[0;34m\u001b[0m\u001b[0m\n\u001b[1;32m      6\u001b[0m \u001b[0mBmin\u001b[0m\u001b[0;34m=\u001b[0m\u001b[0;36m0.1\u001b[0m\u001b[0;34m\u001b[0m\u001b[0m\n",
      "\u001b[0;32m<ipython-input-61-8c56664e50b2>\u001b[0m in \u001b[0;36mGtotm1\u001b[0;34m(En, kx, phi, B)\u001b[0m\n\u001b[1;32m     48\u001b[0m \u001b[0;31m#total inverse GF\u001b[0m\u001b[0;34m\u001b[0m\u001b[0;34m\u001b[0m\u001b[0m\n\u001b[1;32m     49\u001b[0m \u001b[0;32mdef\u001b[0m \u001b[0mGtotm1\u001b[0m\u001b[0;34m(\u001b[0m\u001b[0mEn\u001b[0m\u001b[0;34m,\u001b[0m\u001b[0mkx\u001b[0m\u001b[0;34m,\u001b[0m\u001b[0mphi\u001b[0m\u001b[0;34m,\u001b[0m\u001b[0mB\u001b[0m\u001b[0;34m)\u001b[0m\u001b[0;34m:\u001b[0m\u001b[0;34m\u001b[0m\u001b[0m\n\u001b[0;32m---> 50\u001b[0;31m     \u001b[0;32mreturn\u001b[0m \u001b[0mscipy\u001b[0m\u001b[0;34m.\u001b[0m\u001b[0mlinalg\u001b[0m\u001b[0;34m.\u001b[0m\u001b[0mblock_diag\u001b[0m\u001b[0;34m(\u001b[0m\u001b[0mgSC1m1\u001b[0m\u001b[0;34m(\u001b[0m\u001b[0mEn\u001b[0m\u001b[0;34m,\u001b[0m\u001b[0mkx\u001b[0m\u001b[0;34m,\u001b[0m\u001b[0mphi\u001b[0m\u001b[0;34m)\u001b[0m\u001b[0;34m,\u001b[0m\u001b[0mgJm1\u001b[0m\u001b[0;34m(\u001b[0m\u001b[0mEn\u001b[0m\u001b[0;34m,\u001b[0m\u001b[0mkx\u001b[0m\u001b[0;34m,\u001b[0m\u001b[0mB\u001b[0m\u001b[0;34m)\u001b[0m\u001b[0;34m,\u001b[0m\u001b[0mgSC2m1\u001b[0m\u001b[0;34m(\u001b[0m\u001b[0mEn\u001b[0m\u001b[0;34m,\u001b[0m\u001b[0mkx\u001b[0m\u001b[0;34m,\u001b[0m\u001b[0mphi\u001b[0m\u001b[0;34m)\u001b[0m\u001b[0;34m)\u001b[0m\u001b[0;34m+\u001b[0m\u001b[0mmHt\u001b[0m\u001b[0;34m.\u001b[0m\u001b[0mtoarray\u001b[0m\u001b[0;34m(\u001b[0m\u001b[0;34m)\u001b[0m\u001b[0;34m\u001b[0m\u001b[0m\n\u001b[0m",
      "\u001b[0;32m<ipython-input-61-8c56664e50b2>\u001b[0m in \u001b[0;36mgJm1\u001b[0;34m(En, kx, B)\u001b[0m\n\u001b[1;32m     23\u001b[0m \u001b[0;34m\u001b[0m\u001b[0m\n\u001b[1;32m     24\u001b[0m \u001b[0;32mdef\u001b[0m \u001b[0mgJm1\u001b[0m\u001b[0;34m(\u001b[0m\u001b[0mEn\u001b[0m\u001b[0;34m,\u001b[0m\u001b[0mkx\u001b[0m\u001b[0;34m,\u001b[0m\u001b[0mB\u001b[0m\u001b[0;34m)\u001b[0m\u001b[0;34m:\u001b[0m\u001b[0;34m\u001b[0m\u001b[0m\n\u001b[0;32m---> 25\u001b[0;31m     \u001b[0;32mreturn\u001b[0m \u001b[0mscipy\u001b[0m\u001b[0;34m.\u001b[0m\u001b[0msparse\u001b[0m\u001b[0;34m.\u001b[0m\u001b[0mlinalg\u001b[0m\u001b[0;34m.\u001b[0m\u001b[0minv\u001b[0m\u001b[0;34m(\u001b[0m\u001b[0mgJcont\u001b[0m\u001b[0;34m(\u001b[0m\u001b[0mEn\u001b[0m\u001b[0;34m,\u001b[0m\u001b[0mB\u001b[0m\u001b[0;34m)\u001b[0m\u001b[0;34m)\u001b[0m\u001b[0;34m.\u001b[0m\u001b[0mtoarray\u001b[0m\u001b[0;34m(\u001b[0m\u001b[0;34m)\u001b[0m\u001b[0;34m\u001b[0m\u001b[0m\n\u001b[0m\u001b[1;32m     26\u001b[0m \u001b[0;34m\u001b[0m\u001b[0m\n\u001b[1;32m     27\u001b[0m \u001b[0;31m#Superconductors\u001b[0m\u001b[0;34m\u001b[0m\u001b[0;34m\u001b[0m\u001b[0m\n",
      "\u001b[0;32m/usr/local/lib64/python2.7/site-packages/scipy/sparse/linalg/matfuncs.pyc\u001b[0m in \u001b[0;36minv\u001b[0;34m(A)\u001b[0m\n\u001b[1;32m     76\u001b[0m \u001b[0;34m\u001b[0m\u001b[0m\n\u001b[1;32m     77\u001b[0m     \u001b[0mI\u001b[0m \u001b[0;34m=\u001b[0m \u001b[0mspeye\u001b[0m\u001b[0;34m(\u001b[0m\u001b[0mA\u001b[0m\u001b[0;34m.\u001b[0m\u001b[0mshape\u001b[0m\u001b[0;34m[\u001b[0m\u001b[0;36m0\u001b[0m\u001b[0;34m]\u001b[0m\u001b[0;34m,\u001b[0m \u001b[0mA\u001b[0m\u001b[0;34m.\u001b[0m\u001b[0mshape\u001b[0m\u001b[0;34m[\u001b[0m\u001b[0;36m1\u001b[0m\u001b[0;34m]\u001b[0m\u001b[0;34m,\u001b[0m \u001b[0mdtype\u001b[0m\u001b[0;34m=\u001b[0m\u001b[0mA\u001b[0m\u001b[0;34m.\u001b[0m\u001b[0mdtype\u001b[0m\u001b[0;34m,\u001b[0m \u001b[0mformat\u001b[0m\u001b[0;34m=\u001b[0m\u001b[0mA\u001b[0m\u001b[0;34m.\u001b[0m\u001b[0mformat\u001b[0m\u001b[0;34m)\u001b[0m\u001b[0;34m\u001b[0m\u001b[0m\n\u001b[0;32m---> 78\u001b[0;31m     \u001b[0mAinv\u001b[0m \u001b[0;34m=\u001b[0m \u001b[0mspsolve\u001b[0m\u001b[0;34m(\u001b[0m\u001b[0mA\u001b[0m\u001b[0;34m,\u001b[0m \u001b[0mI\u001b[0m\u001b[0;34m)\u001b[0m\u001b[0;34m\u001b[0m\u001b[0m\n\u001b[0m\u001b[1;32m     79\u001b[0m     \u001b[0;32mreturn\u001b[0m \u001b[0mAinv\u001b[0m\u001b[0;34m\u001b[0m\u001b[0m\n\u001b[1;32m     80\u001b[0m \u001b[0;34m\u001b[0m\u001b[0m\n",
      "\u001b[0;32m/usr/local/lib64/python2.7/site-packages/scipy/sparse/linalg/dsolve/linsolve.pyc\u001b[0m in \u001b[0;36mspsolve\u001b[0;34m(A, b, permc_spec, use_umfpack)\u001b[0m\n\u001b[1;32m    197\u001b[0m         \u001b[0;32melse\u001b[0m\u001b[0;34m:\u001b[0m\u001b[0;34m\u001b[0m\u001b[0m\n\u001b[1;32m    198\u001b[0m             \u001b[0;31m# b is sparse\u001b[0m\u001b[0;34m\u001b[0m\u001b[0;34m\u001b[0m\u001b[0m\n\u001b[0;32m--> 199\u001b[0;31m             \u001b[0mAfactsolve\u001b[0m \u001b[0;34m=\u001b[0m \u001b[0mfactorized\u001b[0m\u001b[0;34m(\u001b[0m\u001b[0mA\u001b[0m\u001b[0;34m)\u001b[0m\u001b[0;34m\u001b[0m\u001b[0m\n\u001b[0m\u001b[1;32m    200\u001b[0m \u001b[0;34m\u001b[0m\u001b[0m\n\u001b[1;32m    201\u001b[0m             \u001b[0;32mif\u001b[0m \u001b[0;32mnot\u001b[0m \u001b[0misspmatrix_csc\u001b[0m\u001b[0;34m(\u001b[0m\u001b[0mb\u001b[0m\u001b[0;34m)\u001b[0m\u001b[0;34m:\u001b[0m\u001b[0;34m\u001b[0m\u001b[0m\n",
      "\u001b[0;32m/usr/local/lib64/python2.7/site-packages/scipy/sparse/linalg/dsolve/linsolve.pyc\u001b[0m in \u001b[0;36mfactorized\u001b[0;34m(A)\u001b[0m\n\u001b[1;32m    441\u001b[0m         \u001b[0;32mreturn\u001b[0m \u001b[0msolve\u001b[0m\u001b[0;34m\u001b[0m\u001b[0m\n\u001b[1;32m    442\u001b[0m     \u001b[0;32melse\u001b[0m\u001b[0;34m:\u001b[0m\u001b[0;34m\u001b[0m\u001b[0m\n\u001b[0;32m--> 443\u001b[0;31m         \u001b[0;32mreturn\u001b[0m \u001b[0msplu\u001b[0m\u001b[0;34m(\u001b[0m\u001b[0mA\u001b[0m\u001b[0;34m)\u001b[0m\u001b[0;34m.\u001b[0m\u001b[0msolve\u001b[0m\u001b[0;34m\u001b[0m\u001b[0m\n\u001b[0m\u001b[1;32m    444\u001b[0m \u001b[0;34m\u001b[0m\u001b[0m\n\u001b[1;32m    445\u001b[0m \u001b[0;34m\u001b[0m\u001b[0m\n",
      "\u001b[0;32m/usr/local/lib64/python2.7/site-packages/scipy/sparse/linalg/dsolve/linsolve.pyc\u001b[0m in \u001b[0;36msplu\u001b[0;34m(A, permc_spec, diag_pivot_thresh, relax, panel_size, options)\u001b[0m\n\u001b[1;32m    309\u001b[0m         \u001b[0m_options\u001b[0m\u001b[0;34m.\u001b[0m\u001b[0mupdate\u001b[0m\u001b[0;34m(\u001b[0m\u001b[0moptions\u001b[0m\u001b[0;34m)\u001b[0m\u001b[0;34m\u001b[0m\u001b[0m\n\u001b[1;32m    310\u001b[0m     return _superlu.gstrf(N, A.nnz, A.data, A.indices, A.indptr,\n\u001b[0;32m--> 311\u001b[0;31m                           ilu=False, options=_options)\n\u001b[0m\u001b[1;32m    312\u001b[0m \u001b[0;34m\u001b[0m\u001b[0m\n\u001b[1;32m    313\u001b[0m \u001b[0;34m\u001b[0m\u001b[0m\n",
      "\u001b[0;31mRuntimeError\u001b[0m: Factor is exactly singular"
     ]
    }
   ],
   "source": [
    "En=0\n",
    "\n",
    "def fdetB(B):\n",
    "    return np.linalg.det(Gtotm1(En,kx,phi,B))/(mu**((2*t+mu)*(NJ+2))) #norm\n",
    "\n",
    "Bmin=0.1\n",
    "Bmax=40.\n",
    "Barray=[]\n",
    "x0roots=np.linspace(Bmin,Bmax+0.1,np.int((Bmax-Bmin)/0.5))\n",
    "#norm=max(max(mu,t,alR,delta,tL**2)**((2*t+mu)*(NJ+2)),Bmax**(4*(NJ+2)))\n",
    "for i in range(len(x0roots)):\n",
    "    print(i)\n",
    "    x0=x0roots[i]\n",
    "    solekx=opt.fsolve(fdetB,np.asarray(x0))\n",
    "    if abs(fdetB(solekx))>10**-6 or solekx<=0:# or solekx>2*np.pi+0.1 :\n",
    "        solekx=[]\n",
    "    solekx=np.ndarray.tolist(np.around(solekx,10))\n",
    "    print(solekx)\n",
    "    Barray.extend(solekx)\n",
    "Barray=sorted(list(set(Barray)))"
   ]
  },
  {
   "cell_type": "code",
   "execution_count": 5,
   "metadata": {},
   "outputs": [
    {
     "name": "stdout",
     "output_type": "stream",
     "text": [
      "19 MISSING transitions\n"
     ]
    },
    {
     "name": "stderr",
     "output_type": "stream",
     "text": [
      "/usr/local/lib/python2.7/site-packages/ipykernel_launcher.py:11: RuntimeWarning: invalid value encountered in arccos\n",
      "  # This is added back by InteractiveShellApp.init_path()\n"
     ]
    },
    {
     "data": {
      "text/plain": [
       "Text(0,0.5,'n')"
      ]
     },
     "execution_count": 5,
     "metadata": {},
     "output_type": "execute_result"
    },
    {
     "data": {
      "image/png": "[encoded data removed]",
      "text/plain": [
       "<Figure size 1440x720 with 1 Axes>"
      ]
     },
     "metadata": {},
     "output_type": "display_data"
    }
   ],
   "source": [
    "pp.figure(figsize=(20,10))\n",
    "\n",
    "pp.plot(Barray,range(1,len(Barray)+1),'.')\n",
    "if len(Barray)==NJ:\n",
    "    print(\"ALL transitions shown\")\n",
    "else:\n",
    "    print(\"{} MISSING transitions\".format(NJ-len(Barray)))\n",
    "\n",
    "xbarray=np.linspace(-1,12,201)\n",
    "ybarray=(NJ+1)/np.pi*np.arccos((xbarray+(mu-2*t))/(-2*t))\n",
    "ybarray2=(NJ+1)/np.pi*np.arccos((xbarray-(mu-2*t))/(+2*t))\n",
    "pp.plot(xbarray,ybarray)\n",
    "pp.plot(xbarray,ybarray2)\n",
    "pp.xlabel('$B_n=-(\\mu-2t)-2t \\cos(n \\pi/(N_J+1))$',fontsize=15)\n",
    "pp.ylabel('n',fontsize=20)\n",
    "#pp.axis([-0.1,11,1-0.1,10])"
   ]
  },
  {
   "cell_type": "code",
   "execution_count": null,
   "metadata": {},
   "outputs": [],
   "source": []
  }
 ],
 "metadata": {
  "kernelspec": {
   "display_name": "Python 3",
   "language": "python",
   "name": "python3"
  },
  "language_info": {
   "codemirror_mode": {
    "name": "ipython",
    "version": 2
   },
   "file_extension": ".py",
   "mimetype": "text/x-python",
   "name": "python",
   "nbconvert_exporter": "python",
   "pygments_lexer": "ipython2",
   "version": "2.7.13"
  }
 },
 "nbformat": 4,
 "nbformat_minor": 2
}
