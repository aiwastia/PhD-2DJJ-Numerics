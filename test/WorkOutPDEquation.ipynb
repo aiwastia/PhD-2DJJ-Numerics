{
 "cells": [
  {
   "cell_type": "code",
   "execution_count": 2,
   "metadata": {},
   "outputs": [],
   "source": [
    "import numpy as np\n",
    "import cmath\n",
    "from scipy import optimize as opt\n",
    "from matplotlib import pyplot as pp"
   ]
  },
  {
   "cell_type": "code",
   "execution_count": null,
   "metadata": {},
   "outputs": [],
   "source": []
  },
  {
   "cell_type": "code",
   "execution_count": 2,
   "metadata": {},
   "outputs": [],
   "source": [
    "muSC=3.\n",
    "mu=50\n",
    "m=.5\n",
    "W=10.\n",
    "phi=1.5*np.pi"
   ]
  },
  {
   "cell_type": "code",
   "execution_count": 3,
   "metadata": {},
   "outputs": [],
   "source": [
    "def EQ(B):\n",
    "    if B>mu:\n",
    "        trigo=np.sqrt(2*m*(B+mu))*W\n",
    "        trigoh=np.sqrt(2*m*(B-mu))*W\n",
    "        eqz=-np.cos(trigo)*np.cosh(trigoh)+np.sin(trigo)*np.sinh(trigoh)*(muSC**2+mu**2-B**2)/(2*muSC*np.sqrt(B**2-mu**2))+\\\n",
    "        np.cos(phi)\n",
    "    else:\n",
    "        eqz=1000000\n",
    "    return eqz"
   ]
  },
  {
   "cell_type": "code",
   "execution_count": 4,
   "metadata": {
    "scrolled": true
   },
   "outputs": [
    {
     "name": "stderr",
     "output_type": "stream",
     "text": [
      "/anaconda3/lib/python3.7/site-packages/scipy/optimize/minpack.py:162: RuntimeWarning: The iteration is not making good progress, as measured by the \n",
      "  improvement from the last ten iterations.\n",
      "  warnings.warn(msg, RuntimeWarning)\n",
      "/anaconda3/lib/python3.7/site-packages/scipy/optimize/minpack.py:162: RuntimeWarning: The iteration is not making good progress, as measured by the \n",
      "  improvement from the last five Jacobian evaluations.\n",
      "  warnings.warn(msg, RuntimeWarning)\n"
     ]
    }
   ],
   "source": [
    "M=100\n",
    "phiarray=np.linspace(0,2*np.pi,M+1)\n",
    "\n",
    "Bmin=mu\n",
    "Bmax=10*mu\n",
    "\n",
    "x0roots=np.linspace(Bmin,Bmax,np.int((Bmax-Bmin)/1.))\n",
    "BphiList=[0]*len(phiarray)\n",
    "\n",
    "for j in range(len(phiarray)):\n",
    "    phi=phiarray[j]\n",
    "    #print('{}) phi={}'.format(j+1,phi))\n",
    "    Barray=[]\n",
    "    for i in range(len(x0roots)):\n",
    "        #print('{}-{}'.format(j+1,i+1))\n",
    "        x0=x0roots[i]\n",
    "        solekx=opt.fsolve(EQ,np.asarray(x0))\n",
    "        if abs(EQ(solekx))>10**-10 or solekx<=0:\n",
    "            solekx=[]\n",
    "        solekx=np.ndarray.tolist(np.around(solekx,6))\n",
    "        #print(solekx)\n",
    "        Barray.extend(solekx)\n",
    "    Barray=sorted(list(set(Barray)))\n",
    "    BphiList[j]=Barray"
   ]
  },
  {
   "cell_type": "code",
   "execution_count": 5,
   "metadata": {},
   "outputs": [
    {
     "data": {
      "image/png": "[encoded data removed]",
      "text/plain": [
       "<Figure size 1440x720 with 1 Axes>"
      ]
     },
     "metadata": {
      "needs_background": "light"
     },
     "output_type": "display_data"
    }
   ],
   "source": [
    "pp.figure(figsize=(20,10))\n",
    "for i in range(M+1):\n",
    "    pp.plot(BphiList[i],[phiarray[i]]*len(BphiList[i]),'*')\n",
    "\n",
    "#pp.axis([0.55,.65,0,6.2])"
   ]
  },
  {
   "cell_type": "code",
   "execution_count": null,
   "metadata": {},
   "outputs": [],
   "source": []
  },
  {
   "cell_type": "code",
   "execution_count": null,
   "metadata": {},
   "outputs": [],
   "source": []
  },
  {
   "cell_type": "code",
   "execution_count": null,
   "metadata": {},
   "outputs": [],
   "source": []
  },
  {
   "cell_type": "code",
   "execution_count": null,
   "metadata": {},
   "outputs": [],
   "source": []
  },
  {
   "cell_type": "code",
   "execution_count": null,
   "metadata": {},
   "outputs": [],
   "source": []
  },
  {
   "cell_type": "markdown",
   "metadata": {},
   "source": [
    "**Complete scattering matrix in e/h x spin x L/R space**"
   ]
  },
  {
   "cell_type": "code",
   "execution_count": 3,
   "metadata": {},
   "outputs": [],
   "source": [
    "import cmath\n",
    "import scipy"
   ]
  },
  {
   "cell_type": "code",
   "execution_count": 658,
   "metadata": {},
   "outputs": [],
   "source": [
    "m=0.5\n",
    "W=2.\n",
    "mu=50.\n",
    "muSC=3.\n",
    "\n",
    "k0=cmath.sqrt(2*m*muSC)\n",
    "\n",
    "def k1(s,B):\n",
    "    if s==1 or s==0: #k1(1)=kappa k1(0)=tilde k\n",
    "        kk=cmath.sqrt(2*m*(mu+(-1)**(s)*B))\n",
    "    else:\n",
    "        print(\"error: spin up (1) or down (0)\")\n",
    "    return kk\n",
    "\n",
    "def rL(s,B):\n",
    "    #using sinc for sin(0)/0 #sinc(x)=sin(pi x)/pi x => W sinc(Wk/pi) = W sin(Wk)/Wk = sin(Wk)/k\n",
    "    return -1j*(k0**2-k1(s,B)**2)/(2*k0)*W*np.sinc(k1(s,B)*W/np.pi)/NNr(s,B)\n",
    "def rR(s,B):\n",
    "    return rL(s,B)*cmath.exp(-2*1j*W*k0)\n",
    "\n",
    "def tLR(s,B):\n",
    "    return cmath.exp(-1j*W*k0)/NNr(s,B)\n",
    "\n",
    "def NNr(s,B):\n",
    "    return np.cos(k1(s,B)*W)-1j*(k0**2+k1(s,B)**2)/(2*k0)*W*np.sinc(k1(s,B)*W/np.pi)\n",
    "\n",
    "def Se(s,B):\n",
    "    return np.array([[rL(s,B),tLR(s,B)],[tLR(s,B),rR(s,B)]])\n",
    "\n",
    "def Sh(s,B):\n",
    "    #by particle/hole symmetry, Sh=s2 Se* s2 => exchange on diagonal + cc\n",
    "    return np.conj(Se(1-s,B))\n",
    "\n",
    "def fullSJ(B):\n",
    "    return scipy.linalg.block_diag(Se(1,B),Se(0,B),Sh(1,B),Sh(0,B))\n",
    "\n",
    "def SSC(phi):\n",
    "    alp=-1j*cmath.exp(1j*phi/2)\n",
    "    alm=-1j*cmath.exp(-1j*phi/2)\n",
    "    return np.array([[0,0,0,0,alp,0,0,0],\n",
    "            [0,0,0,0,0,alm,0,0],\n",
    "            [0,0,0,0,0,0,alp,0],\n",
    "            [0,0,0,0,0,0,0,alm],\n",
    "            [alm,0,0,0,0,0,0,0],\n",
    "            [0,alp,0,0,0,0,0,0],\n",
    "            [0,0,alm,0,0,0,0,0],\n",
    "            [0,0,0,alp,0,0,0,0]])\n",
    "\n",
    "def detScat(B,phi):\n",
    "    return abs(np.linalg.det(np.eye(8)-np.matmul(SSC(phi),fullSJ(B))))"
   ]
  },
  {
   "cell_type": "code",
   "execution_count": 659,
   "metadata": {},
   "outputs": [],
   "source": [
    "#intermediate determinantal equations\n",
    "def EQdet1(B,phi):\n",
    "    rAp=cmath.exp(1j*phi/2)\n",
    "    rAm=cmath.exp(-1j*phi/2)\n",
    "    reflAnd=np.array([[rAp,0,0,0],\n",
    "             [0,rAm,0,0],\n",
    "             [0,0,rAp,0],\n",
    "             [0,0,0,rAm]])\n",
    "    scatE=scipy.linalg.block_diag(Se(1,B),Se(0,B))\n",
    "    scatH=scipy.linalg.block_diag(Sh(1,B),Sh(0,B))\n",
    "    #alpha=-i\n",
    "    return abs(np.linalg.det(np.eye(4)+np.matmul(np.conj(reflAnd),np.matmul(scatE,np.matmul(reflAnd,scatH)))))"
   ]
  },
  {
   "cell_type": "code",
   "execution_count": 660,
   "metadata": {},
   "outputs": [],
   "source": [
    "#intermediate determinantal equations\n",
    "def etas(s,B):\n",
    "    return np.angle(Se(s,B)[0][1])\n",
    "def SqDs(s,B):\n",
    "    return abs(Se(s,B)[0][1])\n",
    "def SqRs(s,B):\n",
    "    return abs(Se(s,B)[0][0])\n",
    "def gams(s,B):\n",
    "    return np.angle(Se(s,B)[0][0])-etas(s,B)\n",
    "\n",
    "def EQdet2(B,phi): #has same zeros but different normalization\n",
    "    etaT=etas(1,B)-etas(0,B)\n",
    "    gamT=gams(1,B)-gams(0,B)\n",
    "    RT=SqRs(0,B)*SqRs(1,B)\n",
    "    DT=SqDs(0,B)*SqDs(1,B)\n",
    "    return abs(np.cos(etaT)+RT*np.cos(gamT)+DT*np.cos(phi))"
   ]
  },
  {
   "cell_type": "code",
   "execution_count": 414,
   "metadata": {},
   "outputs": [
    {
     "data": {
      "text/plain": [
       "-0.09838920267701079"
      ]
     },
     "execution_count": 414,
     "metadata": {},
     "output_type": "execute_result"
    }
   ],
   "source": [
    "EQdet2(1,np.pi)"
   ]
  },
  {
   "cell_type": "code",
   "execution_count": 664,
   "metadata": {},
   "outputs": [],
   "source": [
    "phi=np.pi\n",
    "Bxarray=np.linspace(100,110,100)\n",
    "#detarray=[detScat(B,phi) for B in Bxarray]\n",
    "detarray1=[EQdet1(B,phi) for B in Bxarray]\n",
    "detarray2=[EQdet2(B,phi) for B in Bxarray]\n",
    "detarray3=[EQsign(B,phi) for B in Bxarray]"
   ]
  },
  {
   "cell_type": "code",
   "execution_count": 665,
   "metadata": {},
   "outputs": [
    {
     "data": {
      "text/plain": [
       "[0, 150, 0, 15]"
      ]
     },
     "execution_count": 665,
     "metadata": {},
     "output_type": "execute_result"
    },
    {
     "data": {
      "image/png": "[encoded data removed]",
      "text/plain": [
       "<Figure size 1440x720 with 1 Axes>"
      ]
     },
     "metadata": {},
     "output_type": "display_data"
    }
   ],
   "source": [
    "pp.figure(figsize=(20,10))\n",
    "#pp.plot(Bxarray,detarray,'.')\n",
    "pp.plot(Bxarray,detarray1,'*')\n",
    "pp.plot(Bxarray,detarray2,'--')\n",
    "pp.plot(Bxarray,detarray3,'-')\n",
    "pp.plot(Bxarray,[0]*len(Bxarray))\n",
    "pp.axis([0,150,0,15])"
   ]
  },
  {
   "cell_type": "markdown",
   "metadata": {},
   "source": [
    "cosarray=[np.cos(k1(0,B)*W) for B in np.linspace(0,1000,500)]\n",
    "pp.plot(np.linspace(0,1000,500),cosarray)"
   ]
  },
  {
   "cell_type": "code",
   "execution_count": 645,
   "metadata": {},
   "outputs": [],
   "source": [
    "import time"
   ]
  },
  {
   "cell_type": "code",
   "execution_count": 655,
   "metadata": {
    "scrolled": true
   },
   "outputs": [
    {
     "name": "stdout",
     "output_type": "stream",
     "text": [
      "1) phi=0.0\n",
      "2) phi=0.0628318530718\n",
      "3) phi=0.125663706144\n",
      "4) phi=0.188495559215\n",
      "5) phi=0.251327412287\n",
      "6) phi=0.314159265359\n",
      "7) phi=0.376991118431\n",
      "8) phi=0.439822971503\n",
      "9) phi=0.502654824574\n"
     ]
    },
    {
     "name": "stderr",
     "output_type": "stream",
     "text": [
      "/usr/local/lib/python2.7/site-packages/ipykernel_launcher.py:5: RuntimeWarning: overflow encountered in cos\n",
      "  \"\"\"\n",
      "/usr/local/lib/python2.7/site-packages/ipykernel_launcher.py:5: RuntimeWarning: invalid value encountered in cdouble_scalars\n",
      "  \"\"\"\n",
      "/usr/local/lib/python2.7/site-packages/ipykernel_launcher.py:5: RuntimeWarning: overflow encountered in sin\n",
      "  \"\"\"\n",
      "/usr/local/lib/python2.7/site-packages/ipykernel_launcher.py:5: RuntimeWarning: invalid value encountered in multiply\n",
      "  \"\"\"\n",
      "/usr/local/lib/python2.7/site-packages/ipykernel_launcher.py:5: RuntimeWarning: divide by zero encountered in divide\n",
      "  \"\"\"\n",
      "/usr/local/lib/python2.7/site-packages/ipykernel_launcher.py:5: RuntimeWarning: invalid value encountered in divide\n",
      "  \"\"\"\n"
     ]
    },
    {
     "name": "stdout",
     "output_type": "stream",
     "text": [
      "10) phi=0.565486677646\n",
      "11) phi=0.628318530718\n",
      "12) phi=0.69115038379\n",
      "13) phi=0.753982236862\n",
      "14) phi=0.816814089933\n",
      "15) phi=0.879645943005\n",
      "16) phi=0.942477796077\n",
      "17) phi=1.00530964915\n",
      "18) phi=1.06814150222\n",
      "19) phi=1.13097335529\n",
      "20) phi=1.19380520836\n",
      "21) phi=1.25663706144\n",
      "22) phi=1.31946891451\n",
      "23) phi=1.38230076758\n",
      "24) phi=1.44513262065\n",
      "25) phi=1.50796447372\n",
      "26) phi=1.57079632679\n",
      "27) phi=1.63362817987\n",
      "28) phi=1.69646003294\n",
      "29) phi=1.75929188601\n",
      "30) phi=1.82212373908\n",
      "31) phi=1.88495559215\n",
      "32) phi=1.94778744523\n",
      "33) phi=2.0106192983\n",
      "34) phi=2.07345115137\n",
      "35) phi=2.13628300444\n",
      "36) phi=2.19911485751\n",
      "37) phi=2.26194671058\n",
      "38) phi=2.32477856366\n",
      "39) phi=2.38761041673\n",
      "40) phi=2.4504422698\n",
      "41) phi=2.51327412287\n",
      "42) phi=2.57610597594\n",
      "43) phi=2.63893782902\n",
      "44) phi=2.70176968209\n",
      "45) phi=2.76460153516\n",
      "46) phi=2.82743338823\n",
      "47) phi=2.8902652413\n",
      "48) phi=2.95309709437\n",
      "49) phi=3.01592894745\n",
      "50) phi=3.07876080052\n",
      "51) phi=3.14159265359\n",
      "52) phi=3.20442450666\n",
      "53) phi=3.26725635973\n",
      "54) phi=3.33008821281\n",
      "55) phi=3.39292006588\n",
      "56) phi=3.45575191895\n",
      "57) phi=3.51858377202\n",
      "58) phi=3.58141562509\n",
      "59) phi=3.64424747816\n",
      "60) phi=3.70707933124\n",
      "61) phi=3.76991118431\n",
      "62) phi=3.83274303738\n",
      "63) phi=3.89557489045\n",
      "64) phi=3.95840674352\n",
      "65) phi=4.02123859659\n",
      "66) phi=4.08407044967\n",
      "67) phi=4.14690230274\n",
      "68) phi=4.20973415581\n",
      "69) phi=4.27256600888\n",
      "70) phi=4.33539786195\n",
      "71) phi=4.39822971503\n",
      "72) phi=4.4610615681\n",
      "73) phi=4.52389342117\n",
      "74) phi=4.58672527424\n",
      "75) phi=4.64955712731\n",
      "76) phi=4.71238898038\n",
      "77) phi=4.77522083346\n",
      "78) phi=4.83805268653\n",
      "79) phi=4.9008845396\n",
      "80) phi=4.96371639267\n",
      "81) phi=5.02654824574\n",
      "82) phi=5.08938009882\n",
      "83) phi=5.15221195189\n",
      "84) phi=5.21504380496\n",
      "85) phi=5.27787565803\n",
      "86) phi=5.3407075111\n",
      "87) phi=5.40353936417\n",
      "88) phi=5.46637121725\n",
      "89) phi=5.52920307032\n",
      "90) phi=5.59203492339\n",
      "91) phi=5.65486677646\n",
      "92) phi=5.71769862953\n",
      "93) phi=5.78053048261\n",
      "94) phi=5.84336233568\n",
      "95) phi=5.90619418875\n",
      "96) phi=5.96902604182\n",
      "97) phi=6.03185789489\n",
      "98) phi=6.09468974796\n",
      "99) phi=6.15752160104\n",
      "100) phi=6.22035345411\n",
      "101) phi=6.28318530718\n",
      "duration=2.41669583321\n"
     ]
    }
   ],
   "source": [
    "start=time.time()\n",
    "M=100\n",
    "phiarray=np.linspace(0,2*np.pi,M+1)\n",
    "#phiarray=[np.pi]\n",
    "\n",
    "Bmin=0\n",
    "Bmax=65.\n",
    "x0roots=np.linspace(Bmin,Bmax,np.int((Bmax-Bmin)/1.)+1)\n",
    "BphiList=[0]*len(phiarray)\n",
    "\n",
    "for j in range(len(phiarray)):\n",
    "    phi=phiarray[j]\n",
    "    print('{}) phi={}'.format(j+1,phi))\n",
    "    \n",
    "    def EQsignred(B):\n",
    "        return EQsign(B,phi)\n",
    "    \n",
    "    Barray=[]\n",
    "    for i in range(len(x0roots)):\n",
    "        #print('{}-{}'.format(j+1,i+1))\n",
    "        x0=x0roots[i]\n",
    "        solekx=opt.fsolve(EQsignred,np.asarray(x0))\n",
    "        if abs(EQsignred(solekx))>10**-10 or solekx<=0:\n",
    "            solekx=[]\n",
    "        solekx=np.ndarray.tolist(np.around(solekx,6))\n",
    "        #print(solekx)\n",
    "        Barray.extend(solekx)\n",
    "    Barray=sorted(list(set(Barray)))\n",
    "    BphiList[j]=Barray\n",
    "\n",
    "end=time.time()\n",
    "print('duration={}'.format(end-start))"
   ]
  },
  {
   "cell_type": "code",
   "execution_count": 656,
   "metadata": {},
   "outputs": [
    {
     "data": {
      "text/plain": [
       "Text(0,0.5,'$\\\\phi$')"
      ]
     },
     "execution_count": 656,
     "metadata": {},
     "output_type": "execute_result"
    },
    {
     "data": {
      "image/png": "[encoded data removed]",
      "text/plain": [
       "<Figure size 1440x720 with 1 Axes>"
      ]
     },
     "metadata": {},
     "output_type": "display_data"
    }
   ],
   "source": [
    "pp.figure(figsize=(20,10))\n",
    "for i in range(len(phiarray)):\n",
    "    pp.plot(BphiList[i],[phiarray[i]]*len(BphiList[i]),'*')\n",
    "\n",
    "pp.axis([0,65,0,6.3])\n",
    "pp.title('PD of JJ (scattering formula) for mu=muSC={}, W={}'.format(mu,W), fontsize=20)\n",
    "pp.xlabel('$B$',fontsize=20)\n",
    "pp.ylabel('$\\phi$',fontsize=20)"
   ]
  },
  {
   "cell_type": "code",
   "execution_count": 256,
   "metadata": {
    "scrolled": true
   },
   "outputs": [
    {
     "data": {
      "text/plain": [
       "[0, 30, 0, 1000.0]"
      ]
     },
     "execution_count": 256,
     "metadata": {},
     "output_type": "execute_result"
    },
    {
     "data": {
      "image/png": "[encoded data removed]",
      "text/plain": [
       "<Figure size 432x288 with 1 Axes>"
      ]
     },
     "metadata": {},
     "output_type": "display_data"
    }
   ],
   "source": [
    "pp.plot(BphiList[0],'-')\n",
    "#pp.plot(pre,'*')\n",
    "pp.axis([0,30,Bmin,Bmax])"
   ]
  },
  {
   "cell_type": "code",
   "execution_count": null,
   "metadata": {
    "scrolled": true
   },
   "outputs": [],
   "source": []
  },
  {
   "cell_type": "code",
   "execution_count": null,
   "metadata": {},
   "outputs": [],
   "source": []
  },
  {
   "cell_type": "code",
   "execution_count": null,
   "metadata": {},
   "outputs": [],
   "source": []
  },
  {
   "cell_type": "code",
   "execution_count": null,
   "metadata": {},
   "outputs": [],
   "source": []
  },
  {
   "cell_type": "code",
   "execution_count": 606,
   "metadata": {},
   "outputs": [
    {
     "data": {
      "text/plain": [
       "[<matplotlib.lines.Line2D at 0x7f212b8d7790>]"
      ]
     },
     "execution_count": 606,
     "metadata": {},
     "output_type": "execute_result"
    },
    {
     "data": {
      "image/png": "[encoded data removed]",
      "text/plain": [
       "<Figure size 432x288 with 1 Axes>"
      ]
     },
     "metadata": {},
     "output_type": "display_data"
    }
   ],
   "source": [
    "gh=np.linspace(-5,5)\n",
    "cosgh=[np.sin(cmath.sqrt(trt-1))/cmath.sqrt(trt-1) for trt in gh]\n",
    "coshg=[np.sinh(cmath.sqrt(1-trt))/cmath.sqrt(1-trt) for trt in gh]\n",
    "pp.plot(gh,cosgh)\n",
    "pp.plot(gh,coshg,'*')"
   ]
  },
  {
   "cell_type": "markdown",
   "metadata": {},
   "source": [
    "** Analytical derivation for B>mu **"
   ]
  },
  {
   "cell_type": "code",
   "execution_count": 657,
   "metadata": {},
   "outputs": [],
   "source": [
    "def EQsign(B,phi):\n",
    "    #if B<=mu:\n",
    "    ktw=k1(0,B)*W #R\n",
    "    kap=k1(1,B)*W #R\n",
    "    return abs((np.cos(ktw)*np.cos(kap)+(muSC**2+mu**2-B**2)/(2*muSC*cmath.sqrt(mu**2-B**2))*np.sin(ktw)*np.sin(kap)\\\n",
    "                   +np.cos(phi))/np.cos(kap)) #cos is useful to normalize the function when B>mu (cosh)\n",
    "    #else:\n",
    "    #ktw=k1(0,B)*W #R\n",
    "    #kap=k1(1,B)*W #I\n",
    "    #return abs((np.cos(ktw)*np.cosh(kap)+(muSC**2+mu**2-B**2)/(2*muSC*cmath.sqrt(B**2-mu**2))*np.sin(ktw)*np.sinh(kap)\\\n",
    "    #               +np.cos(phi))/np.cosh(kap))"
   ]
  },
  {
   "cell_type": "code",
   "execution_count": 507,
   "metadata": {},
   "outputs": [],
   "source": [
    "#intermediate determinantal equations\n",
    "#def kap(s,B):\n",
    "#    if B>mu:\n",
    "#        return np.imag(k1(s,B))\n",
    "#    else:\n",
    "#        print('error: B<mu')\n",
    "def etas2(s,B):\n",
    "    return -W*k0+np.arctan((k0**2+k1(s,B)**2)/(2*k0*k1(s,B))*np.tan(W*k1(s,B)))\n",
    "def SqDs2(s,B):\n",
    "    return np.sqrt(np.cos(W*k1(s,B))**2+((k0**2+k1(s,B)**2)/(2*k0*k1(s,B))*np.sin(W*k1(s,B)))**2)\n",
    "def SqRs2(s,B):#can be more specialized later\n",
    "    return np.sqrt(1-SqDs2(s,B)**2)\n",
    "\n",
    "def cosgamT(B):\n",
    "    return np.sign(np.sin(W*k1(0,B)))*np.sign(k0**2-k1(0,B))*np.sign(np.sin(W*k1(1,B)))*np.sign(k0**2-k1(1,B))\n",
    "\n",
    "def EQsign1(B,phi): #has same zeros but different normalization\n",
    "    etaT=etas2(1,B)-etas2(0,B)\n",
    "    RT=SqRs2(0,B)*SqRs2(1,B)\n",
    "    DT=SqDs2(0,B)*SqDs2(1,B)\n",
    "    return np.cos(etaT)+RT*cosgamT(B)+DT*np.cos(phi)"
   ]
  },
  {
   "cell_type": "code",
   "execution_count": null,
   "metadata": {},
   "outputs": [],
   "source": []
  },
  {
   "cell_type": "code",
   "execution_count": 300,
   "metadata": {
    "scrolled": true
   },
   "outputs": [
    {
     "name": "stdout",
     "output_type": "stream",
     "text": [
      "1) phi=0.0\n",
      "2) phi=0.125663706144\n",
      "3) phi=0.251327412287\n",
      "4) phi=0.376991118431\n",
      "5) phi=0.502654824574\n",
      "6) phi=0.628318530718\n",
      "7) phi=0.753982236862\n",
      "8) phi=0.879645943005\n",
      "9) phi=1.00530964915\n",
      "10) phi=1.13097335529\n",
      "11) phi=1.25663706144\n",
      "12) phi=1.38230076758\n",
      "13) phi=1.50796447372\n",
      "14) phi=1.63362817987\n",
      "15) phi=1.75929188601\n",
      "16) phi=1.88495559215\n",
      "17) phi=2.0106192983\n",
      "18) phi=2.13628300444\n",
      "19) phi=2.26194671058\n",
      "20) phi=2.38761041673\n",
      "21) phi=2.51327412287\n",
      "22) phi=2.63893782902\n",
      "23) phi=2.76460153516\n",
      "24) phi=2.8902652413\n",
      "25) phi=3.01592894745\n",
      "26) phi=3.14159265359\n",
      "27) phi=3.26725635973\n",
      "28) phi=3.39292006588\n",
      "29) phi=3.51858377202\n",
      "30) phi=3.64424747816\n",
      "31) phi=3.76991118431\n",
      "32) phi=3.89557489045\n",
      "33) phi=4.02123859659\n",
      "34) phi=4.14690230274\n",
      "35) phi=4.27256600888\n",
      "36) phi=4.39822971503\n",
      "37) phi=4.52389342117\n",
      "38) phi=4.64955712731\n",
      "39) phi=4.77522083346\n",
      "40) phi=4.9008845396\n",
      "41) phi=5.02654824574\n",
      "42) phi=5.15221195189\n",
      "43) phi=5.27787565803\n",
      "44) phi=5.40353936417\n",
      "45) phi=5.52920307032\n",
      "46) phi=5.65486677646\n",
      "47) phi=5.78053048261\n",
      "48) phi=5.90619418875\n",
      "49) phi=6.03185789489\n",
      "50) phi=6.15752160104\n",
      "51) phi=6.28318530718\n"
     ]
    }
   ],
   "source": [
    "M=50\n",
    "phiarray=np.linspace(0,2*np.pi,M+1)\n",
    "#phiarray=[np.pi]\n",
    "\n",
    "Bmin=0\n",
    "Bmax=50.\n",
    "x0roots=np.linspace(Bmin,Bmax,np.int((Bmax-Bmin)/1.)+1)\n",
    "BphiList=[0]*len(phiarray)\n",
    "\n",
    "for j in range(len(phiarray)):\n",
    "    phi=phiarray[j]\n",
    "    print('{}) phi={}'.format(j+1,phi))\n",
    "    \n",
    "    def EQsignred(B):\n",
    "        return EQsign(B,phi)\n",
    "    \n",
    "    Barray=[]\n",
    "    for i in range(len(x0roots)):\n",
    "        #print('{}-{}'.format(j+1,i+1))\n",
    "        x0=x0roots[i]\n",
    "        solekx=opt.fsolve(EQsignred,np.asarray(x0))\n",
    "        if abs(EQsignred(solekx))>10**-10 or solekx<=0:\n",
    "            solekx=[]\n",
    "        solekx=np.ndarray.tolist(np.around(solekx,6))\n",
    "        #print(solekx)\n",
    "        Barray.extend(solekx)\n",
    "    Barray=sorted(list(set(Barray)))\n",
    "    BphiList[j]=Barray"
   ]
  },
  {
   "cell_type": "code",
   "execution_count": 310,
   "metadata": {},
   "outputs": [
    {
     "data": {
      "image/png": "[encoded data removed]",
      "text/plain": [
       "<Figure size 1440x720 with 1 Axes>"
      ]
     },
     "metadata": {},
     "output_type": "display_data"
    }
   ],
   "source": [
    "pp.figure(figsize=(20,10))\n",
    "for i in range(len(phiarray)):\n",
    "    pp.plot(BphiList[i],[phiarray[i]]*len(BphiList[i]),'*')\n",
    "\n",
    "#pp.axis([44.165,44.168,0,6.3])"
   ]
  },
  {
   "cell_type": "code",
   "execution_count": 302,
   "metadata": {},
   "outputs": [],
   "source": [
    "Bxarray2=np.linspace(0,100,100000)\n",
    "EQarray=[EQsign(B,1) for B in Bxarray2]"
   ]
  },
  {
   "cell_type": "code",
   "execution_count": 303,
   "metadata": {},
   "outputs": [
    {
     "data": {
      "text/plain": [
       "[0, 100, 0.0, 16]"
      ]
     },
     "execution_count": 303,
     "metadata": {},
     "output_type": "execute_result"
    },
    {
     "data": {
      "image/png": "[encoded data removed]",
      "text/plain": [
       "<Figure size 1440x720 with 1 Axes>"
      ]
     },
     "metadata": {},
     "output_type": "display_data"
    }
   ],
   "source": [
    "pp.figure(figsize=(20,10))\n",
    "pp.plot(Bxarray2,EQarray,'*')\n",
    "pp.plot(Bxarray2,[0]*len(Bxarray2))\n",
    "pp.axis([0,100,0.,16])"
   ]
  },
  {
   "cell_type": "code",
   "execution_count": null,
   "metadata": {},
   "outputs": [],
   "source": []
  },
  {
   "cell_type": "code",
   "execution_count": null,
   "metadata": {},
   "outputs": [],
   "source": []
  },
  {
   "cell_type": "code",
   "execution_count": null,
   "metadata": {},
   "outputs": [],
   "source": []
  },
  {
   "cell_type": "code",
   "execution_count": null,
   "metadata": {},
   "outputs": [],
   "source": []
  },
  {
   "cell_type": "code",
   "execution_count": null,
   "metadata": {},
   "outputs": [],
   "source": []
  }
 ],
 "metadata": {
  "kernelspec": {
   "display_name": "Python 3",
   "language": "python",
   "name": "python3"
  },
  "language_info": {
   "codemirror_mode": {
    "name": "ipython",
    "version": 2
   },
   "file_extension": ".py",
   "mimetype": "text/x-python",
   "name": "python",
   "nbconvert_exporter": "python",
   "pygments_lexer": "ipython2",
   "version": "2.7.13"
  }
 },
 "nbformat": 4,
 "nbformat_minor": 2
}
