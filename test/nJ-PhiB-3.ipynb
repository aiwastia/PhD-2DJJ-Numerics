{
 "cells": [
  {
   "cell_type": "code",
   "execution_count": 3,
   "metadata": {},
   "outputs": [],
   "source": [
    "import numpy as np\n",
    "import sympy, scipy, cmath\n",
    "from sympy import *\n",
    "#from sympy import symbols\n",
    "#from sympy.solvers.solveset import nonlinsolve\n",
    "from scipy import sparse as sp\n",
    "#from scipy import linalg as ln\n",
    "from scipy import optimize as opt\n",
    "from scipy.sparse import  coo_matrix as cmm\n",
    "from matplotlib import pyplot as pp"
   ]
  },
  {
   "cell_type": "code",
   "execution_count": 146,
   "metadata": {},
   "outputs": [
    {
     "name": "stdout",
     "output_type": "stream",
     "text": [
      "(1.0, 0.5, 0.8429777677248872)\n"
     ]
    }
   ],
   "source": [
    "#Parameters\n",
    "#global kx,mu, m, t, alR, B, kF, a, al, delta, phi, delL, delR, nu0, tL, tR, NJ, eye2, s1, s2, s3, tP, tM, t3\n",
    "\n",
    "kx=0.\n",
    "\n",
    "mu=1.8\n",
    "m=.5\n",
    "t=1\n",
    "alR=0.3\n",
    "def mut(kx):\n",
    "    return mu-2*t-kx**2/(2*m)-alR**2*m/2\n",
    "B=2     #looped\n",
    "kF=np.sqrt(2*m*mu)\n",
    "\n",
    "a=1/np.sqrt(2*m*t)\n",
    "al=alR/a\n",
    "\n",
    "delta=.5\n",
    "phi=np.pi-0.0001    #looped\n",
    "def delL(phi):\n",
    "    return delta*cmath.exp(1j*phi/2)\n",
    "def delR(phi):\n",
    "    return delta*cmath.exp(-1j*phi/2)\n",
    "nu0=m/(2*np.pi)\n",
    "def xiE(En):\n",
    "    return kF/(m*cmath.sqrt(delta**2-En**2))\n",
    "\n",
    "tL=2\n",
    "tR=tL\n",
    "#def TT(B):\n",
    "#    return -mut(0)+np.sqrt(t**2+B**2)\n",
    "\n",
    "GammaL=np.pi*nu0*tL**2 #=m*tL**2/2\n",
    "GammaR=np.pi*nu0*tR**2 #=m*tR**2/2\n",
    "\n",
    "NJ=5\n",
    "\n",
    "ET=np.pi/2*kF/m/(NJ*a)\n",
    "\n",
    "print(GammaL,delta,ET)\n",
    "\n",
    "#matrix tools\n",
    "eye2=np.eye(2)\n",
    "eye4=np.eye(4)\n",
    "s1=[[0,1],[1,0]]\n",
    "s2=[[0,-1j],[1j,0]]\n",
    "s3=[[1,0],[0,-1]]\n",
    "tP=np.kron([[0,1],[0,0]],eye2)\n",
    "tM=np.kron([[0,0],[1,0]],eye2)\n",
    "t3=np.kron(s3,eye2)"
   ]
  },
  {
   "cell_type": "code",
   "execution_count": 147,
   "metadata": {},
   "outputs": [],
   "source": [
    "#Junction\n",
    "def HJ0(kx):\n",
    "    return -mut(kx)*t3+alR*kx*np.kron(s3,s2)+B*np.kron(eye2,s1)\n",
    "Hy=-t*t3+1j*al/2*np.kron(s3,s1)\n",
    "\n",
    "\n",
    "def HJ(kx):\n",
    "    start=cmm(HJ0(kx))\n",
    "    HJs=start\n",
    "    for n in range(2,NJ+1):\n",
    "        OT=cmm(np.zeros([len(HJs.toarray())-4,4]))\n",
    "        BT=sp.vstack([OT,cmm(Hy)])\n",
    "        CT=sp.hstack([OT.transpose(),cmm(Hy.conj().T),start])\n",
    "        HJs=sp.hstack([HJs,BT])\n",
    "        HJs=sp.vstack([HJs,CT])\n",
    "    return HJs\n",
    "\n",
    "def gJm1(En,kx):\n",
    "    return En*np.eye(4*NJ)-HJ(kx).toarray()\n",
    "\n",
    "#Superconductors\n",
    "# xiE-> infty to avoid more symbolic:\n",
    "#def fL(kx):\n",
    "#    return 1/(kF*a)*(np.log(1-np.exp(1j*a*(kF+kx)))+np.log(1-np.exp(1j*a*(kF-kx))))-1j\n",
    "\n",
    "def fL(En,kx):\n",
    "    return 1/(kF*a)*(cmath.log(1-cmath.exp(-a/xiE(En)+1j*a*(kF+kx)))+cmath.log(1-cmath.exp(-a/xiE(En)+1j*a*(kF-kx))))-1j\n",
    "\n",
    "def gSC1m1(En,kx,phi):\n",
    "    return 1/(np.pi*nu0*abs(fL(En,kx))**2)*((En*eye4 - delL(phi)*tP - np.conj(delL(phi))*tM)*\\\n",
    "                                                 fL(En,kx).imag/cmath.sqrt(delta**2 - En**2) - fL(En,kx).real*t3)\n",
    "\n",
    "def gSC2m1(En,kx,phi):\n",
    "    return 1/(np.pi*nu0*abs(fL(En,kx))**2)*((En*eye4 - delR(phi)*tP - np.conj(delR(phi))*tM)*\\\n",
    "                                                 fL(En,kx).imag/cmath.sqrt(delta**2 - En**2) - fL(En,kx).real*t3)\n",
    "\n",
    "#SC/J coupling\n",
    "rowindex=np.array([1,2,3,4,4*NJ+1,4*NJ+2,4*NJ+3,4*NJ+4])-1\n",
    "colindex=np.array([5,6,7,8,4*(NJ+1)+1,4*(NJ+1)+2,4*(NJ+1)+3,4*(NJ+1)+4])-1\n",
    "hoppings=[tL,tL,-tL,-tL,tR,tR,-tR,-tR]\n",
    "mHt1=cmm((hoppings,(rowindex,colindex)),shape=(4*(NJ+2),4*(NJ+2)))\n",
    "mHt=mHt1+mHt1.transpose()\n",
    "\n",
    "#total inverse GF\n",
    "def Gtotm1(En,kx,phi):\n",
    "    return scipy.linalg.block_diag(gSC1m1(En,kx,phi),gJm1(En,kx),gSC2m1(En,kx,phi))+mHt.toarray()"
   ]
  },
  {
   "cell_type": "code",
   "execution_count": 160,
   "metadata": {
    "scrolled": true
   },
   "outputs": [
    {
     "name": "stdout",
     "output_type": "stream",
     "text": [
      "0\n",
      "1\n",
      "2\n",
      "3\n",
      "4\n",
      "5\n",
      "6\n",
      "7\n",
      "8\n",
      "9\n",
      "10\n",
      "11\n",
      "12\n",
      "13\n",
      "14\n",
      "15\n",
      "16\n",
      "17\n",
      "18\n",
      "19\n",
      "20\n",
      "21\n",
      "22\n",
      "23\n",
      "24\n",
      "25\n",
      "26\n",
      "27\n",
      "28\n",
      "29\n",
      "30\n",
      "31\n",
      "32\n",
      "33\n",
      "34\n",
      "35\n",
      "36\n",
      "37\n",
      "38\n",
      "39\n",
      "40\n",
      "41\n",
      "42\n",
      "43\n",
      "44\n",
      "45\n",
      "46\n",
      "47\n",
      "48\n",
      "49\n",
      "50\n"
     ]
    }
   ],
   "source": [
    "M=50\n",
    "Barray=np.linspace(0,3,M+1)\n",
    "#Barray1=np.ndarray.tolist(np.linspace(3.2,3.3,20))\n",
    "#Barray2=np.ndarray.tolist(np.linspace(9.15,9.45,40))\n",
    "#Barray3=np.ndarray.tolist(np.linspace(2.9,3.1,30))\n",
    "#Barray=np.asarray(Barray1+Barray2)#+Barray3)\n",
    "#M=len(Barray)-1\n",
    "\n",
    "#phi scanning\n",
    "NP=100\n",
    "ppk=np.linspace(0,2*np.pi,NP+1)\n",
    "\n",
    "PDphi=np.zeros((M+1,2))\n",
    "\n",
    "En=0\n",
    "zerogap=0.0000001\n",
    "\n",
    "for qq in range(M+1):\n",
    "    B=Barray[qq]\n",
    "    print(qq)\n",
    "    detppk=[np.linalg.det(Gtotm1(0,0,ppk[j]))/(mu**(4*(NJ+0))) for j in range(len(ppk))]\n",
    "    selectsmall=[x for x in detppk if np.real(x)<2] #variable input to exclude the horizontal graphics\n",
    "    if selectsmall==[]:\n",
    "        ekxphi=[np.pi,np.pi]\n",
    "    elif selectsmall==[selectsmall[0]]*len(selectsmall):\n",
    "        ekxphi=[np.pi,np.pi]\n",
    "    else:\n",
    "        firstminPhiB=ppk[np.argmin(selectsmall)]\n",
    "        secondPhiB=(-firstminPhiB)%(2*np.pi)\n",
    "        if secondPhiB==firstminPhiB:\n",
    "            secondPhiB=2*np.pi\n",
    "        ekxphi=[firstminPhiB,secondPhiB]\n",
    "    PDphi[qq]=np.asarray(ekxphi)"
   ]
  },
  {
   "cell_type": "code",
   "execution_count": 161,
   "metadata": {},
   "outputs": [
    {
     "data": {
      "image/png": "[encoded data removed]",
      "text/plain": [
       "<Figure size 432x288 with 1 Axes>"
      ]
     },
     "metadata": {},
     "output_type": "display_data"
    }
   ],
   "source": [
    "for p in range(len(PDphi[0])):\n",
    "    pp.plot(Barray,PDphi[:,p],'.')\n",
    "#pp.plot(3.26,np.pi,'*')\n",
    "#pp.plot(9.26,np.pi,'*')\n",
    "#pp.axis([3.1,3.5,2.5,3.7])"
   ]
  },
  {
   "cell_type": "code",
   "execution_count": 166,
   "metadata": {
    "scrolled": true
   },
   "outputs": [
    {
     "data": {
      "text/plain": [
       "2.1"
      ]
     },
     "execution_count": 166,
     "metadata": {},
     "output_type": "execute_result"
    }
   ],
   "source": [
    "Barray[35]"
   ]
  },
  {
   "cell_type": "code",
   "execution_count": 167,
   "metadata": {},
   "outputs": [
    {
     "data": {
      "text/plain": [
       "0.0"
      ]
     },
     "execution_count": 167,
     "metadata": {},
     "output_type": "execute_result"
    }
   ],
   "source": [
    "B=Barray[35]\n",
    "ppk=np.arange(100)*2*np.pi/100\n",
    "detppk=[np.linalg.det(Gtotm1(0,0,ppk[j]))/(mu**(4*(NJ+0))) for j in range(len(ppk))]\n",
    "ppk[np.argmin(detppk)]"
   ]
  },
  {
   "cell_type": "code",
   "execution_count": 168,
   "metadata": {},
   "outputs": [
    {
     "data": {
      "text/plain": [
       "[<matplotlib.lines.Line2D at 0x7f4118a54590>]"
      ]
     },
     "execution_count": 168,
     "metadata": {},
     "output_type": "execute_result"
    },
    {
     "data": {
      "image/png": "[encoded data removed]",
      "text/plain": [
       "<Figure size 432x288 with 1 Axes>"
      ]
     },
     "metadata": {},
     "output_type": "display_data"
    }
   ],
   "source": [
    "pp.plot(ppk,detppk)\n",
    "#pp.plot(ppk,np.zeros(len(ppk)))\n",
    "#pp.axis([0,2*np.pi,14.404552594406,14.404552594406+10**-12])"
   ]
  },
  {
   "cell_type": "code",
   "execution_count": 100,
   "metadata": {
    "scrolled": true
   },
   "outputs": [
    {
     "data": {
      "text/plain": [
       "[(14.404552594406223-1.4022123131506772e-18j),\n",
       " (14.404552594406228-2.9985498655750914e-16j),\n",
       " (14.404552594406224+1.9990332437167278e-16j),\n",
       " (14.40455259440622+5.997099731150183e-16j),\n",
       " (14.404552594406224+1.9990332437167278e-16j),\n",
       " (14.40455259440622+0j),\n",
       " (14.404552594406214+3.9980664874334556e-16j),\n",
       " (14.40455259440622+3.9980664874334556e-16j),\n",
       " (14.404552594406217+7.996132974866911e-16j),\n",
       " (14.404552594406217+0j),\n",
       " (14.40455259440622+7.996132974866911e-16j),\n",
       " (14.404552594406223-2.398839892460073e-15j),\n",
       " (14.404552594406223+7.996132974866911e-16j),\n",
       " (14.40455259440622-3.1984531899467645e-15j),\n",
       " (14.404552594406224-2.398839892460073e-15j),\n",
       " (14.404552594406224+7.996132974866911e-16j),\n",
       " (14.40455259440622-2.398839892460073e-15j),\n",
       " (14.40455259440622+1.5992265949733822e-15j),\n",
       " (14.404552594406217+7.996132974866911e-16j),\n",
       " (14.40455259440622-7.996132974866911e-16j),\n",
       " (14.404552594406217-1.5992265949733822e-15j),\n",
       " (14.404552594406223-3.1984531899467645e-15j),\n",
       " (14.404552594406223+0j),\n",
       " (14.404552594406214-7.996132974866911e-16j),\n",
       " (14.404552594406235+0j),\n",
       " (14.404552594406217+0j),\n",
       " (14.404552594406235+0j),\n",
       " (14.404552594406223+0j),\n",
       " (14.404552594406223+2.398839892460073e-15j),\n",
       " (14.40455259440622+3.998066487433456e-15j),\n",
       " (14.404552594406217+7.996132974866911e-16j),\n",
       " (14.404552594406223+3.1984531899467645e-15j),\n",
       " (14.404552594406217-7.996132974866911e-16j),\n",
       " (14.404552594406224+7.996132974866911e-16j),\n",
       " (14.404552594406214+0j),\n",
       " (14.404552594406228-3.1984531899467645e-15j),\n",
       " (14.404552594406224+2.398839892460073e-15j),\n",
       " (14.404552594406228+0j),\n",
       " (14.404552594406217-7.996132974866911e-16j),\n",
       " (14.404552594406223+4.797679784920146e-15j),\n",
       " (14.40455259440622-7.996132974866911e-16j),\n",
       " (14.404552594406217+1.5992265949733822e-15j),\n",
       " (14.404552594406228-3.9980664874334556e-16j),\n",
       " (14.40455259440622-7.996132974866911e-16j),\n",
       " (14.404552594406223-7.996132974866911e-16j),\n",
       " (14.40455259440622+7.996132974866911e-16j),\n",
       " (14.40455259440622+1.9990332437167278e-16j),\n",
       " (14.40455259440622-1.9990332437167278e-16j),\n",
       " (14.404552594406224+1.9990332437167278e-16j),\n",
       " (14.404552594406228+1.9990332437167278e-16j),\n",
       " (14.404552594406223-1.3811850792945368e-18j),\n",
       " (14.404552594406228-1.9990332437167278e-16j),\n",
       " (14.404552594406224+1.9990332437167278e-16j),\n",
       " (14.40455259440622+5.997099731150183e-16j),\n",
       " (14.404552594406224-5.997099731150183e-16j),\n",
       " (14.40455259440622+0j),\n",
       " (14.404552594406214+3.9980664874334556e-16j),\n",
       " (14.404552594406217+3.9980664874334556e-16j),\n",
       " (14.404552594406217+0j),\n",
       " (14.404552594406217-1.5992265949733822e-15j),\n",
       " (14.40455259440622+2.398839892460073e-15j),\n",
       " (14.404552594406223-2.398839892460073e-15j),\n",
       " (14.404552594406217+2.398839892460073e-15j),\n",
       " (14.40455259440622-3.1984531899467645e-15j),\n",
       " (14.404552594406228-1.5992265949733822e-15j),\n",
       " (14.404552594406223-7.996132974866911e-16j),\n",
       " (14.404552594406223+0j),\n",
       " (14.40455259440622+1.5992265949733822e-15j),\n",
       " (14.404552594406214+2.398839892460073e-15j),\n",
       " (14.404552594406223-3.1984531899467645e-15j),\n",
       " (14.404552594406217-1.5992265949733822e-15j),\n",
       " (14.404552594406223-3.1984531899467645e-15j),\n",
       " (14.404552594406223-2.398839892460073e-15j),\n",
       " (14.404552594406224-3.1984531899467645e-15j),\n",
       " (14.40455259440622-3.1984531899467645e-15j),\n",
       " (14.404552594406217+0j),\n",
       " (14.40455259440622+3.998066487433456e-15j),\n",
       " (14.404552594406214+7.996132974866911e-16j),\n",
       " (14.404552594406212+3.1984531899467645e-15j),\n",
       " (14.40455259440622-2.398839892460073e-15j),\n",
       " (14.404552594406217+7.996132974866911e-16j),\n",
       " (14.40455259440622-3.1984531899467645e-15j),\n",
       " (14.404552594406223+0j),\n",
       " (14.404552594406224+2.398839892460073e-15j),\n",
       " (14.404552594406217+3.1984531899467645e-15j),\n",
       " (14.404552594406228+2.398839892460073e-15j),\n",
       " (14.404552594406217+0j),\n",
       " (14.404552594406223-1.5992265949733822e-15j),\n",
       " (14.40455259440622-1.5992265949733822e-15j),\n",
       " (14.404552594406223+2.398839892460073e-15j),\n",
       " (14.404552594406223-3.998066487433456e-15j),\n",
       " (14.404552594406214+3.1984531899467645e-15j),\n",
       " (14.404552594406223-3.9980664874334556e-16j),\n",
       " (14.40455259440622-1.1994199462300366e-15j),\n",
       " (14.404552594406214-3.9980664874334556e-16j),\n",
       " (14.40455259440622+1.1994199462300366e-15j),\n",
       " (14.40455259440622+1.9990332437167278e-16j),\n",
       " (14.40455259440622-5.997099731150183e-16j),\n",
       " (14.404552594406224+1.9990332437167278e-16j),\n",
       " (14.404552594406228-9.995166218583639e-17j)]"
      ]
     },
     "execution_count": 100,
     "metadata": {},
     "output_type": "execute_result"
    }
   ],
   "source": [
    "detppk"
   ]
  },
  {
   "cell_type": "code",
   "execution_count": 70,
   "metadata": {},
   "outputs": [],
   "source": [
    "detppk=[0.0012,0.00123+1j,0.00124]"
   ]
  },
  {
   "cell_type": "code",
   "execution_count": 77,
   "metadata": {},
   "outputs": [],
   "source": [
    "selectreal=[round_sig(x,2) for x in detppk if x==np.real(x)]"
   ]
  },
  {
   "cell_type": "code",
   "execution_count": 80,
   "metadata": {},
   "outputs": [
    {
     "data": {
      "text/plain": [
       "True"
      ]
     },
     "execution_count": 80,
     "metadata": {},
     "output_type": "execute_result"
    }
   ],
   "source": [
    "selectreal==[selectreal[0]]*len(selectreal)"
   ]
  },
  {
   "cell_type": "code",
   "execution_count": 76,
   "metadata": {},
   "outputs": [],
   "source": [
    "def round_sig(x, sig=2):\n",
    "    return round(x, sig-int(floor(np.log10(abs(x))))-1)"
   ]
  },
  {
   "cell_type": "code",
   "execution_count": 81,
   "metadata": {},
   "outputs": [
    {
     "data": {
      "text/plain": [
       "123700.0"
      ]
     },
     "execution_count": 81,
     "metadata": {},
     "output_type": "execute_result"
    }
   ],
   "source": [
    "round_sig(123654,4)"
   ]
  },
  {
   "cell_type": "code",
   "execution_count": null,
   "metadata": {},
   "outputs": [],
   "source": []
  }
 ],
 "metadata": {
  "kernelspec": {
   "display_name": "Python 3",
   "language": "python",
   "name": "python3"
  },
  "language_info": {
   "codemirror_mode": {
    "name": "ipython",
    "version": 2
   },
   "file_extension": ".py",
   "mimetype": "text/x-python",
   "name": "python",
   "nbconvert_exporter": "python",
   "pygments_lexer": "ipython2",
   "version": "2.7.13"
  }
 },
 "nbformat": 4,
 "nbformat_minor": 2
}
