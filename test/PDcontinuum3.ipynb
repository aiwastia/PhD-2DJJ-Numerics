{
 "cells": [
  {
   "cell_type": "code",
   "execution_count": 34,
   "metadata": {},
   "outputs": [],
   "source": [
    "import numpy as np\n",
    "import sympy, scipy, cmath\n",
    "from scipy import sparse as sp\n",
    "from scipy.sparse import  coo_matrix as cmm\n",
    "from matplotlib import pyplot as pp\n",
    "from scipy import optimize as opt"
   ]
  },
  {
   "cell_type": "code",
   "execution_count": 85,
   "metadata": {},
   "outputs": [],
   "source": [
    "#Parameters\n",
    "#default values: mu=1.8 m=.5 t=3 alR=.7 B=3.07 delta=.5 phi=Pi\n",
    "\n",
    "kx=0.\n",
    "En=0.\n",
    "\n",
    "mu=1.8\n",
    "muSC=10\n",
    "m=.5\n",
    "t=5.\n",
    "alR=0.\n",
    "B=3.07\n",
    "delta=.5\n",
    "phi=np.pi*1.5\n",
    "\n",
    "def mut(kx):\n",
    "    return mu-2*t-kx**2/(2*m)-alR**2*m/2\n",
    "def kF(mu):\n",
    "    return cmath.sqrt(2*m*mu)\n",
    "def a(t):\n",
    "    return 1/cmath.sqrt(2*m*t)\n",
    "\n",
    "def delL(phi):\n",
    "    return delta*cmath.exp(1j*phi/2)\n",
    "def delR(phi):\n",
    "    return delta*cmath.exp(-1j*phi/2)\n",
    "def nu0(m):\n",
    "    return m/(2*np.pi)\n",
    "def xiE(En):\n",
    "    return kF(mu)/(m*cmath.sqrt(delta**2-En**2))\n",
    "\n",
    "tL=2.\n",
    "tR=tL\n",
    "\n",
    "NJ=15\n",
    "gamma=np.pi*nu0(m)*tL**2\n",
    "\n",
    "W=2.#(NJ+1)*a(t)\n",
    "\n",
    "#matrix tools\n",
    "eye2=np.eye(2)\n",
    "eye4=np.eye(4)\n",
    "s1=[[0,1],[1,0]]\n",
    "s2=[[0,-1j],[1j,0]]\n",
    "s3=[[1,0],[0,-1]]\n",
    "tP=np.kron([[0,1],[0,0]],eye2)\n",
    "tM=np.kron([[0,0],[1,0]],eye2)\n",
    "t3=np.kron(s3,eye2)"
   ]
  },
  {
   "cell_type": "code",
   "execution_count": null,
   "metadata": {},
   "outputs": [],
   "source": [
    "a(t)"
   ]
  },
  {
   "cell_type": "code",
   "execution_count": 86,
   "metadata": {},
   "outputs": [],
   "source": [
    "#self-energy\n",
    "def overlap(n,m):\n",
    "    return np.sin(n*np.pi*a(t)/W)*np.sin(m*np.pi*a(t)/W)\n",
    "def selfE(En,n,m):\n",
    "    dynR=np.sqrt(delta**2-En**2)\n",
    "    selfEL=-2*gamma/W*(En/dynR*eye4-delL(phi)/dynR*tP-np.conj(delL(phi))/dynR*tM)*overlap(n,m)\n",
    "    selfER=-2*gamma/W*(En/dynR*eye4-delR(phi)/dynR*tP-np.conj(delR(phi))/dynR*tM)*overlap(n,m)\n",
    "    return selfEL+selfER"
   ]
  },
  {
   "cell_type": "code",
   "execution_count": 87,
   "metadata": {},
   "outputs": [],
   "source": [
    "#hamiltonian in channel space\n",
    "def kin(n):\n",
    "    return np.pi**2*n**2/(2*m*W**2)-mu\n",
    "def HamC(En,B):\n",
    "    dd=[[En-B-kin(i),En+B-kin(i),En-B+kin(i),En+B+kin(i)] for i in range(1,NJ+1)]\n",
    "    return np.ndarray.tolist(np.asarray(dd).reshape(1,4*NJ)[0])"
   ]
  },
  {
   "cell_type": "code",
   "execution_count": 88,
   "metadata": {},
   "outputs": [],
   "source": [
    "#full inverse GF\n",
    "\n",
    "def GJm1(En,B): return cmm(np.diag(HamC(En,B)))\n",
    "def fullSelf(En):\n",
    "    newmat=sp.hstack([cmm(selfE(En,1,n)) for n in range(1,NJ+1)])\n",
    "    for m in range(2,NJ+1):\n",
    "        newline=sp.hstack([cmm(selfE(En,m,n)) for n in range(1,NJ+1)])\n",
    "        newmat=sp.vstack([newmat,newline])\n",
    "    return newmat\n",
    "def Gm1(En,B): return GJm1(En,B)+fullSelf(En)"
   ]
  },
  {
   "cell_type": "code",
   "execution_count": 91,
   "metadata": {
    "scrolled": true
   },
   "outputs": [
    {
     "name": "stdout",
     "output_type": "stream",
     "text": [
      "0\n"
     ]
    },
    {
     "name": "stderr",
     "output_type": "stream",
     "text": [
      "/usr/local/lib/python2.7/site-packages/ipykernel_launcher.py:4: RuntimeWarning: invalid value encountered in cdouble_scalars\n",
      "  after removing the cwd from sys.path.\n"
     ]
    },
    {
     "name": "stdout",
     "output_type": "stream",
     "text": [
      "[]\n",
      "1\n",
      "[0.9717602678]\n",
      "2\n",
      "[0.9717602678]\n",
      "3\n",
      "[0.9717602678]\n",
      "4\n",
      "[0.9717602678]\n",
      "5\n",
      "[0.9717602678]\n",
      "6\n",
      "[0.9717602678]\n",
      "7\n",
      "[0.9717602678]\n",
      "8\n",
      "[0.9717602678]\n",
      "9\n",
      "[0.9717602678]\n",
      "10\n",
      "[0.9717602678]\n",
      "11\n",
      "[0.9717602678]\n",
      "12\n",
      "[0.9717602678]\n",
      "13\n",
      "[0.9717602678]\n",
      "14\n",
      "[0.9717602678]\n",
      "15\n",
      "[0.9717602678]\n",
      "16\n",
      "[0.9717602678]\n",
      "17\n",
      "[0.9717602678]\n",
      "18\n",
      "[0.9717602678]\n",
      "19\n",
      "[0.9717602678]\n",
      "20\n",
      "[0.9717602678]\n",
      "21\n",
      "[0.9717602678]\n",
      "22\n",
      "[0.9717602678]\n",
      "23\n",
      "[0.9717602678]\n",
      "24\n",
      "[0.9717602678]\n",
      "25\n",
      "[0.9717602678]\n",
      "26\n",
      "[]\n",
      "27\n",
      "[0.9717602678]\n",
      "28\n",
      "[5.7714285714]\n",
      "29\n",
      "[8.3803649764]\n",
      "30\n",
      "[8.3803649764]\n",
      "31\n",
      "[0.9717602678]\n",
      "32\n",
      "[8.3803649764]\n",
      "33\n",
      "[8.3803649764]\n",
      "34\n",
      "[8.3803649764]\n",
      "35\n",
      "[8.3803649764]\n",
      "36\n",
      "[8.3803649764]\n",
      "37\n",
      "[8.3803649764]\n",
      "38\n",
      "[8.3803649764]\n",
      "39\n",
      "[8.3803649764]\n",
      "40\n",
      "[8.3803649764]\n",
      "41\n",
      "[8.3803649764]\n",
      "42\n",
      "[8.3803649764]\n",
      "43\n",
      "[8.3803649764]\n",
      "44\n",
      "[8.3803649764]\n",
      "45\n",
      "[8.3803649764]\n",
      "46\n",
      "[8.3803649764]\n",
      "47\n",
      "[8.3803649764]\n",
      "48\n",
      "[8.3803649764]\n",
      "49\n",
      "[8.3803649764]\n"
     ]
    }
   ],
   "source": [
    "En=0\n",
    "\n",
    "def fdetB(B):\n",
    "    return np.linalg.det(Gm1(En,B).todense())/(mu**(4*(2*t+mu)*(NJ+2))) #norm\n",
    "\n",
    "Bmin=0.\n",
    "Bmax=10.\n",
    "Barray=[]\n",
    "x0roots=np.linspace(Bmin,Bmax+0.1,np.int((Bmax-Bmin)/0.2))\n",
    "#norm=max(max(mu,t,alR,delta,tL**2)**((2*t+mu)*(NJ+2)),Bmax**(4*(NJ+2)))\n",
    "for i in range(len(x0roots)):\n",
    "    print(i)\n",
    "    x0=x0roots[i]\n",
    "    solekx=opt.fsolve(fdetB,np.asarray(x0))\n",
    "    if abs(fdetB(solekx))>10**-6 or solekx<=0:# or solekx>2*np.pi+0.1 :\n",
    "        solekx=[]\n",
    "    solekx=np.ndarray.tolist(np.around(solekx,10))\n",
    "    print(solekx)\n",
    "    Barray.extend(solekx)\n",
    "Barray=sorted(list(set(Barray)))"
   ]
  },
  {
   "cell_type": "code",
   "execution_count": null,
   "metadata": {},
   "outputs": [],
   "source": [
    "print(Barray)"
   ]
  },
  {
   "cell_type": "code",
   "execution_count": 61,
   "metadata": {},
   "outputs": [],
   "source": [
    "Barray2.extend(Barray)"
   ]
  },
  {
   "cell_type": "code",
   "execution_count": 65,
   "metadata": {},
   "outputs": [],
   "source": [
    "Barray[7:8]=[]"
   ]
  },
  {
   "cell_type": "code",
   "execution_count": 101,
   "metadata": {},
   "outputs": [],
   "source": [
    "Barray.insert(0,0.05)"
   ]
  },
  {
   "cell_type": "code",
   "execution_count": 102,
   "metadata": {},
   "outputs": [
    {
     "name": "stdout",
     "output_type": "stream",
     "text": [
      "7 MISSING transitions\n"
     ]
    },
    {
     "name": "stderr",
     "output_type": "stream",
     "text": [
      "/usr/local/lib/python2.7/site-packages/ipykernel_launcher.py:11: RuntimeWarning: invalid value encountered in arccos\n",
      "  # This is added back by InteractiveShellApp.init_path()\n"
     ]
    },
    {
     "data": {
      "text/plain": [
       "Text(0,0.5,'n')"
      ]
     },
     "execution_count": 102,
     "metadata": {},
     "output_type": "execute_result"
    },
    {
     "data": {
      "image/png": "[encoded data removed]",
      "text/plain": [
       "<Figure size 1440x720 with 1 Axes>"
      ]
     },
     "metadata": {},
     "output_type": "display_data"
    }
   ],
   "source": [
    "pp.figure(figsize=(20,10))\n",
    "\n",
    "pp.plot(Barray,range(1,len(Barray)+1),'.')\n",
    "if len(Barray)==NJ:\n",
    "    print(\"ALL transitions shown\")\n",
    "else:\n",
    "    print(\"{} MISSING transitions\".format(NJ-len(Barray)))\n",
    "\n",
    "xbarray=np.linspace(-1,12,201)\n",
    "ybarray=(NJ+1)/np.pi*np.arccos((xbarray+(mu-2*t))/(-2*t))\n",
    "ybarray2=(NJ+1)/np.pi*np.arccos((xbarray-(mu-2*t))/(+2*t))\n",
    "pp.plot(xbarray,ybarray)\n",
    "pp.plot(xbarray,ybarray2)\n",
    "pp.xlabel('$B_n=-(\\mu-2t)-2t \\cos(n \\pi/(N_J+1))$',fontsize=15)\n",
    "pp.ylabel('n',fontsize=20)\n",
    "#pp.axis([-0.1,11,1-0.1,10])"
   ]
  },
  {
   "cell_type": "code",
   "execution_count": null,
   "metadata": {},
   "outputs": [],
   "source": []
  }
 ],
 "metadata": {
  "kernelspec": {
   "display_name": "Python 3",
   "language": "python",
   "name": "python3"
  },
  "language_info": {
   "codemirror_mode": {
    "name": "ipython",
    "version": 2
   },
   "file_extension": ".py",
   "mimetype": "text/x-python",
   "name": "python",
   "nbconvert_exporter": "python",
   "pygments_lexer": "ipython2",
   "version": "2.7.13"
  }
 },
 "nbformat": 4,
 "nbformat_minor": 2
}
