{
 "cells": [
  {
   "cell_type": "code",
   "execution_count": 2,
   "metadata": {},
   "outputs": [],
   "source": [
    "import numpy as np\n",
    "import sympy, scipy, cmath\n",
    "from sympy import *\n",
    "#from sympy import symbols\n",
    "#from sympy.solvers.solveset import nonlinsolve\n",
    "from scipy import sparse as sp\n",
    "#from scipy import linalg as ln\n",
    "from scipy import optimize as opt\n",
    "from scipy.sparse import  coo_matrix as cmm\n",
    "from matplotlib import pyplot as pp"
   ]
  },
  {
   "cell_type": "code",
   "execution_count": 49,
   "metadata": {},
   "outputs": [
    {
     "name": "stdout",
     "output_type": "stream",
     "text": [
      "0.5214572583394643\n"
     ]
    }
   ],
   "source": [
    "#Parameters\n",
    "#global kx,mu, m, t, alR, B, kF, a, al, delta, phi, delL, delR, nu0, tL, tR, NJ, eye2, s1, s2, s3, tP, tM, t3\n",
    "\n",
    "kx=0.\n",
    "\n",
    "mu=1.8\n",
    "m=.5\n",
    "t=3\n",
    "alR=0.\n",
    "def mut(kx):\n",
    "    return mu-2*t-kx**2/(2*m)-alR**2*m/2\n",
    "B=t/3     #looped\n",
    "kF=np.sqrt(2*m*mu)\n",
    "\n",
    "a=1/np.sqrt(2*m*t)\n",
    "al=alR/a\n",
    "\n",
    "delta=.5\n",
    "phi=np.pi\n",
    "def delL(phi):\n",
    "    return delta*cmath.exp(1j*phi/2)\n",
    "def delR(phi):\n",
    "    return delta*cmath.exp(-1j*phi/2)\n",
    "nu0=m/(2*np.pi)\n",
    "def xiE(En):\n",
    "    return kF/(m*cmath.sqrt(delta**2-En**2))\n",
    "\n",
    "tL=2\n",
    "tR=tL\n",
    "#def TT(B):\n",
    "#    return -mut(0)+np.sqrt(t**2+B**2)\n",
    "\n",
    "GammaL=np.pi*nu0*tL**2 #=m*tL**2/2\n",
    "GammaR=np.pi*nu0*tR**2 #=m*tR**2/2\n",
    "\n",
    "NJ=14\n",
    "W=NJ*a\n",
    "\n",
    "ET=np.pi/2*kF/m/(NJ*a)\n",
    "\n",
    "kpl=np.sqrt(2*m*B)*a*NJ\n",
    "print(ET)\n",
    "\n",
    "#matrix tools\n",
    "eye2=np.eye(2)\n",
    "eye4=np.eye(4)\n",
    "s1=[[0,1],[1,0]]\n",
    "s2=[[0,-1j],[1j,0]]\n",
    "s3=[[1,0],[0,-1]]\n",
    "tP=np.kron([[0,1],[0,0]],eye2)\n",
    "tM=np.kron([[0,0],[1,0]],eye2)\n",
    "t3=np.kron(s3,eye2)"
   ]
  },
  {
   "cell_type": "code",
   "execution_count": 4,
   "metadata": {},
   "outputs": [],
   "source": [
    "#Junction\n",
    "def HJ0(kx,B):\n",
    "    return -mut(kx)*t3+alR*kx*np.kron(s3,s2)+B*np.kron(eye2,s1)\n",
    "Hy=-t*t3+1j*al/2*np.kron(s3,s1)\n",
    "\n",
    "\n",
    "def HJ(kx,B):\n",
    "    start=cmm(HJ0(kx,B))\n",
    "    HJs=start\n",
    "    for n in range(2,NJ+1):\n",
    "        OT=cmm(np.zeros([len(HJs.toarray())-4,4]))\n",
    "        BT=sp.vstack([OT,cmm(Hy)])\n",
    "        CT=sp.hstack([OT.transpose(),cmm(Hy.conj().T),start])\n",
    "        HJs=sp.hstack([HJs,BT])\n",
    "        HJs=sp.vstack([HJs,CT])\n",
    "    return HJs\n",
    "\n",
    "def gJm1(En,kx,B):\n",
    "    return En*np.eye(4*NJ)-HJ(kx,B).toarray()\n",
    "\n",
    "#Superconductors\n",
    "# xiE-> infty to avoid more symbolic:\n",
    "#def fL(kx):\n",
    "#    return 1/(kF*a)*(np.log(1-np.exp(1j*a*(kF+kx)))+np.log(1-np.exp(1j*a*(kF-kx))))-1j\n",
    "\n",
    "def fL(En,kx):\n",
    "    return 1/(kF*a)*(cmath.log(1-cmath.exp(-a/xiE(En)+1j*a*(kF+kx)))+cmath.log(1-cmath.exp(-a/xiE(En)+1j*a*(kF-kx))))-1j\n",
    "\n",
    "def gSC1m1(En,kx,phi):\n",
    "    return 1/(np.pi*nu0*abs(fL(En,kx))**2)*((En*eye4 - delL(phi)*tP - np.conj(delL(phi))*tM)*\\\n",
    "                                                 fL(En,kx).imag/cmath.sqrt(delta**2 - En**2) - fL(En,kx).real*t3)\n",
    "\n",
    "def gSC2m1(En,kx,phi):\n",
    "    return 1/(np.pi*nu0*abs(fL(En,kx))**2)*((En*eye4 - delR(phi)*tP - np.conj(delR(phi))*tM)*\\\n",
    "                                                 fL(En,kx).imag/cmath.sqrt(delta**2 - En**2) - fL(En,kx).real*t3)\n",
    "\n",
    "#SC/J coupling\n",
    "rowindex=np.array([1,2,3,4,4*NJ+1,4*NJ+2,4*NJ+3,4*NJ+4])-1\n",
    "colindex=np.array([5,6,7,8,4*(NJ+1)+1,4*(NJ+1)+2,4*(NJ+1)+3,4*(NJ+1)+4])-1\n",
    "hoppings=[tL,tL,-tL,-tL,tR,tR,-tR,-tR]\n",
    "mHt1=cmm((hoppings,(rowindex,colindex)),shape=(4*(NJ+2),4*(NJ+2)))\n",
    "mHt=mHt1+mHt1.transpose()\n",
    "\n",
    "#total inverse GF\n",
    "def Gtotm1(En,kx,phi,B):\n",
    "    return scipy.linalg.block_diag(gSC1m1(En,kx,phi),gJm1(En,kx,B),gSC2m1(En,kx,phi))+mHt.toarray()"
   ]
  },
  {
   "cell_type": "code",
   "execution_count": 5,
   "metadata": {
    "scrolled": true
   },
   "outputs": [
    {
     "name": "stdout",
     "output_type": "stream",
     "text": [
      "0\n"
     ]
    },
    {
     "name": "stderr",
     "output_type": "stream",
     "text": [
      "/usr/local/lib64/python2.7/site-packages/scipy/optimize/minpack.py:225: ComplexWarning: Casting complex values to real discards the imaginary part\n",
      "  ml, mu, epsfcn, factor, diag)\n",
      "/usr/local/lib64/python2.7/site-packages/scipy/optimize/minpack.py:162: RuntimeWarning: The iteration is not making good progress, as measured by the \n",
      "  improvement from the last ten iterations.\n",
      "  warnings.warn(msg, RuntimeWarning)\n"
     ]
    },
    {
     "name": "stdout",
     "output_type": "stream",
     "text": [
      "[]\n",
      "1\n",
      "[0.2914]\n",
      "2\n",
      "[0.2914]\n",
      "3\n",
      "[0.2914]\n",
      "4\n",
      "[0.2914]\n",
      "5\n",
      "[0.2914]\n",
      "6\n",
      "[0.6756]\n",
      "7\n",
      "[0.6756]\n",
      "8\n",
      "[0.6756]\n",
      "9\n",
      "[0.2914]\n",
      "10\n",
      "[1.1482]\n",
      "11\n",
      "[1.1482]\n",
      "12\n",
      "[1.1482]\n",
      "13\n",
      "[1.1482]\n",
      "14\n",
      "[1.6861]\n",
      "15\n",
      "[1.6448]\n",
      "16\n",
      "[1.6448]\n",
      "17\n",
      "[1.6861]\n",
      "18\n",
      "[1.6861]\n",
      "19\n",
      "[1.6861]\n",
      "20\n",
      "[1.6861]\n",
      "21\n",
      "[1.6861]\n",
      "22\n",
      "[1.6861]\n",
      "23\n",
      "[1.6861]\n",
      "24\n",
      "[1.6861]\n",
      "25\n",
      "[1.6861]\n",
      "26\n",
      "[2.8706]\n",
      "27\n",
      "[2.8706]\n",
      "28\n",
      "[2.8706]\n",
      "29\n",
      "[2.8706]\n",
      "30\n",
      "[2.8706]\n",
      "31\n",
      "[2.8706]\n",
      "32\n",
      "[2.8706]\n",
      "33\n",
      "[2.8706]\n",
      "34\n",
      "[2.8706]\n",
      "35\n",
      "[2.8706]\n",
      "36\n",
      "[2.8706]\n",
      "37\n",
      "[1.6861]\n",
      "38\n",
      "[2.8706]\n",
      "39\n",
      "[4.1373]\n",
      "40\n",
      "[4.1373]\n",
      "41\n",
      "[4.1373]\n",
      "42\n",
      "[4.1373]\n",
      "43\n",
      "[4.1373]\n",
      "44\n",
      "[4.1373]\n",
      "45\n",
      "[4.1373]\n",
      "46\n",
      "[4.1373]\n",
      "47\n",
      "[4.1373]\n",
      "48\n",
      "[4.1373]\n",
      "49\n",
      "[1.6861]\n",
      "50\n",
      "[4.1373]\n",
      "51\n",
      "[5.4027]\n",
      "52\n",
      "[5.4027]\n",
      "53\n",
      "[5.4027]\n",
      "54\n",
      "[5.4027]\n",
      "55\n",
      "[5.4027]\n",
      "56\n",
      "[5.4027]\n",
      "57\n",
      "[5.4027]\n",
      "58\n",
      "[5.4027]\n",
      "59\n",
      "[5.4027]\n",
      "60\n",
      "[5.4027]\n",
      "61\n",
      "[5.4027]\n",
      "62\n",
      "[6.6044]\n",
      "63\n",
      "[6.6044]\n",
      "64\n",
      "[6.6044]\n",
      "65\n",
      "[6.6044]\n",
      "66\n",
      "[6.6044]\n",
      "67\n",
      "[6.6044]\n",
      "68\n",
      "[6.6044]\n",
      "69\n",
      "[6.6044]\n",
      "70\n",
      "[6.6044]\n",
      "71\n",
      "[6.6044]\n",
      "72\n",
      "[6.6044]\n",
      "73\n",
      "[7.6868]\n",
      "74\n",
      "[7.6868]\n",
      "75\n",
      "[7.6868]\n",
      "76\n",
      "[7.6868]\n",
      "77\n",
      "[7.6868]\n",
      "78\n",
      "[7.6868]\n",
      "79\n",
      "[7.6868]\n",
      "80\n",
      "[7.6868]\n",
      "81\n",
      "[]\n",
      "82\n",
      "[8.6028]\n",
      "83\n",
      "[8.6028]\n",
      "84\n",
      "[8.6028]\n",
      "85\n",
      "[8.6028]\n",
      "86\n",
      "[8.6028]\n",
      "87\n",
      "[8.6028]\n",
      "88\n",
      "[8.6028]\n",
      "89\n",
      "[8.6028]\n",
      "90\n",
      "[9.3188]\n",
      "91\n",
      "[9.3188]\n",
      "92\n",
      "[9.3188]\n",
      "93\n",
      "[9.3188]\n",
      "94\n",
      "[9.3188]\n",
      "95\n",
      "[9.8188]\n",
      "96\n",
      "[9.8188]\n",
      "97\n",
      "[9.8188]\n",
      "98\n",
      "[9.3188]\n",
      "99\n",
      "[10.107]\n"
     ]
    }
   ],
   "source": [
    "En=0\n",
    "zerogap=0.00001\n",
    "\n",
    "def fdet(B):\n",
    "    return np.linalg.det(Gtotm1(En,kx,phi,B))/(mu**(8*NJ))\n",
    "\n",
    "Bmin=0\n",
    "Bmax=10\n",
    "Barray=[]\n",
    "x0roots=np.linspace(Bmin,Bmax+0.1,np.int((Bmax-Bmin)/.1))\n",
    "for i in range(len(x0roots)):\n",
    "    print(i)\n",
    "    x0=x0roots[i]\n",
    "    solekx=opt.fsolve(fdet,np.asarray(x0))\n",
    "    if abs(fdet(solekx))>zerogap or solekx<=0:# or solekx>2*np.pi+0.1 :\n",
    "        solekx=[]\n",
    "    solekx=np.ndarray.tolist(np.around(solekx,4))\n",
    "    print(solekx)\n",
    "    Barray.extend(solekx)\n",
    "Barray=sorted(list(set(Barray)))"
   ]
  },
  {
   "cell_type": "code",
   "execution_count": 58,
   "metadata": {},
   "outputs": [
    {
     "name": "stdout",
     "output_type": "stream",
     "text": [
      "ALL transitions shown\n"
     ]
    },
    {
     "data": {
      "text/plain": [
       "<matplotlib.legend.Legend at 0x7f831800bf10>"
      ]
     },
     "execution_count": 58,
     "metadata": {},
     "output_type": "execute_result"
    },
    {
     "data": {
      "image/png": "[encoded data removed]",
      "text/plain": [
       "<Figure size 540x432 with 1 Axes>"
      ]
     },
     "metadata": {},
     "output_type": "display_data"
    }
   ],
   "source": [
    "pp.figure(figsize=(7.5,6))\n",
    "BarrayN=[x/ET for x in Barray]\n",
    "pp.plot(range(len(Barray)),BarrayN,'.',label='Numerics')\n",
    "if len(Barray)==NJ:\n",
    "    print(\"ALL transitions shown\")\n",
    "else:\n",
    "    print(\"MISSING transitions\")\n",
    "\n",
    "xbarray=np.linspace(0,14,201)\n",
    "g=1.07712\n",
    "gp=0.988095\n",
    "gpp=1.5492\n",
    "#ybarray=g*NJ/np.pi*np.arccos(-(xbarray+(mu-2*t)*gp)/(2*t))-NJ+len(Barray)-1.5492#(np.pi+phi)/2/np.pi*gpp\n",
    "ybarray=(gp*(2*t-mu)-2*t*np.cos((xbarray+gpp)*np.pi/g/NJ))/ET\n",
    "#zbarray=(np.pi*xbarray/W-kF+gpp)*kF/m/2/g\n",
    "pp.plot(xbarray,ybarray,label='Fit by hand')\n",
    "#pp.plot(xbarray,zbarray)\n",
    "pp.ylabel('$E_Z/E_T$',fontsize=25)\n",
    "pp.xlabel('$n$',fontsize=25)\n",
    "pp.title('Topological transitions at constant $\\phi$',fontsize=18)\n",
    "pp.legend(fontsize=15)\n",
    "#pp.axis([0,11,0,10])"
   ]
  },
  {
   "cell_type": "code",
   "execution_count": 59,
   "metadata": {},
   "outputs": [
    {
     "data": {
      "text/plain": [
       "3.4518648867443993"
      ]
     },
     "execution_count": 59,
     "metadata": {},
     "output_type": "execute_result"
    }
   ],
   "source": [
    "mu/ET"
   ]
  },
  {
   "cell_type": "markdown",
   "metadata": {},
   "source": [
    "Compute the gap at the center of the topological phase"
   ]
  },
  {
   "cell_type": "code",
   "execution_count": 275,
   "metadata": {},
   "outputs": [
    {
     "name": "stdout",
     "output_type": "stream",
     "text": [
      "('Topological phase nr.', 0)\n",
      "5\n",
      "0\n"
     ]
    },
    {
     "name": "stderr",
     "output_type": "stream",
     "text": [
      "/usr/local/lib/python2.7/site-packages/ipykernel_launcher.py:26: RuntimeWarning: divide by zero encountered in divide\n",
      "/usr/local/lib/python2.7/site-packages/ipykernel_launcher.py:26: RuntimeWarning: invalid value encountered in divide\n"
     ]
    },
    {
     "name": "stdout",
     "output_type": "stream",
     "text": [
      "[0.48865, -0.48865]\n",
      "1\n",
      "[0.42937, -0.42937]\n",
      "2\n",
      "[0.36946, -0.36946]\n",
      "3\n",
      "[-0.31302, 0.31302]\n",
      "4\n",
      "[-0.26108, 0.26108]\n",
      "5\n"
     ]
    },
    {
     "ename": "KeyboardInterrupt",
     "evalue": "",
     "output_type": "error",
     "traceback": [
      "\u001b[0;31m---------------------------------------------------------------------------\u001b[0m",
      "\u001b[0;31mKeyboardInterrupt\u001b[0m                         Traceback (most recent call last)",
      "\u001b[0;32m<ipython-input-275-db5aacbc21d7>\u001b[0m in \u001b[0;36m<module>\u001b[0;34m()\u001b[0m\n\u001b[1;32m     18\u001b[0m         \u001b[0;32mfor\u001b[0m \u001b[0mi\u001b[0m \u001b[0;32min\u001b[0m \u001b[0mrange\u001b[0m\u001b[0;34m(\u001b[0m\u001b[0mlen\u001b[0m\u001b[0;34m(\u001b[0m\u001b[0mx0roots\u001b[0m\u001b[0;34m)\u001b[0m\u001b[0;34m)\u001b[0m\u001b[0;34m:\u001b[0m\u001b[0;34m\u001b[0m\u001b[0m\n\u001b[1;32m     19\u001b[0m             \u001b[0mx0\u001b[0m\u001b[0;34m=\u001b[0m\u001b[0mx0roots\u001b[0m\u001b[0;34m[\u001b[0m\u001b[0mi\u001b[0m\u001b[0;34m]\u001b[0m\u001b[0;34m\u001b[0m\u001b[0m\n\u001b[0;32m---> 20\u001b[0;31m             \u001b[0msolekx\u001b[0m\u001b[0;34m=\u001b[0m\u001b[0mopt\u001b[0m\u001b[0;34m.\u001b[0m\u001b[0mfsolve\u001b[0m\u001b[0;34m(\u001b[0m\u001b[0mfdet\u001b[0m\u001b[0;34m,\u001b[0m\u001b[0mnp\u001b[0m\u001b[0;34m.\u001b[0m\u001b[0masarray\u001b[0m\u001b[0;34m(\u001b[0m\u001b[0mx0\u001b[0m\u001b[0;34m)\u001b[0m\u001b[0;34m)\u001b[0m\u001b[0;34m\u001b[0m\u001b[0m\n\u001b[0m\u001b[1;32m     21\u001b[0m             \u001b[0;32mif\u001b[0m \u001b[0mabs\u001b[0m\u001b[0;34m(\u001b[0m\u001b[0mfdet\u001b[0m\u001b[0;34m(\u001b[0m\u001b[0msolekx\u001b[0m\u001b[0;34m)\u001b[0m\u001b[0;34m)\u001b[0m\u001b[0;34m>\u001b[0m\u001b[0;36m10\u001b[0m\u001b[0;34m**\u001b[0m\u001b[0;34m(\u001b[0m\u001b[0;34m-\u001b[0m\u001b[0;36m10\u001b[0m\u001b[0;34m)\u001b[0m \u001b[0;32mor\u001b[0m \u001b[0mabs\u001b[0m\u001b[0;34m(\u001b[0m\u001b[0msolekx\u001b[0m\u001b[0;34m)\u001b[0m\u001b[0;34m>=\u001b[0m\u001b[0mdelta\u001b[0m\u001b[0;34m:\u001b[0m\u001b[0;34m\u001b[0m\u001b[0m\n\u001b[1;32m     22\u001b[0m                 \u001b[0msolekx\u001b[0m\u001b[0;34m=\u001b[0m\u001b[0;34m[\u001b[0m\u001b[0;34m]\u001b[0m\u001b[0;34m\u001b[0m\u001b[0m\n",
      "\u001b[0;32m/usr/local/lib64/python2.7/site-packages/scipy/optimize/minpack.pyc\u001b[0m in \u001b[0;36mfsolve\u001b[0;34m(func, x0, args, fprime, full_output, col_deriv, xtol, maxfev, band, epsfcn, factor, diag)\u001b[0m\n\u001b[1;32m    145\u001b[0m                'diag': diag}\n\u001b[1;32m    146\u001b[0m \u001b[0;34m\u001b[0m\u001b[0m\n\u001b[0;32m--> 147\u001b[0;31m     \u001b[0mres\u001b[0m \u001b[0;34m=\u001b[0m \u001b[0m_root_hybr\u001b[0m\u001b[0;34m(\u001b[0m\u001b[0mfunc\u001b[0m\u001b[0;34m,\u001b[0m \u001b[0mx0\u001b[0m\u001b[0;34m,\u001b[0m \u001b[0margs\u001b[0m\u001b[0;34m,\u001b[0m \u001b[0mjac\u001b[0m\u001b[0;34m=\u001b[0m\u001b[0mfprime\u001b[0m\u001b[0;34m,\u001b[0m \u001b[0;34m**\u001b[0m\u001b[0moptions\u001b[0m\u001b[0;34m)\u001b[0m\u001b[0;34m\u001b[0m\u001b[0m\n\u001b[0m\u001b[1;32m    148\u001b[0m     \u001b[0;32mif\u001b[0m \u001b[0mfull_output\u001b[0m\u001b[0;34m:\u001b[0m\u001b[0;34m\u001b[0m\u001b[0m\n\u001b[1;32m    149\u001b[0m         \u001b[0mx\u001b[0m \u001b[0;34m=\u001b[0m \u001b[0mres\u001b[0m\u001b[0;34m[\u001b[0m\u001b[0;34m'x'\u001b[0m\u001b[0;34m]\u001b[0m\u001b[0;34m\u001b[0m\u001b[0m\n",
      "\u001b[0;32m/usr/local/lib64/python2.7/site-packages/scipy/optimize/minpack.pyc\u001b[0m in \u001b[0;36m_root_hybr\u001b[0;34m(func, x0, args, jac, col_deriv, xtol, maxfev, band, eps, factor, diag, **unknown_options)\u001b[0m\n\u001b[1;32m    223\u001b[0m             \u001b[0mmaxfev\u001b[0m \u001b[0;34m=\u001b[0m \u001b[0;36m200\u001b[0m \u001b[0;34m*\u001b[0m \u001b[0;34m(\u001b[0m\u001b[0mn\u001b[0m \u001b[0;34m+\u001b[0m \u001b[0;36m1\u001b[0m\u001b[0;34m)\u001b[0m\u001b[0;34m\u001b[0m\u001b[0m\n\u001b[1;32m    224\u001b[0m         retval = _minpack._hybrd(func, x0, args, 1, xtol, maxfev,\n\u001b[0;32m--> 225\u001b[0;31m                                  ml, mu, epsfcn, factor, diag)\n\u001b[0m\u001b[1;32m    226\u001b[0m     \u001b[0;32melse\u001b[0m\u001b[0;34m:\u001b[0m\u001b[0;34m\u001b[0m\u001b[0m\n\u001b[1;32m    227\u001b[0m         \u001b[0m_check_func\u001b[0m\u001b[0;34m(\u001b[0m\u001b[0;34m'fsolve'\u001b[0m\u001b[0;34m,\u001b[0m \u001b[0;34m'fprime'\u001b[0m\u001b[0;34m,\u001b[0m \u001b[0mDfun\u001b[0m\u001b[0;34m,\u001b[0m \u001b[0mx0\u001b[0m\u001b[0;34m,\u001b[0m \u001b[0margs\u001b[0m\u001b[0;34m,\u001b[0m \u001b[0mn\u001b[0m\u001b[0;34m,\u001b[0m \u001b[0;34m(\u001b[0m\u001b[0mn\u001b[0m\u001b[0;34m,\u001b[0m \u001b[0mn\u001b[0m\u001b[0;34m)\u001b[0m\u001b[0;34m)\u001b[0m\u001b[0;34m\u001b[0m\u001b[0m\n",
      "\u001b[0;32m<ipython-input-275-db5aacbc21d7>\u001b[0m in \u001b[0;36mfdet\u001b[0;34m(En)\u001b[0m\n\u001b[1;32m     14\u001b[0m         \u001b[0mkx\u001b[0m\u001b[0;34m=\u001b[0m\u001b[0mkxarray\u001b[0m\u001b[0;34m[\u001b[0m\u001b[0mj\u001b[0m\u001b[0;34m]\u001b[0m\u001b[0;34m\u001b[0m\u001b[0m\n\u001b[1;32m     15\u001b[0m         \u001b[0;32mdef\u001b[0m \u001b[0mfdet\u001b[0m\u001b[0;34m(\u001b[0m\u001b[0mEn\u001b[0m\u001b[0;34m)\u001b[0m\u001b[0;34m:\u001b[0m\u001b[0;34m\u001b[0m\u001b[0m\n\u001b[0;32m---> 16\u001b[0;31m             \u001b[0;32mreturn\u001b[0m \u001b[0mnp\u001b[0m\u001b[0;34m.\u001b[0m\u001b[0mlinalg\u001b[0m\u001b[0;34m.\u001b[0m\u001b[0mdet\u001b[0m\u001b[0;34m(\u001b[0m\u001b[0mGtotm1\u001b[0m\u001b[0;34m(\u001b[0m\u001b[0mEn\u001b[0m\u001b[0;34m,\u001b[0m\u001b[0mkx\u001b[0m\u001b[0;34m,\u001b[0m\u001b[0mphi\u001b[0m\u001b[0;34m,\u001b[0m\u001b[0mB\u001b[0m\u001b[0;34m)\u001b[0m\u001b[0;34m)\u001b[0m\u001b[0;34m/\u001b[0m\u001b[0;34m(\u001b[0m\u001b[0mmu\u001b[0m\u001b[0;34m**\u001b[0m\u001b[0;34m(\u001b[0m\u001b[0;36m8\u001b[0m\u001b[0;34m*\u001b[0m\u001b[0mNJ\u001b[0m\u001b[0;34m)\u001b[0m\u001b[0;34m)\u001b[0m\u001b[0;34m\u001b[0m\u001b[0m\n\u001b[0m\u001b[1;32m     17\u001b[0m         \u001b[0mx0roots\u001b[0m\u001b[0;34m=\u001b[0m\u001b[0mnp\u001b[0m\u001b[0;34m.\u001b[0m\u001b[0mndarray\u001b[0m\u001b[0;34m.\u001b[0m\u001b[0mtolist\u001b[0m\u001b[0;34m(\u001b[0m\u001b[0mnp\u001b[0m\u001b[0;34m.\u001b[0m\u001b[0mlinspace\u001b[0m\u001b[0;34m(\u001b[0m\u001b[0;34m-\u001b[0m\u001b[0mdelta\u001b[0m\u001b[0;34m,\u001b[0m\u001b[0mdelta\u001b[0m\u001b[0;34m,\u001b[0m\u001b[0mnp\u001b[0m\u001b[0;34m.\u001b[0m\u001b[0mint\u001b[0m\u001b[0;34m(\u001b[0m\u001b[0;36m2\u001b[0m\u001b[0;34m*\u001b[0m\u001b[0mdelta\u001b[0m\u001b[0;34m/\u001b[0m\u001b[0;36m0.01\u001b[0m\u001b[0;34m)\u001b[0m\u001b[0;34m)\u001b[0m\u001b[0;34m)\u001b[0m\u001b[0;34m\u001b[0m\u001b[0m\n\u001b[1;32m     18\u001b[0m         \u001b[0;32mfor\u001b[0m \u001b[0mi\u001b[0m \u001b[0;32min\u001b[0m \u001b[0mrange\u001b[0m\u001b[0;34m(\u001b[0m\u001b[0mlen\u001b[0m\u001b[0;34m(\u001b[0m\u001b[0mx0roots\u001b[0m\u001b[0;34m)\u001b[0m\u001b[0;34m)\u001b[0m\u001b[0;34m:\u001b[0m\u001b[0;34m\u001b[0m\u001b[0m\n",
      "\u001b[0;32m/usr/local/lib64/python2.7/site-packages/numpy/linalg/linalg.pyc\u001b[0m in \u001b[0;36mdet\u001b[0;34m(a)\u001b[0m\n\u001b[1;32m   2091\u001b[0m     \u001b[0mt\u001b[0m\u001b[0;34m,\u001b[0m \u001b[0mresult_t\u001b[0m \u001b[0;34m=\u001b[0m \u001b[0m_commonType\u001b[0m\u001b[0;34m(\u001b[0m\u001b[0ma\u001b[0m\u001b[0;34m)\u001b[0m\u001b[0;34m\u001b[0m\u001b[0m\n\u001b[1;32m   2092\u001b[0m     \u001b[0msignature\u001b[0m \u001b[0;34m=\u001b[0m \u001b[0;34m'D->D'\u001b[0m \u001b[0;32mif\u001b[0m \u001b[0misComplexType\u001b[0m\u001b[0;34m(\u001b[0m\u001b[0mt\u001b[0m\u001b[0;34m)\u001b[0m \u001b[0;32melse\u001b[0m \u001b[0;34m'd->d'\u001b[0m\u001b[0;34m\u001b[0m\u001b[0m\n\u001b[0;32m-> 2093\u001b[0;31m     \u001b[0mr\u001b[0m \u001b[0;34m=\u001b[0m \u001b[0m_umath_linalg\u001b[0m\u001b[0;34m.\u001b[0m\u001b[0mdet\u001b[0m\u001b[0;34m(\u001b[0m\u001b[0ma\u001b[0m\u001b[0;34m,\u001b[0m \u001b[0msignature\u001b[0m\u001b[0;34m=\u001b[0m\u001b[0msignature\u001b[0m\u001b[0;34m)\u001b[0m\u001b[0;34m\u001b[0m\u001b[0m\n\u001b[0m\u001b[1;32m   2094\u001b[0m     \u001b[0mr\u001b[0m \u001b[0;34m=\u001b[0m \u001b[0mr\u001b[0m\u001b[0;34m.\u001b[0m\u001b[0mastype\u001b[0m\u001b[0;34m(\u001b[0m\u001b[0mresult_t\u001b[0m\u001b[0;34m,\u001b[0m \u001b[0mcopy\u001b[0m\u001b[0;34m=\u001b[0m\u001b[0mFalse\u001b[0m\u001b[0;34m)\u001b[0m\u001b[0;34m\u001b[0m\u001b[0m\n\u001b[1;32m   2095\u001b[0m     \u001b[0;32mreturn\u001b[0m \u001b[0mr\u001b[0m\u001b[0;34m\u001b[0m\u001b[0m\n",
      "\u001b[0;31mKeyboardInterrupt\u001b[0m: "
     ]
    }
   ],
   "source": [
    "NM=int(len(Barray)/2)\n",
    "\n",
    "L=50 #kx decimation\n",
    "kxarray=np.linspace(-(kF+alR)-0.1,0.1,L+1)\n",
    "EJdisp=np.zeros((4*(NJ+2),L+1))\n",
    "\n",
    "for tp in range(NM):\n",
    "    print(\"Topological phase nr.\",tp)\n",
    "    B=5#(Barray[2*tp+1]+Barray[2*tp])/2\n",
    "    print(B)\n",
    "    for j in range(L+1):\n",
    "        print(j)\n",
    "        ekx=[]\n",
    "        kx=kxarray[j]\n",
    "        def fdet(En):\n",
    "            return np.linalg.det(Gtotm1(En,kx,phi,B))/(mu**(8*NJ))\n",
    "        x0roots=np.ndarray.tolist(np.linspace(-delta,delta,np.int(2*delta/0.01)))\n",
    "        for i in range(len(x0roots)):\n",
    "            x0=x0roots[i]\n",
    "            solekx=opt.fsolve(fdet,np.asarray(x0))\n",
    "            if abs(fdet(solekx))>10**(-6) or abs(solekx)>=delta:\n",
    "                solekx=[]\n",
    "            solekx=np.ndarray.tolist(np.around(solekx,5))\n",
    "            ekx.extend(solekx)\n",
    "        ekx=list(set(ekx))\n",
    "        print(ekx)\n",
    "        if len(ekx)<4*(NJ+2):\n",
    "            zerocompletion=[delta]*(4*(NJ+2)-len(ekx))\n",
    "            ekx.extend(zerocompletion)\n",
    "        elif len(ekx)>4*(NJ+2):\n",
    "            print(\"Too many roots.\")\n",
    "            break\n",
    "        for p in range(4*(NJ+2)):\n",
    "            EJdisp[p,j]=np.asarray(ekx[p])\n",
    "\n",
    "    #extracting the gap\n",
    "    truegap=min(min(np.ndarray.tolist(np.abs(EJdisp))))\n",
    "    print(\"gap=\",truegap)\n",
    "    "
   ]
  },
  {
   "cell_type": "code",
   "execution_count": 274,
   "metadata": {},
   "outputs": [
    {
     "data": {
      "image/png": "[encoded data removed]",
      "text/plain": [
       "<Figure size 432x288 with 1 Axes>"
      ]
     },
     "metadata": {},
     "output_type": "display_data"
    }
   ],
   "source": [
    "for p in range(len(EJdisp)):\n",
    "    pp.plot(kxarray,EJdisp[p],'.')"
   ]
  },
  {
   "cell_type": "markdown",
   "metadata": {},
   "source": [
    "B=4 gap=0.00082\n",
    "\n",
    "B=4.5 gap=0.00564"
   ]
  },
  {
   "cell_type": "code",
   "execution_count": 238,
   "metadata": {},
   "outputs": [
    {
     "data": {
      "text/plain": [
       "[<matplotlib.lines.Line2D at 0x7f87db11d750>]"
      ]
     },
     "execution_count": 238,
     "metadata": {},
     "output_type": "execute_result"
    },
    {
     "data": {
      "image/png": "[encoded data removed]",
      "text/plain": [
       "<Figure size 432x288 with 1 Axes>"
      ]
     },
     "metadata": {},
     "output_type": "display_data"
    }
   ],
   "source": [
    "pp.plot(kxarray,EJdisp[2],'*')"
   ]
  },
  {
   "cell_type": "code",
   "execution_count": 265,
   "metadata": {},
   "outputs": [
    {
     "data": {
      "text/plain": [
       "array([], dtype=float64)"
      ]
     },
     "execution_count": 265,
     "metadata": {},
     "output_type": "execute_result"
    }
   ],
   "source": [
    "(np.asarray(Barray[0:-2])+np.asarray(Barray[1:-1]))/2"
   ]
  },
  {
   "cell_type": "code",
   "execution_count": 266,
   "metadata": {},
   "outputs": [
    {
     "data": {
      "text/plain": [
       "6.2606"
      ]
     },
     "execution_count": 266,
     "metadata": {},
     "output_type": "execute_result"
    }
   ],
   "source": [
    "B"
   ]
  },
  {
   "cell_type": "code",
   "execution_count": null,
   "metadata": {},
   "outputs": [],
   "source": []
  }
 ],
 "metadata": {
  "kernelspec": {
   "display_name": "Python 3",
   "language": "python",
   "name": "python3"
  },
  "language_info": {
   "codemirror_mode": {
    "name": "ipython",
    "version": 2
   },
   "file_extension": ".py",
   "mimetype": "text/x-python",
   "name": "python",
   "nbconvert_exporter": "python",
   "pygments_lexer": "ipython2",
   "version": "2.7.13"
  }
 },
 "nbformat": 4,
 "nbformat_minor": 2
}
