{
 "cells": [
  {
   "cell_type": "code",
   "execution_count": 1,
   "metadata": {},
   "outputs": [],
   "source": [
    "import numpy as np\n",
    "import sympy, scipy, cmath\n",
    "from sympy import *\n",
    "#from sympy import symbols\n",
    "#from sympy.solvers.solveset import nonlinsolve\n",
    "from scipy import sparse as sp\n",
    "#from scipy import linalg as ln\n",
    "from scipy import optimize as opt\n",
    "from scipy.sparse import  coo_matrix as cmm\n",
    "from matplotlib import pyplot as pp"
   ]
  },
  {
   "cell_type": "code",
   "execution_count": 109,
   "metadata": {},
   "outputs": [],
   "source": [
    "#Parameters\n",
    "#default values: mu=1.8 m=.5 t=3 alR=.7 B=3.07 delta=.5 phi=Pi\n",
    "\n",
    "kx=0.\n",
    "\n",
    "mu=1.8\n",
    "muSC=1.8\n",
    "m=.5\n",
    "t=3.\n",
    "alR=0.\n",
    "B=3.07\n",
    "delta=.5\n",
    "phi=np.pi*1.75\n",
    "\n",
    "def mut(kx):\n",
    "    return mu-2*t-kx**2/(2*m)-alR**2*m/2\n",
    "def kF(mu):\n",
    "    return cmath.sqrt(2*m*mu)\n",
    "def a(t):\n",
    "    return 1/cmath.sqrt(2*m*t)\n",
    "\n",
    "def delL(phi):\n",
    "    return delta*cmath.exp(1j*phi/2)\n",
    "def delR(phi):\n",
    "    return delta*cmath.exp(-1j*phi/2)\n",
    "def nu0(m):\n",
    "    return m/(2*np.pi)\n",
    "def xiE(En):\n",
    "    return kF(mu)/(m*cmath.sqrt(delta**2-En**2))\n",
    "\n",
    "tL=2.\n",
    "tR=tL\n",
    "\n",
    "NJ=15\n",
    "gamma=np.pi*nu0(m)*tL**2\n",
    "\n",
    "#matrix tools\n",
    "eye2=np.eye(2)\n",
    "eye4=np.eye(4)\n",
    "s1=[[0,1],[1,0]]\n",
    "s2=[[0,-1j],[1j,0]]\n",
    "s3=[[1,0],[0,-1]]\n",
    "tP=np.kron([[0,1],[0,0]],eye2)\n",
    "tM=np.kron([[0,0],[1,0]],eye2)\n",
    "t3=np.kron(s3,eye2)"
   ]
  },
  {
   "cell_type": "code",
   "execution_count": 110,
   "metadata": {},
   "outputs": [],
   "source": [
    "#Junction\n",
    "def HJ0(kx,B):\n",
    "    return -mut(kx)*t3+alR*kx*np.kron(s3,s2)+B*np.kron(eye2,s1)\n",
    "def Hy(alR):\n",
    "    return -t*t3+1j*alR/2/a(t)*np.kron(s3,s1)\n",
    "\n",
    "\n",
    "def HJ(kx,B):\n",
    "    start=cmm(HJ0(kx,B))\n",
    "    HJs=start\n",
    "    for n in range(0,NJ-1):\n",
    "        OT=cmm(np.zeros([len(HJs.toarray())-4,4]))\n",
    "        BT=sp.vstack([OT,cmm(Hy(alR))])\n",
    "        CT=sp.hstack([OT.transpose(),cmm(Hy(alR).conj().T),start])\n",
    "        HJs=sp.hstack([HJs,BT])\n",
    "        HJs=sp.vstack([HJs,CT])\n",
    "    return HJs\n",
    "\n",
    "def gJm1(En,kx,B):\n",
    "    return En*np.eye(4*NJ)-HJ(kx,B).toarray()\n",
    "\n",
    "#Superconductors\n",
    "# xiE-> infty to avoid more symbolic:\n",
    "#def fL(kx):\n",
    "#    return 1/(kF*a)*(np.log(1-np.exp(1j*a*(kF+kx)))+np.log(1-np.exp(1j*a*(kF-kx))))-1j\n",
    "\n",
    "def fL(En,kx):\n",
    "    return 1/(kF(muSC)*a(t))*(cmath.log(1-cmath.exp(-a(t)/xiE(En)+1j*a(t)*(kF(mu)+kx)))+\\\n",
    "                         cmath.log(1-cmath.exp(-a(t)/xiE(En)+1j*a(t)*(kF(muSC)-kx))))-1j\n",
    "\n",
    "def gSC1m1(En,kx,phi):\n",
    "    return -1/(np.pi*nu0(m)*abs(fL(En,kx))**2)*((En*eye4 - delL(phi)*tP - np.conj(delL(phi))*tM)*\\\n",
    "                                                 fL(En,kx).imag/cmath.sqrt(delta**2 - En**2) - fL(En,kx).real*t3)\n",
    "\n",
    "def gSC2m1(En,kx,phi):\n",
    "    return -1/(np.pi*nu0(m)*abs(fL(En,kx))**2)*((En*eye4 - delR(phi)*tP - np.conj(delR(phi))*tM)*\\\n",
    "                                                 fL(En,kx).imag/cmath.sqrt(delta**2 - En**2) - fL(En,kx).real*t3)\n",
    "\n",
    "#SC/J coupling\n",
    "rowindex=np.array([1,2,3,4,4*NJ+1,4*NJ+2,4*NJ+3,4*NJ+4])-1\n",
    "colindex=np.array([5,6,7,8,4*(NJ+1)+1,4*(NJ+1)+2,4*(NJ+1)+3,4*(NJ+1)+4])-1\n",
    "hoppings=[tL,tL,-tL,-tL,tR,tR,-tR,-tR]\n",
    "mHt1=cmm((hoppings,(rowindex,colindex)),shape=(4*(NJ+2),4*(NJ+2)))\n",
    "mHt=mHt1+mHt1.transpose()\n",
    "\n",
    "#total inverse GF\n",
    "def Gtotm1(En,kx,phi,B):\n",
    "    return scipy.linalg.block_diag(gSC1m1(En,kx,phi),gJm1(En,kx,B),gSC2m1(En,kx,phi))+mHt.toarray()"
   ]
  },
  {
   "cell_type": "code",
   "execution_count": 112,
   "metadata": {
    "scrolled": true
   },
   "outputs": [
    {
     "name": "stdout",
     "output_type": "stream",
     "text": [
      "0\n",
      "[0.537690611, 1.2551101709, 1.6872857247, 2.3335050975, 3.3975162191, 4.4984998974, 5.5945380004, 6.6505202724, 7.6305726232, 8.4976858316, 9.2160265559, 10.0871865316]\n",
      "1\n"
     ]
    },
    {
     "name": "stderr",
     "output_type": "stream",
     "text": [
      "/usr/local/lib/python2.7/site-packages/ipykernel_launcher.py:18: RuntimeWarning: invalid value encountered in cdouble_scalars\n"
     ]
    },
    {
     "name": "stdout",
     "output_type": "stream",
     "text": [
      "[0.5388399785, 1.2531128325, 1.6871744458, 2.3335098501, 3.3975160941, 4.498499906, 5.5945379995, 6.6505202725, 7.6305726232, 8.4976858316, 9.2160265559, 10.0871865316]\n",
      "2\n",
      "[0.5421927351, 1.2477795244, 1.686841447, 2.3335240316, 3.3975157211, 4.4984999318, 5.5945379966, 6.650520273, 7.6305726231, 8.4976858316, 9.2160265559, 10.0871865316]\n",
      "3\n",
      "[0.5474953884, 1.2403201065, 1.6862892552, 2.3335474149, 3.3975151058, 4.4984999743, 5.594537992, 6.6505202736, 7.630572623, 8.4976858317, 9.2160265559, 10.0871865316]\n",
      "4\n",
      "[0.5544106799, 1.2316404173, 1.6855221218, 2.3335796255, 3.3975142581, 4.4985000328, 5.5945379855, 6.6505202746, 7.6305726228, 8.4976858317, 9.2160265559, 10.0871865316]\n",
      "5\n",
      "[0.5625898145, 1.2222642829, 1.6845460846, 2.3336201479, 3.3975131913, 4.4985001066, 5.5945379774, 6.6505202758, 7.6305726226, 8.4976858318, 9.2160265558, 10.0871865316]\n",
      "6\n",
      "[0.5717168576, 1.2124861745, 1.6833690548, 2.3336683341, 3.3975119222, 4.4985001942, 5.5945379678, 6.6505202772, 7.6305726223, 8.4976858318, 9.2160265558, 10.0871865316]\n",
      "7\n",
      "[0.5815251602, 1.2024823411, 1.6820009317, 2.3337234148, 3.3975104709, 4.4985002945, 5.5945379568, 6.6505202789, 7.630572622, 8.4976858319, 9.2160265558, 10.0871865316]\n",
      "8\n",
      "[0.5917966173, 1.1923690599, 1.6804537447, 2.3337845117, 3.3975088601, 4.4985004058, 5.5945379445, 6.6505202807, 7.6305726217, 8.497685832, 9.2160265558, 10.0871865316]\n",
      "9\n",
      "[0.6023536473, 1.1822318792, 1.6787418246, 2.333850652, 3.3975071154, 4.4985005263, 5.5945379313, 6.6505202826, 7.6305726213, 8.497685832, 9.2160265558, 10.0871865316]\n",
      "10\n",
      "[0.6130495846, 1.1721408152, 1.676882001, 2.3339207846, 3.3975052641, 4.4985006542, 5.5945379172, 6.6505202847, 7.6305726209, 8.4976858321, 9.2160265558, 10.0871865316]\n",
      "11\n",
      "[0.6237599221, 1.1621587516, 1.6748938237, 2.3339937968, 3.3975033356, 4.4985007875, 5.5945379026, 6.6505202869, 7.6305726205, 8.4976858322, 9.2160265557, 10.0871865316]\n",
      "12\n",
      "[0.6343751028, 1.1523464375, 1.6727997997, 2.3340685327, 3.3975013603, 4.498500924, 5.5945378876, 6.6505202891, 7.6305726201, 8.4976858323, 9.2160265557, 10.0871865316]\n",
      "13\n",
      "[0.6447948385, 1.1427656958, 1.6706256308, 2.3341438112, 3.3974993692, 4.4985010615, 5.5945378725, 6.6505202913, 7.6305726197, 8.4976858324, 9.2160265557, 10.0871865316]\n",
      "14\n",
      "[0.6549237233, 1.133481619, 1.6684004295, 2.3342184454, 3.3974973937, 4.498501198, 5.5945378575, 6.6505202935, 7.6305726193, 8.4976858325, 9.2160265557, 10.0871865316]\n",
      "15\n",
      "[0.6646679119, 1.1245641082, 1.6661568749, 2.3342912606, 3.3974954652, 4.4985013312, 5.5945378428, 6.6505202957, 7.6305726189, 8.4976858326, 9.2160265557, 10.0871865316]\n",
      "16\n",
      "[0.6739327164, 1.1160888827, 1.6639312582, 2.3343611132, 3.3974936138, 4.4985014591, 5.5945378288, 6.6505202978, 7.6305726185, 8.4976858326, 9.2160265556, 10.0871865316]\n",
      "17\n",
      "[0.6826210783, 1.6617633455, 2.3344269083, 3.3974918689, 4.4985015797, 5.5945378155, 6.6505202997, 7.6305726182, 8.4976858327, 9.2160265556, 10.0871865316]\n",
      "18\n",
      "[0.6906329724, 1.6596959702, 2.3344876162, 3.397490258, 4.498501691, 5.5945378033, 6.6505203016, 7.6305726178, 8.4976858328, 9.2160265556, 10.0871865316]\n",
      "19\n",
      "[0.6978658782, 1.6577742574, 2.3345422888, 3.3974888065, 4.4985017912, 5.5945377923, 6.6505203032, 7.6305726175, 8.4976858329, 9.2160265556, 10.0871865316]\n",
      "20\n",
      "[0.7042164849, 1.0883338754, 1.6560443892, 2.3345900734, 3.3974875372, 4.4985018789, 5.5945377827, 6.6505203046, 7.6305726173, 8.4976858329, 9.2160265556, 10.0871865316]\n",
      "21\n",
      "[0.7095837551, 1.0833980181, 1.6545518597, 2.3346302257, 3.3974864702, 4.4985019526, 5.5945377746, 6.6505203058, 7.630572617, 8.497685833, 9.2160265556, 10.0871865316]\n",
      "22\n",
      "[0.7138733183, 1.0794483327, 1.6533392429, 2.3346621211, 3.3974856224, 4.4985020112, 5.5945377681, 6.6505203068, 7.6305726169, 8.497685833, 9.2160265555, 10.0871865316]\n",
      "23\n",
      "[0.7170029, 1.076563778, 1.6524436143, 2.3346852641, 3.3974850071, 4.4985020537, 5.5945377634, 6.6505203074, 7.6305726167, 8.497685833, 9.2160265555, 10.0871865316]\n",
      "24\n",
      "[0.7189081528, 1.6518939028, 2.3346992951, 3.3974846339, 4.4985020795, 5.5945377606, 6.6505203079, 7.6305726167, 8.497685833, 9.2160265555, 10.0871865316]\n",
      "25\n",
      "[0.7195479561, 1.6517085519, 2.3347039964, 3.3974845089, 4.4985020881, 5.5945377597, 6.650520308, 7.6305726166, 8.4976858331, 9.2160265555, 10.0871865316]\n",
      "26\n",
      "[0.7189081528, 1.6518939028, 2.3346992951, 3.3974846339, 4.4985020795, 5.5945377606, 6.6505203079, 7.6305726167, 8.497685833, 9.2160265555, 10.0871865316]\n",
      "27\n",
      "[0.7170029, 1.076563778, 1.6524436143, 2.3346852641, 3.3974850071, 4.4985020537, 5.5945377634, 6.6505203074, 7.6305726167, 8.497685833, 9.2160265555, 10.0871865316]\n",
      "28\n",
      "[0.7138733183, 1.0794483327, 1.6533392429, 2.3346621211, 3.3974856224, 4.4985020112, 5.5945377681, 6.6505203068, 7.6305726169, 8.497685833, 9.2160265555, 10.0871865316]\n",
      "29\n",
      "[0.7095837551, 1.0833980181, 1.6545518597, 2.3346302257, 3.3974864702, 4.4985019526, 5.5945377746, 6.6505203058, 7.630572617, 8.497685833, 9.2160265556, 10.0871865316]\n",
      "30\n",
      "[0.7042164849, 1.0883338754, 1.6560443892, 2.3345900734, 3.3974875372, 4.4985018789, 5.5945377827, 6.6505203046, 7.6305726173, 8.4976858329, 9.2160265556, 10.0871865316]\n",
      "31\n",
      "[0.6978658782, 1.6577742574, 2.3345422888, 3.3974888065, 4.4985017912, 5.5945377923, 6.6505203032, 7.6305726175, 8.4976858329, 9.2160265556, 10.0871865316]\n",
      "32\n",
      "[0.6906329724, 1.6596959702, 2.3344876162, 3.397490258, 4.498501691, 5.5945378033, 6.6505203016, 7.6305726178, 8.4976858328, 9.2160265556, 10.0871865316]\n",
      "33\n",
      "[0.6826210783, 1.6617633455, 2.3344269083, 3.3974918689, 4.4985015797, 5.5945378155, 6.6505202997, 7.6305726182, 8.4976858327, 9.2160265556, 10.0871865316]\n",
      "34\n",
      "[0.6739327164, 1.1160888827, 1.6639312582, 2.3343611132, 3.3974936138, 4.4985014591, 5.5945378288, 6.6505202978, 7.6305726185, 8.4976858326, 9.2160265556, 10.0871865316]\n",
      "35\n",
      "[0.6646679119, 1.1245641082, 1.6661568749, 2.3342912606, 3.3974954652, 4.4985013312, 5.5945378428, 6.6505202957, 7.6305726189, 8.4976858326, 9.2160265557, 10.0871865316]\n",
      "36\n",
      "[0.6549237233, 1.133481619, 1.6684004295, 2.3342184454, 3.3974973937, 4.498501198, 5.5945378575, 6.6505202935, 7.6305726193, 8.4976858325, 9.2160265557, 10.0871865316]\n",
      "37\n",
      "[0.6447948385, 1.1427656958, 1.6706256308, 2.3341438112, 3.3974993692, 4.4985010615, 5.5945378725, 6.6505202913, 7.6305726197, 8.4976858324, 9.2160265557, 10.0871865316]\n",
      "38\n",
      "[0.6343751028, 1.1523464375, 1.6727997997, 2.3340685327, 3.3975013603, 4.498500924, 5.5945378876, 6.6505202891, 7.6305726201, 8.4976858323, 9.2160265557, 10.0871865316]\n",
      "39\n",
      "[0.6237599221, 1.1621587516, 1.6748938237, 2.3339937968, 3.3975033356, 4.4985007875, 5.5945379026, 6.6505202869, 7.6305726205, 8.4976858322, 9.2160265557, 10.0871865316]\n",
      "40\n",
      "[0.6130495846, 1.1721408152, 1.676882001, 2.3339207846, 3.3975052641, 4.4985006542, 5.5945379172, 6.6505202847, 7.6305726209, 8.4976858321, 9.2160265558, 10.0871865316]\n",
      "41\n",
      "[0.6023536473, 1.1822318792, 1.6787418246, 2.333850652, 3.3975071154, 4.4985005263, 5.5945379313, 6.6505202826, 7.6305726213, 8.497685832, 9.2160265558, 10.0871865316]\n",
      "42\n",
      "[0.5917966173, 1.1923690599, 1.6804537447, 2.3337845117, 3.3975088601, 4.4985004058, 5.5945379445, 6.6505202807, 7.6305726217, 8.497685832, 9.2160265558, 10.0871865316]\n",
      "43\n",
      "[0.5815251602, 1.2024823411, 1.6820009317, 2.3337234148, 3.3975104709, 4.4985002945, 5.5945379568, 6.6505202789, 7.630572622, 8.4976858319, 9.2160265558, 10.0871865316]\n",
      "44\n",
      "[0.5717168576, 1.2124861745, 1.6833690548, 2.3336683341, 3.3975119222, 4.4985001942, 5.5945379678, 6.6505202772, 7.6305726223, 8.4976858318, 9.2160265558, 10.0871865316]\n",
      "45\n",
      "[0.5625898145, 1.2222642829, 1.6845460846, 2.3336201479, 3.3975131913, 4.4985001066, 5.5945379774, 6.6505202758, 7.6305726226, 8.4976858318, 9.2160265558, 10.0871865316]\n",
      "46\n",
      "[0.5544106799, 1.2316404173, 1.6855221218, 2.3335796255, 3.3975142581, 4.4985000328, 5.5945379855, 6.6505202746, 7.6305726228, 8.4976858317, 9.2160265559, 10.0871865316]\n",
      "47\n",
      "[0.5474953884, 1.2403201065, 1.6862892552, 2.3335474149, 3.3975151058, 4.4984999743, 5.594537992, 6.6505202736, 7.630572623, 8.4976858317, 9.2160265559, 10.0871865316]\n",
      "48\n",
      "[0.5421927351, 1.2477795244, 1.686841447, 2.3335240316, 3.3975157211, 4.4984999318, 5.5945379966, 6.650520273, 7.6305726231, 8.4976858316, 9.2160265559, 10.0871865316]\n",
      "49\n",
      "[0.5388399785, 1.2531128325, 1.6871744458, 2.3335098501, 3.3975160941, 4.498499906, 5.5945379995, 6.6505202725, 7.6305726232, 8.4976858316, 9.2160265559, 10.0871865316]\n",
      "50\n"
     ]
    },
    {
     "name": "stdout",
     "output_type": "stream",
     "text": [
      "[0.537690611, 1.2551101709, 1.6872857247, 2.3335050975, 3.3975162191, 4.4984998974, 5.5945380004, 6.6505202724, 7.6305726232, 8.4976858316, 9.2160265559, 10.0871865316]\n"
     ]
    }
   ],
   "source": [
    "M=50\n",
    "phiarray=np.linspace(0,2*np.pi,M+1)\n",
    "#Barray1=np.ndarray.tolist(np.linspace(3.2,3.https://www.youtube.com/?hl=FR3,20))\n",
    "#Barray2=np.ndarray.tolist(np.linspace(9.15,9.45,40))\n",
    "#Barray3=np.ndarray.tolist(np.linspace(2.9,3.1,30))\n",
    "#Barray=[1]#np.asarray(Barray1+Barray2)#+Barray3)\n",
    "#M=len(Barray)-1\n",
    "\n",
    "PDB=np.zeros((M+1,NJ))#2*NJ))\n",
    "\n",
    "En=0\n",
    "\n",
    "for qq in range(M+1):\n",
    "    phi=phiarray[qq]\n",
    "    print(qq)\n",
    "    ekxphi=[]\n",
    "    def fdetB(B):\n",
    "        return np.linalg.det(Gtotm1(En,kx,phi,B))/(mu**((2*t+mu)*(NJ+2)))\n",
    "    x0roots=np.ndarray.tolist(np.linspace(0,12,20))\n",
    "    for i in range(len(x0roots)):\n",
    "        x0=x0roots[i]\n",
    "        solekx=opt.fsolve(fdetB,np.asarray(x0))\n",
    "        if abs(fdetB(solekx))>10**-6 or solekx<0:# or solekx>2*np.pi+0.1\n",
    "            solekx=[]\n",
    "        solekx=np.ndarray.tolist(np.around(solekx,10))\n",
    "        ekxphi.extend(solekx)\n",
    "    ekxphi=sorted(list(set(ekxphi)))\n",
    "    print(ekxphi)\n",
    "    if len(ekxphi)<NJ: ###here 2*\n",
    "        zerocompletion=[0]*(NJ-len(ekxphi)) ###here\n",
    "        ekxphi.extend(zerocompletion)\n",
    "    elif len(ekxphi)>NJ:  ###here\n",
    "        print(\"Too many roots.\")\n",
    "        break\n",
    "    PDB[qq]=np.asarray(ekxphi)"
   ]
  },
  {
   "cell_type": "code",
   "execution_count": null,
   "metadata": {},
   "outputs": [],
   "source": []
  },
  {
   "cell_type": "code",
   "execution_count": null,
   "metadata": {},
   "outputs": [],
   "source": []
  },
  {
   "cell_type": "code",
   "execution_count": null,
   "metadata": {},
   "outputs": [],
   "source": []
  },
  {
   "cell_type": "markdown",
   "metadata": {},
   "source": [
    "PDBa4=PDB\n",
    "Php4=phiarray"
   ]
  },
  {
   "cell_type": "code",
   "execution_count": 118,
   "metadata": {},
   "outputs": [
    {
     "data": {
      "text/plain": [
       "[2.3, 2.35, 0, 6.3]"
      ]
     },
     "execution_count": 118,
     "metadata": {},
     "output_type": "execute_result"
    },
    {
     "data": {
      "image/png": "[encoded data removed]",
      "text/plain": [
       "<Figure size 432x288 with 1 Axes>"
      ]
     },
     "metadata": {},
     "output_type": "display_data"
    }
   ],
   "source": [
    "for p in range(len(PDBa4)):\n",
    "    pp.plot(PDBa4[p],[Php4[p]]*(NJ),'.')\n",
    "pp.axis([2.3,2.35,0,6.3])"
   ]
  },
  {
   "cell_type": "markdown",
   "metadata": {},
   "source": [
    "PDBa3=PDB\n",
    "Php3=phiarray"
   ]
  },
  {
   "cell_type": "code",
   "execution_count": 88,
   "metadata": {},
   "outputs": [
    {
     "data": {
      "image/png": "[encoded data removed]",
      "text/plain": [
       "<Figure size 432x288 with 1 Axes>"
      ]
     },
     "metadata": {},
     "output_type": "display_data"
    }
   ],
   "source": [
    "for p in range(len(PDBa3)):\n",
    "    pp.plot(PDBa3[p],[Php3[p]]*(NJ),'.')"
   ]
  },
  {
   "cell_type": "markdown",
   "metadata": {},
   "source": [
    "PDBa2=PDB\n",
    "Php2=phiarray"
   ]
  },
  {
   "cell_type": "code",
   "execution_count": 58,
   "metadata": {},
   "outputs": [
    {
     "data": {
      "text/plain": [
       "[<matplotlib.lines.Line2D at 0x7f47c8e12990>]"
      ]
     },
     "execution_count": 58,
     "metadata": {},
     "output_type": "execute_result"
    },
    {
     "data": {
      "image/png": "[encoded data removed]",
      "text/plain": [
       "<Figure size 432x288 with 1 Axes>"
      ]
     },
     "metadata": {},
     "output_type": "display_data"
    }
   ],
   "source": [
    "for p in range(len(PDB)):\n",
    "    pp.plot(PDBa2[p][0],[Php2[p]]*(NJ-1),'.')\n",
    "phiphi=np.linspace(0,2*np.pi,100)\n",
    "Barray=[np.sqrt(mut(0)**2+t**2+gamma**2+t*np.sqrt(4*mut(0)**2+2*gamma**2*(1-np.cos(ph)))) for ph in phiphi]\n",
    "Barray2=[np.sqrt(mut(0)**2+t**2+gamma**2-t*np.sqrt(4*mut(0)**2+tL**6+2*gamma**2*(1-np.cos(ph)))) for ph in phiphi]\n",
    "#pp.plot(Barray,phiphi,'--')\n",
    "pp.plot(Barray2,phiphi,'--')"
   ]
  },
  {
   "cell_type": "markdown",
   "metadata": {},
   "source": [
    "PDBa1=PDB\n",
    "Php1=phiarray"
   ]
  },
  {
   "cell_type": "code",
   "execution_count": 63,
   "metadata": {},
   "outputs": [
    {
     "data": {
      "text/plain": [
       "[<matplotlib.lines.Line2D at 0x7f47c816ce50>]"
      ]
     },
     "execution_count": 63,
     "metadata": {},
     "output_type": "execute_result"
    },
    {
     "data": {
      "image/png": "[encoded data removed]",
      "text/plain": [
       "<Figure size 432x288 with 1 Axes>"
      ]
     },
     "metadata": {},
     "output_type": "display_data"
    }
   ],
   "source": [
    "for p in range(len(PDB)):\n",
    "    pp.plot(PDBa1[p],[Php1[p]]*(NJ),'.')\n",
    "phiphi=np.linspace(0,2*np.pi,51)\n",
    "Barray=[np.sqrt(mut(0)**2+2*gamma**2*(np.abs(fL(0,0))**2+fL(0,0).imag**2*np.cos(ph))-4*gamma*mut(0)*fL(0,0).real) for ph in phiphi]\n",
    "pp.plot(Barray,phiphi,'--')"
   ]
  },
  {
   "cell_type": "code",
   "execution_count": null,
   "metadata": {},
   "outputs": [],
   "source": []
  },
  {
   "cell_type": "code",
   "execution_count": null,
   "metadata": {},
   "outputs": [],
   "source": []
  },
  {
   "cell_type": "code",
   "execution_count": 127,
   "metadata": {},
   "outputs": [
    {
     "data": {
      "text/plain": [
       "5.548052626239574"
      ]
     },
     "execution_count": 127,
     "metadata": {},
     "output_type": "execute_result"
    }
   ],
   "source": [
    "B=2.00585\n",
    "ppk=np.arange(1000)*2*np.pi/1000\n",
    "detppk=[np.linalg.det(Gtotm1(0,0,ppk[j]))/(mu**(4*(NJ+0))) for j in range(len(ppk))]\n",
    "ppk[np.argmin(detppk)]"
   ]
  },
  {
   "cell_type": "code",
   "execution_count": 120,
   "metadata": {},
   "outputs": [
    {
     "data": {
      "text/plain": [
       "[<matplotlib.lines.Line2D at 0x7fd9af7f4490>]"
      ]
     },
     "execution_count": 120,
     "metadata": {},
     "output_type": "execute_result"
    },
    {
     "data": {
      "image/png": "[encoded data removed]",
      "text/plain": [
       "<Figure size 432x288 with 1 Axes>"
      ]
     },
     "metadata": {},
     "output_type": "display_data"
    }
   ],
   "source": [
    "pp.plot(ppk,detppk)\n",
    "pp.plot(ppk,np.zeros(len(ppk)))\n",
    "#pp.axis([0,2*np.pi,0,10**-11])"
   ]
  },
  {
   "cell_type": "code",
   "execution_count": 129,
   "metadata": {},
   "outputs": [],
   "source": [
    "uhgf=ppk[np.argmin(detppk)]\n",
    "zer=(-uhgf)%(2*np.pi)"
   ]
  },
  {
   "cell_type": "code",
   "execution_count": 130,
   "metadata": {},
   "outputs": [
    {
     "name": "stdout",
     "output_type": "stream",
     "text": [
      "(5.548052626239574, 0.735132680940012)\n"
     ]
    }
   ],
   "source": [
    "print(uhgf,zer)"
   ]
  },
  {
   "cell_type": "code",
   "execution_count": null,
   "metadata": {},
   "outputs": [],
   "source": []
  },
  {
   "cell_type": "code",
   "execution_count": 116,
   "metadata": {},
   "outputs": [
    {
     "data": {
      "text/plain": [
       "Text(0.5,1,'Topological phase diagram')"
      ]
     },
     "execution_count": 116,
     "metadata": {},
     "output_type": "execute_result"
    },
    {
     "data": {
      "image/png": "[encoded data removed]",
      "text/plain": [
       "<Figure size 1080x288 with 1 Axes>"
      ]
     },
     "metadata": {},
     "output_type": "display_data"
    }
   ],
   "source": [
    "pp.figure(figsize=(15,4))\n",
    "for p in range(len(PDB)):\n",
    "    pp.plot(PDB[p],[phiarray[p]]*(NJ),'.')\n",
    "pp.plot(2.75,np.pi,'k*')\n",
    "#pp.plot(9.26,np.pi,'*')\n",
    "pp.axis([-0.1,15,-0.1,6.5])\n",
    "pp.xlabel('$E_Z$',fontsize=20)\n",
    "pp.ylabel('$\\phi$',fontsize=20)\n",
    "pp.title('Topological phase diagram',fontsize=18)"
   ]
  },
  {
   "cell_type": "code",
   "execution_count": 76,
   "metadata": {},
   "outputs": [],
   "source": [
    "def adjMat(matr,row,col):\n",
    "    # matr    should be an array, not a list\n",
    "    #returns an array\n",
    "    adj=np.ndarray.tolist(matr)\n",
    "    adj[row:row+1]=[]\n",
    "    for i in range(len(adj)):\n",
    "        adj[i][col:col+1]=[]\n",
    "    return np.asarray(adj)"
   ]
  },
  {
   "cell_type": "code",
   "execution_count": 77,
   "metadata": {
    "scrolled": true
   },
   "outputs": [
    {
     "name": "stdout",
     "output_type": "stream",
     "text": [
      "(-0.18+0j)  0j(-0-3.17j)  0j(0.1+0j)  0j  0j  0j  0j  0j  0j  0j  0j  0j  0j  0j\n",
      "  0j(-0.18+0j)  0j(-0-3.17j)  0j(0.1+0j)  0j  0j  0j  0j  0j  0j  0j  0j  0j  0j\n",
      "(-0+3.17j)  0j(0.18+0j)  0j  0j  0j(-0.1+0j)  0j  0j  0j  0j  0j  0j  0j  0j  0j\n",
      "  0j(-0+3.17j)  0j(0.18+0j)  0j  0j  0j(-0.1+0j)  0j  0j  0j  0j  0j  0j  0j  0j\n",
      "(0.1+0j)  0j  0j  0j(0.8+0j)(-3+0j)  0j  0j(1.1+0j)  0j  0j  0j  0j  0j  0j  0j\n",
      "  0j(0.1+0j)  0j  0j(-3+0j)(0.8+0j)  0j  0j  0j(1.1+0j)  0j  0j  0j  0j  0j  0j\n",
      "  0j  0j(-0.1+0j)  0j  0j  0j(-0.8+0j)(-3+0j)  0j  0j(-1.1+0j)  0j  0j  0j  0j  0j\n",
      "  0j  0j  0j(-0.1+0j)  0j  0j(-3+0j)(-0.8+0j)  0j  0j  0j(-1.1+0j)  0j  0j  0j  0j\n",
      "  0j  0j  0j  0j(1.1+0j)  0j  0j  0j(0.8+0j)(-3+0j)  0j  0j(0.1+0j)  0j  0j  0j\n",
      "  0j  0j  0j  0j  0j(1.1+0j)  0j  0j(-3+0j)(0.8+0j)  0j  0j  0j(0.1+0j)  0j  0j\n",
      "  0j  0j  0j  0j  0j  0j(-1.1+0j)  0j  0j  0j(-0.8+0j)(-3+0j)  0j  0j(-0.1+0j)  0j\n",
      "  0j  0j  0j  0j  0j  0j  0j(-1.1+0j)  0j  0j(-3+0j)(-0.8+0j)  0j  0j  0j(-0.1+0j)\n",
      "  0j  0j  0j  0j  0j  0j  0j  0j(0.1+0j)  0j  0j  0j(-0.18+0j)  0j(-0+3.17j)  0j\n",
      "  0j  0j  0j  0j  0j  0j  0j  0j  0j(0.1+0j)  0j  0j  0j(-0.18+0j)  0j(-0+3.17j)\n",
      "  0j  0j  0j  0j  0j  0j  0j  0j  0j  0j(-0.1+0j)  0j(-0-3.17j)  0j(0.18+0j)  0j\n",
      "  0j  0j  0j  0j  0j  0j  0j  0j  0j  0j  0j(-0.1+0j)  0j(-0-3.17j)  0j(0.18+0j)\n"
     ]
    }
   ],
   "source": [
    "A=np.around(Gtotm1(0,0,3.14,3),2)\n",
    "print('\\n'.join([''.join(['{:4}'.format(item) for item in row]) \n",
    "      for row in A]))"
   ]
  },
  {
   "cell_type": "code",
   "execution_count": 78,
   "metadata": {},
   "outputs": [
    {
     "name": "stdout",
     "output_type": "stream",
     "text": [
      "(-0.18+0j)  0j(-0-3.17j)(0.1+0j)  0j  0j  0j  0j  0j  0j  0j  0j  0j  0j  0j\n",
      "  0j(-0.18+0j)  0j  0j(0.1+0j)  0j  0j  0j  0j  0j  0j  0j  0j  0j  0j\n",
      "  0j(-0+3.17j)  0j  0j  0j  0j(-0.1+0j)  0j  0j  0j  0j  0j  0j  0j  0j\n",
      "(0.1+0j)  0j  0j(0.8+0j)(-3+0j)  0j  0j(1.1+0j)  0j  0j  0j  0j  0j  0j  0j\n",
      "  0j(0.1+0j)  0j(-3+0j)(0.8+0j)  0j  0j  0j(1.1+0j)  0j  0j  0j  0j  0j  0j\n",
      "  0j  0j(-0.1+0j)  0j  0j(-0.8+0j)(-3+0j)  0j  0j(-1.1+0j)  0j  0j  0j  0j  0j\n",
      "  0j  0j  0j  0j  0j(-3+0j)(-0.8+0j)  0j  0j  0j(-1.1+0j)  0j  0j  0j  0j\n",
      "  0j  0j  0j(1.1+0j)  0j  0j  0j(0.8+0j)(-3+0j)  0j  0j(0.1+0j)  0j  0j  0j\n",
      "  0j  0j  0j  0j(1.1+0j)  0j  0j(-3+0j)(0.8+0j)  0j  0j  0j(0.1+0j)  0j  0j\n",
      "  0j  0j  0j  0j  0j(-1.1+0j)  0j  0j  0j(-0.8+0j)(-3+0j)  0j  0j(-0.1+0j)  0j\n",
      "  0j  0j  0j  0j  0j  0j(-1.1+0j)  0j  0j(-3+0j)(-0.8+0j)  0j  0j  0j(-0.1+0j)\n",
      "  0j  0j  0j  0j  0j  0j  0j(0.1+0j)  0j  0j  0j(-0.18+0j)  0j(-0+3.17j)  0j\n",
      "  0j  0j  0j  0j  0j  0j  0j  0j(0.1+0j)  0j  0j  0j(-0.18+0j)  0j(-0+3.17j)\n",
      "  0j  0j  0j  0j  0j  0j  0j  0j  0j(-0.1+0j)  0j(-0-3.17j)  0j(0.18+0j)  0j\n",
      "  0j  0j  0j  0j  0j  0j  0j  0j  0j  0j(-0.1+0j)  0j(-0-3.17j)  0j(0.18+0j)\n"
     ]
    }
   ],
   "source": [
    "Acut=adjMat(A,2,3)\n",
    "print('\\n'.join([''.join(['{:4}'.format(item) for item in row]) \n",
    "      for row in Acut]))"
   ]
  }
 ],
 "metadata": {
  "kernelspec": {
   "display_name": "Python 3",
   "language": "python",
   "name": "python3"
  },
  "language_info": {
   "codemirror_mode": {
    "name": "ipython",
    "version": 2
   },
   "file_extension": ".py",
   "mimetype": "text/x-python",
   "name": "python",
   "nbconvert_exporter": "python",
   "pygments_lexer": "ipython2",
   "version": "2.7.13"
  }
 },
 "nbformat": 4,
 "nbformat_minor": 2
}
