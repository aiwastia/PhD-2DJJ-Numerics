{
 "cells": [
  {
   "cell_type": "code",
   "execution_count": 1,
   "metadata": {},
   "outputs": [],
   "source": [
    "import numpy as np\n",
    "import sympy, scipy, cmath\n",
    "from sympy import *\n",
    "#from sympy import symbols\n",
    "#from sympy.solvers.solveset import nonlinsolve\n",
    "from scipy import sparse as sp\n",
    "#from scipy import linalg as ln\n",
    "from scipy import optimize as opt\n",
    "from scipy.sparse import  coo_matrix as cmm\n",
    "from matplotlib import pyplot as pp"
   ]
  },
  {
   "cell_type": "code",
   "execution_count": 8,
   "metadata": {},
   "outputs": [],
   "source": [
    "#Parameters\n",
    "#global kx,mu, m, t, alR, B, kF, a, al, delta, phi, delL, delR, nu0, tL, tR, NJ, eye2, s1, s2, s3, tP, tM, t3\n",
    "\n",
    "kx=0.\n",
    "\n",
    "mu=1.8\n",
    "m=.5\n",
    "t=1\n",
    "alR=0.\n",
    "def mut(kx):\n",
    "    return mu-2*t-kx**2/(2*m)-alR**2*m/2\n",
    "B=0.5\n",
    "kF=np.sqrt(2*m*mu)\n",
    "\n",
    "a=1/np.sqrt(2*m*t)\n",
    "al=alR/a\n",
    "\n",
    "delta=0.3\n",
    "phi=np.pi\n",
    "def delL(phi):\n",
    "    return delta*cmath.exp(1j*phi/2)\n",
    "def delR(phi):\n",
    "    return delta*cmath.exp(-1j*phi/2)\n",
    "nu0=m/(2*np.pi)\n",
    "def xiE(En):\n",
    "    return kF/(m*cmath.sqrt(delta**2-En**2))\n",
    "\n",
    "tL=2\n",
    "tR=tL\n",
    "GammaL=np.pi*nu0*tL**2 #=m*tL**2/2\n",
    "GammaR=np.pi*nu0*tR**2 #=m*tR**2/2\n",
    "\n",
    "NJ=1\n",
    "\n",
    "ET=np.pi/2*kF/m/(NJ*a)\n",
    "\n",
    "#matrix tools\n",
    "eye2=np.eye(2)\n",
    "eye4=np.eye(4)\n",
    "s1=[[0,1],[1,0]]\n",
    "s2=[[0,-1j],[1j,0]]\n",
    "s3=[[1,0],[0,-1]]\n",
    "tP=np.kron([[0,1],[0,0]],eye2)\n",
    "tM=np.kron([[0,0],[1,0]],eye2)\n",
    "t3=np.kron(s3,eye2)"
   ]
  },
  {
   "cell_type": "code",
   "execution_count": 9,
   "metadata": {},
   "outputs": [],
   "source": [
    "#Junction\n",
    "def HJ0(kx):\n",
    "    return -mut(kx)*t3+alR*kx*np.kron(s3,s2)+B*np.kron(eye2,s1)\n",
    "Hy=-t*t3+1j*al/2*np.kron(s3,s1)\n",
    "\n",
    "\n",
    "def HJ(kx):\n",
    "    start=cmm(HJ0(kx))\n",
    "    HJs=start\n",
    "    for n in range(2,NJ+1):\n",
    "        OT=cmm(np.zeros([len(HJs.toarray())-4,4]))\n",
    "        BT=sp.vstack([OT,cmm(Hy)])\n",
    "        CT=sp.hstack([OT.transpose(),cmm(Hy.conj().T),start])\n",
    "        HJs=sp.hstack([HJs,BT])\n",
    "        HJs=sp.vstack([HJs,CT])\n",
    "    return HJs\n",
    "\n",
    "def gJm1(En,kx):\n",
    "    return En*np.eye(4*NJ)-HJ(kx).toarray()\n",
    "\n",
    "#Superconductors\n",
    "# xiE-> infty to avoid more symbolic:\n",
    "#def fL(kx):\n",
    "#    return 1/(kF*a)*(np.log(1-np.exp(1j*a*(kF+kx)))+np.log(1-np.exp(1j*a*(kF-kx))))-1j\n",
    "\n",
    "def fL(En,kx):\n",
    "    return 1/(kF*a)*(cmath.log(1-cmath.exp(-a/xiE(En)+1j*a*(kF+kx)))+cmath.log(1-cmath.exp(-a/xiE(En)+1j*a*(kF-kx))))-1j\n",
    "\n",
    "def gSC1m1(En,kx,phi):\n",
    "    return 1/(np.pi*nu0*abs(fL(En,kx))**2)*((En*eye4 - delL(phi)*tP - np.conj(delL(phi))*tM)*\\\n",
    "                                                 fL(En,kx).imag/cmath.sqrt(delta**2 - En**2) - fL(En,kx).real*t3)\n",
    "\n",
    "def gSC2m1(En,kx,phi):\n",
    "    return 1/(np.pi*nu0*abs(fL(En,kx))**2)*((En*eye4 - delR(phi)*tP - np.conj(delR(phi))*tM)*\\\n",
    "                                                 fL(En,kx).imag/cmath.sqrt(delta**2 - En**2) - fL(En,kx).real*t3)\n",
    "\n",
    "#SC/J coupling\n",
    "rowindex=np.array([1,2,3,4,4*NJ+1,4*NJ+2,4*NJ+3,4*NJ+4])-1\n",
    "colindex=np.array([5,6,7,8,4*(NJ+1)+1,4*(NJ+1)+2,4*(NJ+1)+3,4*(NJ+1)+4])-1\n",
    "hoppings=[tL,tL,-tL,-tL,tR,tR,-tR,-tR]\n",
    "mHt1=cmm((hoppings,(rowindex,colindex)),shape=(4*(NJ+2),4*(NJ+2)))\n",
    "mHt=mHt1+mHt1.transpose()\n",
    "\n",
    "#total inverse GF\n",
    "def Gtotm1(En,kx,phi):\n",
    "    return scipy.linalg.block_diag(gSC1m1(En,kx,phi),gJm1(En,kx),gSC2m1(En,kx,phi))+mHt.toarray()"
   ]
  },
  {
   "cell_type": "code",
   "execution_count": 10,
   "metadata": {
    "scrolled": true
   },
   "outputs": [
    {
     "name": "stdout",
     "output_type": "stream",
     "text": [
      "0\n",
      "[]\n",
      "1\n",
      "[]\n",
      "2\n"
     ]
    },
    {
     "name": "stderr",
     "output_type": "stream",
     "text": [
      "/usr/local/lib/python2.7/site-packages/ipykernel_launcher.py:26: RuntimeWarning: divide by zero encountered in divide\n",
      "/usr/local/lib/python2.7/site-packages/ipykernel_launcher.py:26: RuntimeWarning: invalid value encountered in divide\n"
     ]
    },
    {
     "name": "stdout",
     "output_type": "stream",
     "text": [
      "[]\n",
      "3\n",
      "[]\n",
      "4\n",
      "[]\n",
      "5\n",
      "[0.2511999, -0.2511999]\n",
      "6\n",
      "[-0.2319313, 0.2319313]\n",
      "7\n",
      "[0.2097804, -0.2097804]\n",
      "8\n",
      "[0.1849925, -0.1849925]\n",
      "9\n",
      "[0.157868, -0.157868]\n",
      "10\n",
      "[-0.128765, 0.128765]\n",
      "11\n",
      "[0.1604689, -0.1604689]\n",
      "12\n",
      "[0.1324099, -0.1324099]\n",
      "13\n",
      "[-0.1030873, 0.1030873]\n",
      "14\n",
      "[-0.0741249, 0.0741249]\n",
      "15\n",
      "[0.0561558, -0.0561558]\n",
      "16\n",
      "[-0.0741249, 0.0741249]\n",
      "17\n",
      "[-0.1030873, 0.1030873]\n"
     ]
    }
   ],
   "source": [
    "L=30 #phi decimation\n",
    "phiarray=np.arange(L+1)*2*np.pi/L#/5+np.pi*4/5\n",
    "EJdisp=np.zeros((4*(NJ+2),L+1)) #2*NJ when single site =1 & 4*NJ when mutliple sites\n",
    "for j in range(L+1):\n",
    "    print(j)\n",
    "    ekx=[]\n",
    "    phi=phiarray[j]\n",
    "    def fdet(En):\n",
    "        return np.linalg.det(Gtotm1(En,kx,phi))/(mu**(8*NJ)) #here change between isolated junction and total system\n",
    "    #jtmm=[-5+0.1*opq for opq in range(51)]\n",
    "    x0roots=np.ndarray.tolist(np.linspace(-delta,delta,np.int(2*delta/0.1)))\n",
    "    #x0roots.extend(jtmm)\n",
    "    for i in range(len(x0roots)):\n",
    "        x0=x0roots[i]\n",
    "        solekx=opt.fsolve(fdet,np.asarray(x0))\n",
    "        if abs(fdet(solekx))>10**(-11) or abs(solekx)>=delta:\n",
    "            solekx=[]\n",
    "        solekx=np.ndarray.tolist(np.around(solekx,7))\n",
    "        ekx.extend(solekx)\n",
    "    ekx=list(set(ekx))\n",
    "    print(ekx)\n",
    "    if len(ekx)<4*(NJ+2):\n",
    "        zerocompletion=[delta]*(4*(NJ+2)-len(ekx))\n",
    "        ekx.extend(zerocompletion)\n",
    "    elif len(ekx)>4*(NJ+2):\n",
    "        print(\"Too many roots.\")\n",
    "        break\n",
    "    for p in range(4*(NJ+2)):\n",
    "        EJdisp[p,j]=np.asarray(ekx[p])\n",
    "    \n",
    "    if j==np.ceil(1.1*L/2):\n",
    "        break"
   ]
  },
  {
   "cell_type": "code",
   "execution_count": 11,
   "metadata": {},
   "outputs": [
    {
     "data": {
      "image/png": "[encoded data removed]",
      "text/plain": [
       "<Figure size 432x288 with 1 Axes>"
      ]
     },
     "metadata": {},
     "output_type": "display_data"
    }
   ],
   "source": [
    "for p in range(len(EJdisp)):\n",
    "    pp.plot(phiarray,EJdisp[p],'.')\n",
    "#pp.axis([0,2*np.pi,.95,1.1])"
   ]
  },
  {
   "cell_type": "code",
   "execution_count": 32,
   "metadata": {
    "scrolled": true
   },
   "outputs": [
    {
     "name": "stdout",
     "output_type": "stream",
     "text": [
      "(0.36, 0.36, 0.3, 2.107444419312218)\n"
     ]
    }
   ],
   "source": [
    "print(GammaL,GammaR,delta,ET)"
   ]
  },
  {
   "cell_type": "code",
   "execution_count": 67,
   "metadata": {
    "scrolled": true
   },
   "outputs": [
    {
     "data": {
      "text/plain": [
       "[1, 2, 3, -0.5, -2]"
      ]
     },
     "execution_count": 67,
     "metadata": {},
     "output_type": "execute_result"
    }
   ],
   "source": [
    "list1"
   ]
  },
  {
   "cell_type": "code",
   "execution_count": 305,
   "metadata": {},
   "outputs": [
    {
     "data": {
      "text/plain": [
       "[-0.005, 0.005, -1e-10, 1e-10]"
      ]
     },
     "execution_count": 305,
     "metadata": {},
     "output_type": "execute_result"
    },
    {
     "data": {
      "image/png": "[encoded data removed]",
      "text/plain": [
       "<Figure size 432x288 with 1 Axes>"
      ]
     },
     "metadata": {},
     "output_type": "display_data"
    }
   ],
   "source": [
    "xarray=np.linspace(-0.004,0.004,1000)\n",
    "yarray=np.array([fdet(xarray[l]) for l in range(len(xarray))])\n",
    "pp.plot(xarray,yarray)\n",
    "pp.axis([-0.005,0.005,-0.0000000001,0.0000000001])"
   ]
  },
  {
   "cell_type": "code",
   "execution_count": 292,
   "metadata": {},
   "outputs": [
    {
     "data": {
      "text/plain": [
       "1.87"
      ]
     },
     "execution_count": 292,
     "metadata": {},
     "output_type": "execute_result"
    }
   ],
   "source": [
    "mu"
   ]
  },
  {
   "cell_type": "code",
   "execution_count": 133,
   "metadata": {},
   "outputs": [
    {
     "data": {
      "text/plain": [
       "2.23606797749979"
      ]
     },
     "execution_count": 133,
     "metadata": {},
     "output_type": "execute_result"
    }
   ],
   "source": [
    "np.sqrt(5)"
   ]
  },
  {
   "cell_type": "code",
   "execution_count": null,
   "metadata": {},
   "outputs": [],
   "source": []
  }
 ],
 "metadata": {
  "kernelspec": {
   "display_name": "Python 3",
   "language": "python",
   "name": "python3"
  },
  "language_info": {
   "codemirror_mode": {
    "name": "ipython",
    "version": 2
   },
   "file_extension": ".py",
   "mimetype": "text/x-python",
   "name": "python",
   "nbconvert_exporter": "python",
   "pygments_lexer": "ipython2",
   "version": "2.7.13"
  }
 },
 "nbformat": 4,
 "nbformat_minor": 2
}
