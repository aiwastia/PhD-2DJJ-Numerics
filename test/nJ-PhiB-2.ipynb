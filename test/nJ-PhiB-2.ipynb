{
 "cells": [
  {
   "cell_type": "code",
   "execution_count": 142,
   "metadata": {},
   "outputs": [],
   "source": [
    "import numpy as np\n",
    "import sympy, scipy, cmath\n",
    "from sympy import *\n",
    "#from sympy import symbols\n",
    "#from sympy.solvers.solveset import nonlinsolve\n",
    "from scipy import sparse as sp\n",
    "#from scipy import linalg as ln\n",
    "from scipy import optimize as opt\n",
    "from scipy.sparse import  coo_matrix as cmm\n",
    "from matplotlib import pyplot as pp"
   ]
  },
  {
   "cell_type": "code",
   "execution_count": 169,
   "metadata": {},
   "outputs": [
    {
     "name": "stdout",
     "output_type": "stream",
     "text": [
      "(1.0, 0.5, 1.4049629462081452)\n"
     ]
    }
   ],
   "source": [
    "#Parameters\n",
    "#global kx,mu, m, t, alR, B, kF, a, al, delta, phi, delL, delR, nu0, tL, tR, NJ, eye2, s1, s2, s3, tP, tM, t3\n",
    "\n",
    "kx=0.\n",
    "\n",
    "mu=1.8 #attention keep float\n",
    "m=.5\n",
    "t=1\n",
    "alR=0.\n",
    "def mut(kx):\n",
    "    return mu-2*t-kx**2/(2*m)-alR**2*m/2\n",
    "B=2     #looped\n",
    "kF=np.sqrt(2*m*mu)\n",
    "\n",
    "a=1/np.sqrt(2*m*t)\n",
    "al=alR/a\n",
    "\n",
    "delta=.5\n",
    "phi=np.pi-0.0001    #looped\n",
    "def delL(phi):\n",
    "    return delta*cmath.exp(1j*phi/2)\n",
    "def delR(phi):\n",
    "    return delta*cmath.exp(-1j*phi/2)\n",
    "nu0=m/(2*np.pi)\n",
    "def xiE(En):\n",
    "    return kF/(m*cmath.sqrt(delta**2-En**2))\n",
    "\n",
    "tL=2\n",
    "tR=tL\n",
    "#def TT(B):\n",
    "#    return -mut(0)+np.sqrt(t**2+B**2)\n",
    "\n",
    "GammaL=np.pi*nu0*tL**2 #=m*tL**2/2\n",
    "GammaR=np.pi*nu0*tR**2 #=m*tR**2/2\n",
    "\n",
    "NJ=3\n",
    "\n",
    "ET=np.pi/2*kF/m/(NJ*a)\n",
    "\n",
    "print(GammaL,delta,ET)\n",
    "\n",
    "#matrix tools\n",
    "eye2=np.eye(2)\n",
    "eye4=np.eye(4)\n",
    "s1=[[0,1],[1,0]]\n",
    "s2=[[0,-1j],[1j,0]]\n",
    "s3=[[1,0],[0,-1]]\n",
    "tP=np.kron([[0,1],[0,0]],eye2)\n",
    "tM=np.kron([[0,0],[1,0]],eye2)\n",
    "t3=np.kron(s3,eye2)"
   ]
  },
  {
   "cell_type": "code",
   "execution_count": 170,
   "metadata": {},
   "outputs": [],
   "source": [
    "#Junction\n",
    "def HJ0(kx):\n",
    "    return -mut(kx)*t3+alR*kx*np.kron(s3,s2)+B*np.kron(eye2,s1)\n",
    "Hy=-t*t3+1j*al/2*np.kron(s3,s1)\n",
    "\n",
    "\n",
    "def HJ(kx):\n",
    "    start=cmm(HJ0(kx))\n",
    "    HJs=start\n",
    "    for n in range(2,NJ+1):\n",
    "        OT=cmm(np.zeros([len(HJs.toarray())-4,4]))\n",
    "        BT=sp.vstack([OT,cmm(Hy)])\n",
    "        CT=sp.hstack([OT.transpose(),cmm(Hy.conj().T),start])\n",
    "        HJs=sp.hstack([HJs,BT])\n",
    "        HJs=sp.vstack([HJs,CT])\n",
    "    return HJs\n",
    "\n",
    "def gJm1(En,kx):\n",
    "    return En*np.eye(4*NJ)-HJ(kx).toarray()\n",
    "\n",
    "#Superconductors\n",
    "# xiE-> infty to avoid more symbolic:\n",
    "#def fL(kx):\n",
    "#    return 1/(kF*a)*(np.log(1-np.exp(1j*a*(kF+kx)))+np.log(1-np.exp(1j*a*(kF-kx))))-1j\n",
    "\n",
    "def fL(En,kx):\n",
    "    return 1/(kF*a)*(cmath.log(1-cmath.exp(-a/xiE(En)+1j*a*(kF+kx)))+cmath.log(1-cmath.exp(-a/xiE(En)+1j*a*(kF-kx))))-1j\n",
    "\n",
    "def gSC1m1(En,kx,phi):\n",
    "    return 1/(np.pi*nu0*abs(fL(En,kx))**2)*((En*eye4 - delL(phi)*tP - np.conj(delL(phi))*tM)*\\\n",
    "                                                 fL(En,kx).imag/cmath.sqrt(delta**2 - En**2) - fL(En,kx).real*t3)\n",
    "\n",
    "def gSC2m1(En,kx,phi):\n",
    "    return 1/(np.pi*nu0*abs(fL(En,kx))**2)*((En*eye4 - delR(phi)*tP - np.conj(delR(phi))*tM)*\\\n",
    "                                                 fL(En,kx).imag/cmath.sqrt(delta**2 - En**2) - fL(En,kx).real*t3)\n",
    "\n",
    "#SC/J coupling\n",
    "rowindex=np.array([1,2,3,4,4*NJ+1,4*NJ+2,4*NJ+3,4*NJ+4])-1\n",
    "colindex=np.array([5,6,7,8,4*(NJ+1)+1,4*(NJ+1)+2,4*(NJ+1)+3,4*(NJ+1)+4])-1\n",
    "hoppings=[tL,tL,-tL,-tL,tR,tR,-tR,-tR]\n",
    "mHt1=cmm((hoppings,(rowindex,colindex)),shape=(4*(NJ+2),4*(NJ+2)))\n",
    "mHt=mHt1+mHt1.transpose()\n",
    "\n",
    "#total inverse GF\n",
    "def Gtotm1(En,kx,phi):\n",
    "    return scipy.linalg.block_diag(gSC1m1(En,kx,phi),gJm1(En,kx),gSC2m1(En,kx,phi))+mHt.toarray()"
   ]
  },
  {
   "cell_type": "code",
   "execution_count": 171,
   "metadata": {
    "scrolled": true
   },
   "outputs": [
    {
     "name": "stdout",
     "output_type": "stream",
     "text": [
      "0\n",
      "[]\n",
      "1\n",
      "[]\n",
      "2\n",
      "[2.7012, 3.582]\n",
      "3\n",
      "[2.3091]\n",
      "4\n",
      "[1.9397]\n",
      "5\n",
      "[1.5495]\n",
      "6\n",
      "[1.0946]\n",
      "7\n",
      "[0.3655]\n",
      "8\n",
      "[]\n",
      "9\n",
      "[]\n",
      "10\n",
      "[]\n",
      "11\n",
      "[]\n",
      "12\n",
      "[]\n",
      "13\n",
      "[]\n",
      "14\n",
      "[]\n",
      "15\n",
      "[]\n",
      "16\n",
      "[]\n",
      "17\n",
      "[]\n",
      "18\n",
      "[]\n",
      "19\n",
      "[]\n",
      "20\n",
      "[]\n",
      "21\n",
      "[]\n",
      "22\n",
      "[0.6747]\n",
      "23\n",
      "[1.4534]\n",
      "24\n",
      "[2.0526]\n",
      "25\n",
      "[2.6371]\n",
      "26\n",
      "[]\n",
      "27\n",
      "[2.4308]\n",
      "28\n",
      "[1.5277]\n",
      "29\n",
      "[]\n",
      "30\n",
      "[]\n",
      "31\n",
      "[]\n",
      "32\n",
      "[]\n",
      "33\n",
      "[]\n",
      "34\n",
      "[]\n",
      "35\n",
      "[]\n",
      "36\n",
      "[]\n",
      "37\n",
      "[]\n",
      "38\n",
      "[]\n",
      "39\n",
      "[]\n",
      "40\n",
      "[]\n",
      "41\n",
      "[]\n",
      "42\n",
      "[]\n",
      "43\n",
      "[]\n",
      "44\n",
      "[]\n",
      "45\n",
      "[]\n",
      "46\n",
      "[]\n",
      "47\n",
      "[]\n",
      "48\n",
      "[]\n",
      "49\n",
      "[]\n",
      "50\n",
      "[]\n"
     ]
    }
   ],
   "source": [
    "M=50\n",
    "Barray=np.linspace(0,5,M+1)\n",
    "#Barray1=np.ndarray.tolist(np.linspace(3.2,3.https://www.youtube.com/?hl=FR3,20))\n",
    "#Barray2=np.ndarray.tolist(np.linspace(9.15,9.45,40))\n",
    "#Barray3=np.ndarray.tolist(np.linspace(2.9,3.1,30))\n",
    "#Barray=[1]#np.asarray(Barray1+Barray2)#+Barray3)\n",
    "#M=len(Barray)-1\n",
    "\n",
    "PDphi=np.zeros((M+1,4))\n",
    "\n",
    "En=0\n",
    "zerogap=0.0000001\n",
    "\n",
    "for qq in range(M+1):\n",
    "    B=Barray[qq]\n",
    "    print(qq)\n",
    "    ekxphi=[]\n",
    "    def fdet(phi):\n",
    "        return np.linalg.det(Gtotm1(En,kx,phi))/(mu**(4*NJ))\n",
    "    x0roots=np.ndarray.tolist(np.linspace(0,np.pi,6))\n",
    "    for i in range(len(x0roots)):\n",
    "        x0=x0roots[i]\n",
    "        solekx=opt.fsolve(fdet,np.asarray(x0))\n",
    "        if abs(fdet(solekx))>zerogap or solekx>2*np.pi+0.1 or solekx<0:\n",
    "            solekx=[]\n",
    "        solekx=np.ndarray.tolist(np.around(solekx,4))\n",
    "        ekxphi.extend(solekx)\n",
    "    ekxphi=list(set(ekxphi))\n",
    "    print(ekxphi)\n",
    "    if len(ekxphi)<4:\n",
    "        zerocompletion=[0]*(4-len(ekxphi))\n",
    "        ekxphi.extend(zerocompletion)\n",
    "    elif len(ekxphi)>4:\n",
    "        print(\"Too many roots.\")\n",
    "        break\n",
    "    PDphi[qq]=np.asarray(ekxphi)"
   ]
  },
  {
   "cell_type": "code",
   "execution_count": 172,
   "metadata": {},
   "outputs": [
    {
     "data": {
      "image/png": "[encoded data removed]",
      "text/plain": [
       "<Figure size 432x288 with 1 Axes>"
      ]
     },
     "metadata": {},
     "output_type": "display_data"
    }
   ],
   "source": [
    "for p in range(len(PDphi[0])):\n",
    "    pp.plot(Barray,PDphi[:,p],'.')\n",
    "#pp.plot(3.26,np.pi,'*')\n",
    "#pp.plot(9.26,np.pi,'*')\n",
    "#pp.axis([3.1,3.5,2.5,3.7])"
   ]
  },
  {
   "cell_type": "code",
   "execution_count": 166,
   "metadata": {},
   "outputs": [
    {
     "data": {
      "text/plain": [
       "9.875"
      ]
     },
     "execution_count": 166,
     "metadata": {},
     "output_type": "execute_result"
    }
   ],
   "source": [
    "75*0.01+1.25"
   ]
  },
  {
   "cell_type": "code",
   "execution_count": null,
   "metadata": {},
   "outputs": [],
   "source": []
  },
  {
   "cell_type": "code",
   "execution_count": null,
   "metadata": {},
   "outputs": [],
   "source": []
  },
  {
   "cell_type": "code",
   "execution_count": null,
   "metadata": {},
   "outputs": [],
   "source": []
  },
  {
   "cell_type": "code",
   "execution_count": 154,
   "metadata": {},
   "outputs": [
    {
     "data": {
      "image/png": "[encoded data removed]",
      "text/plain": [
       "<Figure size 432x288 with 1 Axes>"
      ]
     },
     "metadata": {},
     "output_type": "display_data"
    }
   ],
   "source": [
    "for p in range(len(PDphi[0])):\n",
    "    pp.plot(Barray,PDphi[:,p],'.')\n",
    "#pp.plot(3.26,np.pi,'*')\n",
    "#pp.plot(9.26,np.pi,'*')\n",
    "#pp.axis([3.1,3.5,2.5,3.7])"
   ]
  },
  {
   "cell_type": "code",
   "execution_count": null,
   "metadata": {},
   "outputs": [],
   "source": []
  },
  {
   "cell_type": "code",
   "execution_count": null,
   "metadata": {},
   "outputs": [],
   "source": []
  },
  {
   "cell_type": "code",
   "execution_count": 148,
   "metadata": {
    "scrolled": true
   },
   "outputs": [
    {
     "data": {
      "text/plain": [
       "array([0. , 0.1, 0.2, 0.3, 0.4, 0.5, 0.6, 0.7, 0.8, 0.9, 1. , 1.1, 1.2,\n",
       "       1.3, 1.4, 1.5, 1.6, 1.7, 1.8, 1.9, 2. , 2.1, 2.2, 2.3, 2.4, 2.5,\n",
       "       2.6, 2.7, 2.8, 2.9, 3. , 3.1, 3.2, 3.3, 3.4, 3.5, 3.6, 3.7, 3.8,\n",
       "       3.9, 4. , 4.1, 4.2, 4.3, 4.4, 4.5, 4.6, 4.7, 4.8, 4.9, 5. ])"
      ]
     },
     "execution_count": 148,
     "metadata": {},
     "output_type": "execute_result"
    }
   ],
   "source": [
    "Barray"
   ]
  },
  {
   "cell_type": "code",
   "execution_count": 127,
   "metadata": {},
   "outputs": [
    {
     "data": {
      "text/plain": [
       "5.548052626239574"
      ]
     },
     "execution_count": 127,
     "metadata": {},
     "output_type": "execute_result"
    }
   ],
   "source": [
    "B=2.00585\n",
    "ppk=np.arange(1000)*2*np.pi/1000\n",
    "detppk=[np.linalg.det(Gtotm1(0,0,ppk[j]))/(mu**(4*(NJ+0))) for j in range(len(ppk))]\n",
    "ppk[np.argmin(detppk)]"
   ]
  },
  {
   "cell_type": "code",
   "execution_count": 120,
   "metadata": {},
   "outputs": [
    {
     "data": {
      "text/plain": [
       "[<matplotlib.lines.Line2D at 0x7fd9af7f4490>]"
      ]
     },
     "execution_count": 120,
     "metadata": {},
     "output_type": "execute_result"
    },
    {
     "data": {
      "image/png": "[encoded data removed]",
      "text/plain": [
       "<Figure size 432x288 with 1 Axes>"
      ]
     },
     "metadata": {},
     "output_type": "display_data"
    }
   ],
   "source": [
    "pp.plot(ppk,detppk)\n",
    "pp.plot(ppk,np.zeros(len(ppk)))\n",
    "#pp.axis([0,2*np.pi,0,10**-11])"
   ]
  },
  {
   "cell_type": "code",
   "execution_count": 129,
   "metadata": {},
   "outputs": [],
   "source": [
    "uhgf=ppk[np.argmin(detppk)]\n",
    "zer=(-uhgf)%(2*np.pi)"
   ]
  },
  {
   "cell_type": "code",
   "execution_count": 130,
   "metadata": {},
   "outputs": [
    {
     "name": "stdout",
     "output_type": "stream",
     "text": [
      "(5.548052626239574, 0.735132680940012)\n"
     ]
    }
   ],
   "source": [
    "print(uhgf,zer)"
   ]
  },
  {
   "cell_type": "code",
   "execution_count": null,
   "metadata": {},
   "outputs": [],
   "source": []
  }
 ],
 "metadata": {
  "kernelspec": {
   "display_name": "Python 3",
   "language": "python",
   "name": "python3"
  },
  "language_info": {
   "codemirror_mode": {
    "name": "ipython",
    "version": 2
   },
   "file_extension": ".py",
   "mimetype": "text/x-python",
   "name": "python",
   "nbconvert_exporter": "python",
   "pygments_lexer": "ipython2",
   "version": "2.7.13"
  }
 },
 "nbformat": 4,
 "nbformat_minor": 2
}
